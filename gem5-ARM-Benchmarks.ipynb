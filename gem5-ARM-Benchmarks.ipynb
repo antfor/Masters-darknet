{
 "cells": [
  {
   "cell_type": "markdown",
   "id": "01f08edd",
   "metadata": {},
   "source": [
    "# GEM5 ARM"
   ]
  },
  {
   "cell_type": "code",
   "execution_count": 5,
   "id": "dacd2a99",
   "metadata": {},
   "outputs": [],
   "source": [
    "import os\n",
    "import numpy as np\n",
    "import matplotlib.pyplot as plt\n",
    "from enum import Enum"
   ]
  },
  {
   "cell_type": "markdown",
   "id": "fba9a540",
   "metadata": {},
   "source": [
    "### vars"
   ]
  },
  {
   "cell_type": "code",
   "execution_count": 6,
   "id": "a932c2a7",
   "metadata": {},
   "outputs": [],
   "source": [
    "#gem5Path = '/home/anton/Master/tools/gem5/gem5-Arm/' \n",
    "#build = 'build/X86/gem5.opt'\n",
    "gem5Path = '/home/fft_vec/gem5/'\n",
    "build = 'build/ARM/gem5.opt'\n",
    "\n",
    "gem5 = gem5Path + build\n",
    "\n",
    "baseDir = './bench/'  + build.replace('.', '-').replace('/','-') + '/'"
   ]
  },
  {
   "cell_type": "code",
   "execution_count": 7,
   "id": "62c4a9a4",
   "metadata": {},
   "outputs": [],
   "source": [
    "config = gem5Path + 'configs/example/se.py'"
   ]
  },
  {
   "cell_type": "code",
   "execution_count": 8,
   "id": "373de66c",
   "metadata": {},
   "outputs": [],
   "source": [
    "defultOption = \"--cpu-type=TimingSimpleCPU --cpu-clock=2GHz --l1d_size=64kB --l1i_size=16kB --caches\"\n",
    "defultOption = \"--cpu-clock=2GHz --l1d_size=64kB --l1i_size=16kB --caches\""
   ]
  },
  {
   "cell_type": "code",
   "execution_count": 9,
   "id": "be40e636",
   "metadata": {},
   "outputs": [],
   "source": [
    "darknet = './darknet'\n",
    "yolo20 = 'bench_yolo-20l'\n",
    "#yolo = 'bench_yolo'\n",
    "yolo = 'bench_yolo-tiny'\n",
    "#vgg = 'todo' \n",
    "#darknet19 = 'bench_darknet19'\n",
    "#test = \"\""
   ]
  },
  {
   "cell_type": "code",
   "execution_count": 10,
   "id": "845e9659",
   "metadata": {},
   "outputs": [],
   "source": [
    "armCompileOptions = 'CC=aarch64-none-linux-gnu-gcc CPP=aarch64-none-linux-gnu-g++' "
   ]
  },
  {
   "cell_type": "code",
   "execution_count": 11,
   "id": "b956401e",
   "metadata": {},
   "outputs": [],
   "source": [
    "class Program(Enum):\n",
    "    BASELINE = 0\n",
    "    NNPACK_FT8 = 1\n",
    "    NO_PREDICT = 2\n",
    "    NO_PREDICT_NPP = 3\n",
    "    NNPACK_GEMM = 4\n",
    "    NNPACK_FT16 = 5\n",
    "    NNPACK_WT = 6\n",
    "    NNPACK_DIRECT = 7"
   ]
  },
  {
   "cell_type": "markdown",
   "id": "a1d28d4d",
   "metadata": {},
   "source": [
    "## utils"
   ]
  },
  {
   "cell_type": "code",
   "execution_count": 12,
   "id": "b35e75f0",
   "metadata": {},
   "outputs": [],
   "source": [
    "def make(program):\n",
    "    \n",
    "    values = \"\"\n",
    "    \n",
    "    match program:\n",
    "        case Program.BASELINE: values = 'NNPACK=0'        \n",
    "        case Program.NNPACK_FT8:   values = 'NNPACK=1 FT8=1'\n",
    "        case Program.NNPACK_FT16:   values = 'NNPACK=1 FT16=1'\n",
    "        case Program.NNPACK_WT:   values = 'NNPACK=1 WT=1'\n",
    "        case Program.NNPACK_GEMM: values = 'NNPACK=1 GEMM=1' \n",
    "        case Program.NO_PREDICT_NPP: values = 'NNPACK=1 NO_PREDICT=1 FT8=1' \n",
    "        case Program.NO_PREDICT: values = 'NNPACK=0 NO_PREDICT=1' \n",
    "        \n",
    "    cmd = 'make clean; make'+ ' ' + values + ' ' + armCompileOptions\n",
    "    print('\\n',cmd,'\\n')\n",
    "    os.system(cmd) "
   ]
  },
  {
   "cell_type": "code",
   "execution_count": 13,
   "id": "b8d96f05",
   "metadata": {},
   "outputs": [],
   "source": [
    "def optionsToSubDir(benchmark, program, tag):\n",
    "    \n",
    "    if benchmark == '':\n",
    "        benchmark = 'NAN' \n",
    "    \n",
    "    programStr = 'NAN'\n",
    "    \n",
    "    match program:\n",
    "        case Program.BASELINE: programStr = 'BASELINE'        \n",
    "        case Program.NNPACK_FT8:   programStr = 'FT8'\n",
    "        case Program.NNPACK_FT16:   programStr = 'FT16'\n",
    "        case Program.NNPACK_WT:   programStr = 'WT'\n",
    "        case Program.NNPACK_GEMM: programStr = 'GEMM' \n",
    "        case Program.NO_PREDICT_NPP: programStr = 'NO_PREDICT_NPP' \n",
    "        case Program.NO_PREDICT: programStr = 'NO_PREDICT' \n",
    "\n",
    "    path = '/'.join([benchmark,programStr,tag]) + '/'\n",
    "    \n",
    "    return path"
   ]
  },
  {
   "cell_type": "code",
   "execution_count": 14,
   "id": "e749436e",
   "metadata": {},
   "outputs": [],
   "source": [
    "def cyclesToSetup(program,option,benchmark_to_run,tag):\n",
    "    make(program);\n",
    "    out = bench(benchmark_to_run,option,program, tag)\n",
    "    print(out)\n",
    "    #data=[]\n",
    "    data = readData([out])[0]\n",
    "    print(data)\n",
    "    return (out, data)\n",
    "\n",
    "def cyclesOptions(program,options,benchmark_to_run,tags):  \n",
    "    data = []\n",
    "    out = []\n",
    "    for i in range(len(options)):\n",
    "        result = cyclesToSetup(program,options[i],benchmark_to_run,tags[i])\n",
    "        data.append(result[0])\n",
    "        out.append(result[1])\n",
    "        \n",
    "    return (out,data)\n",
    "    \n",
    "\n",
    "#def cyclesToSetup_baseline(benchmark_to_run):\n",
    "#    return cyclesToSetup(Program.NO_PREDICT,benchmark_to_run,'setup_baseline')\n",
    "\n",
    "def cyclesToSetup_npp(benchmark_to_run,options,tags):\n",
    "    return cyclesOptions(Program.NO_PREDICT_NPP,options,benchmark_to_run,tags)"
   ]
  },
  {
   "cell_type": "code",
   "execution_count": 15,
   "id": "9be48141",
   "metadata": {},
   "outputs": [],
   "source": [
    "def readData(Dirs):\n",
    "    data = []\n",
    "    names = ['simTicks']\n",
    "    for Dir in Dirs: \n",
    "    \n",
    "        result = []\n",
    "    \n",
    "        file = Dir+'stats.txt'\n",
    "        print(\"reading data from file: \",file,\"\\n \")\n",
    "        with open(file, 'r') as fp:\n",
    "            lines = fp.readlines()\n",
    "            for row in lines:\n",
    "                for name in names:\n",
    "                    if row.find(name) == 0:\n",
    "                        value = int(row.split()[1])\n",
    "                        result.append((name,value))\n",
    "    \n",
    "        data.append(result)                \n",
    "        \n",
    "    return data"
   ]
  },
  {
   "cell_type": "code",
   "execution_count": 16,
   "id": "1e538f5a",
   "metadata": {},
   "outputs": [],
   "source": [
    "def bench(benchmark, options, program, tag):\n",
    "\n",
    "    outDir =  baseDir + optionsToSubDir(benchmark, program, tag)\n",
    "    out = '--outdir='+ outDir\n",
    "    \n",
    "    binary = '-c ' + '\"'+ darknet  + '\"' + ' --options ' + '\"' + benchmark + '\"'\n",
    "    \n",
    "    cmd = ' '.join([gem5,out,config,defultOption,'--output=stdout.txt  --errout=stderr.txt',options,binary])\n",
    "   \n",
    "    print(cmd + '\\n\\n')\n",
    "    \n",
    "    os.system(cmd)\n",
    "    \n",
    "    return(outDir)"
   ]
  },
  {
   "cell_type": "code",
   "execution_count": 17,
   "id": "f82d8104",
   "metadata": {},
   "outputs": [],
   "source": [
    "def run_benchmark(benchmark, options, nnpack, tag):\n",
    "    out = bench(benchmark, options, nnpack, tag)\n",
    "    return(out)"
   ]
  },
  {
   "cell_type": "code",
   "execution_count": 18,
   "id": "c750a6e8",
   "metadata": {},
   "outputs": [],
   "source": [
    "def benchOptions(benchmark, optionsList, program, tags):\n",
    "    \n",
    "    n = len(optionsList)\n",
    "    \n",
    "    out = [None] * n\n",
    "    \n",
    "    for i in range(n):\n",
    "        out[i] = run_benchmark(benchmark, optionsList[i], program, tags[i])\n",
    "        \n",
    "    return(out)"
   ]
  },
  {
   "cell_type": "code",
   "execution_count": 19,
   "id": "17316b87",
   "metadata": {},
   "outputs": [],
   "source": [
    "def benchOptionsMatrix(benchmark, options1, options2, nnpack, tags1, tags2): #to bench vector and l2 chace\n",
    "    options =[opt1 + ' ' + opt2 for opt1 in options1 for opt2 in options2]\n",
    "    tags = [tag1 + '_' + tag2 for tag1 in tags1 for tag2 in tags2]\n",
    "    \n",
    "    out = benchOptions(benchmark, options, nnpack, tags) \n",
    "    return(out)"
   ]
  },
  {
   "cell_type": "markdown",
   "id": "64896ebd",
   "metadata": {},
   "source": [
    "### util graphs"
   ]
  },
  {
   "cell_type": "code",
   "execution_count": 20,
   "id": "ffae44a3",
   "metadata": {},
   "outputs": [],
   "source": [
    "def plotChaceVsCycle(chaces,data, setupcosts):\n",
    "    cycles=[]\n",
    "    print(\"run whitout prediction--..: \", setupcosts)\n",
    "    print(\"complete run--..: \", data)\n",
    "    for i in range(len(data)):\n",
    "        cycles.append(data[i][0][1] - setupcosts[i][0][1])\n",
    "    \n",
    "    fig = plt.figure()\n",
    "    ax = fig.add_axes([0,0,1,1])\n",
    "    print(cycles)\n",
    "    print(chaces)\n",
    "    ax.bar(chaces,cycles)\n",
    "    plt.show()\n",
    "    \n",
    "    "
   ]
  },
  {
   "cell_type": "code",
   "execution_count": 21,
   "id": "4a8c6e03",
   "metadata": {},
   "outputs": [],
   "source": [
    "def runandPlot(program,benchmark_to_run ,options, tags, setup_costs ):\n",
    "    make(program)\n",
    "    out = benchOptions(benchmark_to_run,options,program,tags)\n",
    "    print(out)\n",
    "    \n",
    "    data = readData(out)\n",
    "    print(data)\n",
    "    print(setup_costs)\n",
    "    \n",
    "    plotChaceVsCycle(tags[::-1],data[::-1], setup_costs[0][::-1])\n",
    "    return(out,data)\n",
    "    "
   ]
  },
  {
   "cell_type": "code",
   "execution_count": 22,
   "id": "2f588e3e",
   "metadata": {},
   "outputs": [],
   "source": [
    "def readandplot(dirs,x_line,setupticks):\n",
    "    y_line = readData(dirs)\n",
    "    ms = readData(setupticks[1])\n",
    "    plotChaceVsCycle(x_line[::-1],y_line[::-1], ms[::-1])\n",
    "    "
   ]
  },
  {
   "cell_type": "markdown",
   "id": "a07b4619",
   "metadata": {},
   "source": [
    "# X86 YOLO and L2 chace"
   ]
  },
  {
   "cell_type": "code",
   "execution_count": 23,
   "id": "a100c7b5",
   "metadata": {},
   "outputs": [],
   "source": [
    "#yolo = ''"
   ]
  },
  {
   "cell_type": "code",
   "execution_count": 24,
   "id": "edae7335",
   "metadata": {},
   "outputs": [
    {
     "data": {
      "text/plain": [
       "['--l2_size=64MB --l2cache']"
      ]
     },
     "execution_count": 24,
     "metadata": {},
     "output_type": "execute_result"
    }
   ],
   "source": [
    "chaceSizes = ['256MB','64MB','8MB','1MB']\n",
    "chaceSizes = ['64MB']\n",
    "chaceOptions = ['--l2_size=' + size + ' --l2cache' for size in chaceSizes]\n",
    "chaceOptions"
   ]
  },
  {
   "cell_type": "code",
   "execution_count": 25,
   "id": "8dafd80d",
   "metadata": {},
   "outputs": [
    {
     "name": "stdout",
     "output_type": "stream",
     "text": [
      "\n",
      " make clean; make NNPACK=1 NO_PREDICT=1 FT8=1 CC=aarch64-none-linux-gnu-gcc CPP=aarch64-none-linux-gnu-g++ \n",
      "\n",
      "rm -rf ./obj/gemm.o ./obj/utils.o ./obj/cuda.o ./obj/deconvolutional_layer.o ./obj/convolutional_layer.o ./obj/list.o ./obj/image.o ./obj/activations.o ./obj/im2col.o ./obj/col2im.o ./obj/blas.o ./obj/crop_layer.o ./obj/dropout_layer.o ./obj/maxpool_layer.o ./obj/softmax_layer.o ./obj/data.o ./obj/matrix.o ./obj/network.o ./obj/connected_layer.o ./obj/cost_layer.o ./obj/parser.o ./obj/option_list.o ./obj/detection_layer.o ./obj/route_layer.o ./obj/upsample_layer.o ./obj/box.o ./obj/normalization_layer.o ./obj/avgpool_layer.o ./obj/layer.o ./obj/local_layer.o ./obj/shortcut_layer.o ./obj/logistic_layer.o ./obj/activation_layer.o ./obj/rnn_layer.o ./obj/gru_layer.o ./obj/crnn_layer.o ./obj/demo.o ./obj/batchnorm_layer.o ./obj/region_layer.o ./obj/reorg_layer.o ./obj/tree.o ./obj/lstm_layer.o ./obj/l2norm_layer.o ./obj/yolo_layer.o ./obj/iseg_layer.o ./obj/image_opencv.o libdarknet.so libdarknet.a darknet ./obj/captcha.o ./obj/lsd.o ./obj/super.o ./obj/art.o ./obj/tag.o ./obj/cifar.o ./obj/go.o ./obj/rnn.o ./obj/segmenter.o ./obj/regressor.o ./obj/classifier.o ./obj/coco.o ./obj/yolo.o ./obj/detector.o ./obj/nightmare.o ./obj/instance-segmenter.o ./obj/darknet.o ./obj/test.o ./obj//*\n",
      "NNPACK=1\n",
      "NO_PREDICT=1\n",
      "FT8=1\n",
      "CPP=aarch64-none-linux-gnu-g++\n",
      "CC=aarch64-none-linux-gnu-gcc\n",
      "aarch64-none-linux-gnu-gcc -Iinclude/ -Isrc/ -Wall -Wno-unused-result -Wno-unknown-pragmas -Wfatal-errors -static -Ofast -fno-tree-vectorize -DNNPACK -DNO_PREDICT -DFT8 -c ./src/gemm.c -o obj/gemm.o\n",
      "aarch64-none-linux-gnu-gcc -Iinclude/ -Isrc/ -Wall -Wno-unused-result -Wno-unknown-pragmas -Wfatal-errors -static -Ofast -fno-tree-vectorize -DNNPACK -DNO_PREDICT -DFT8 -c ./src/utils.c -o obj/utils.o\n"
     ]
    },
    {
     "name": "stderr",
     "output_type": "stream",
     "text": [
      "In function ‘copy_string’,\n",
      "    inlined from ‘basecfg’ at ./src/utils.c:187:9:\n",
      "./src/utils.c:426:5: warning: ‘strncpy’ specified bound depends on the length of the source argument [-Wstringop-overflow=]\n",
      "  426 |     strncpy(copy, s, strlen(s)+1);\n",
      "      |     ^~~~~~~~~~~~~~~~~~~~~~~~~~~~~\n",
      "./src/utils.c: In function ‘basecfg’:\n",
      "./src/utils.c:426:22: note: length computed here\n",
      "  426 |     strncpy(copy, s, strlen(s)+1);\n",
      "      |                      ^~~~~~~~~\n",
      "./src/utils.c: In function ‘copy_string’:\n",
      "./src/utils.c:426:5: warning: ‘strncpy’ specified bound depends on the length of the source argument [-Wstringop-overflow=]\n",
      "  426 |     strncpy(copy, s, strlen(s)+1);\n",
      "      |     ^~~~~~~~~~~~~~~~~~~~~~~~~~~~~\n",
      "./src/utils.c:426:22: note: length computed here\n",
      "  426 |     strncpy(copy, s, strlen(s)+1);\n",
      "      |                      ^~~~~~~~~\n",
      "In function ‘copy_string’,\n",
      "    inlined from ‘parse_csv_line’ at ./src/utils.c:439:28:\n",
      "./src/utils.c:426:5: warning: ‘strncpy’ specified bound depends on the length of the source argument [-Wstringop-overflow=]\n",
      "  426 |     strncpy(copy, s, strlen(s)+1);\n",
      "      |     ^~~~~~~~~~~~~~~~~~~~~~~~~~~~~\n",
      "./src/utils.c: In function ‘parse_csv_line’:\n",
      "./src/utils.c:426:22: note: length computed here\n",
      "  426 |     strncpy(copy, s, strlen(s)+1);\n",
      "      |                      ^~~~~~~~~\n",
      "In function ‘copy_string’,\n",
      "    inlined from ‘parse_csv_line’ at ./src/utils.c:443:20:\n",
      "./src/utils.c:426:5: warning: ‘strncpy’ specified bound depends on the length of the source argument [-Wstringop-overflow=]\n",
      "  426 |     strncpy(copy, s, strlen(s)+1);\n",
      "      |     ^~~~~~~~~~~~~~~~~~~~~~~~~~~~~\n",
      "./src/utils.c: In function ‘parse_csv_line’:\n",
      "./src/utils.c:426:22: note: length computed here\n",
      "  426 |     strncpy(copy, s, strlen(s)+1);\n",
      "      |                      ^~~~~~~~~\n"
     ]
    },
    {
     "name": "stdout",
     "output_type": "stream",
     "text": [
      "aarch64-none-linux-gnu-gcc -Iinclude/ -Isrc/ -Wall -Wno-unused-result -Wno-unknown-pragmas -Wfatal-errors -static -Ofast -fno-tree-vectorize -DNNPACK -DNO_PREDICT -DFT8 -c ./src/cuda.c -o obj/cuda.o\n",
      "aarch64-none-linux-gnu-gcc -Iinclude/ -Isrc/ -Wall -Wno-unused-result -Wno-unknown-pragmas -Wfatal-errors -static -Ofast -fno-tree-vectorize -DNNPACK -DNO_PREDICT -DFT8 -c ./src/deconvolutional_layer.c -o obj/deconvolutional_layer.o\n",
      "aarch64-none-linux-gnu-gcc -Iinclude/ -Isrc/ -Wall -Wno-unused-result -Wno-unknown-pragmas -Wfatal-errors -static -Ofast -fno-tree-vectorize -DNNPACK -DNO_PREDICT -DFT8 -c ./src/convolutional_layer.c -o obj/convolutional_layer.o\n",
      "aarch64-none-linux-gnu-gcc -Iinclude/ -Isrc/ -Wall -Wno-unused-result -Wno-unknown-pragmas -Wfatal-errors -static -Ofast -fno-tree-vectorize -DNNPACK -DNO_PREDICT -DFT8 -c ./src/list.c -o obj/list.o\n",
      "aarch64-none-linux-gnu-gcc -Iinclude/ -Isrc/ -Wall -Wno-unused-result -Wno-unknown-pragmas -Wfatal-errors -static -Ofast -fno-tree-vectorize -DNNPACK -DNO_PREDICT -DFT8 -c ./src/image.c -o obj/image.o\n",
      "aarch64-none-linux-gnu-gcc -Iinclude/ -Isrc/ -Wall -Wno-unused-result -Wno-unknown-pragmas -Wfatal-errors -static -Ofast -fno-tree-vectorize -DNNPACK -DNO_PREDICT -DFT8 -c ./src/activations.c -o obj/activations.o\n",
      "aarch64-none-linux-gnu-gcc -Iinclude/ -Isrc/ -Wall -Wno-unused-result -Wno-unknown-pragmas -Wfatal-errors -static -Ofast -fno-tree-vectorize -DNNPACK -DNO_PREDICT -DFT8 -c ./src/im2col.c -o obj/im2col.o\n",
      "aarch64-none-linux-gnu-gcc -Iinclude/ -Isrc/ -Wall -Wno-unused-result -Wno-unknown-pragmas -Wfatal-errors -static -Ofast -fno-tree-vectorize -DNNPACK -DNO_PREDICT -DFT8 -c ./src/col2im.c -o obj/col2im.o\n",
      "aarch64-none-linux-gnu-gcc -Iinclude/ -Isrc/ -Wall -Wno-unused-result -Wno-unknown-pragmas -Wfatal-errors -static -Ofast -fno-tree-vectorize -DNNPACK -DNO_PREDICT -DFT8 -c ./src/blas.c -o obj/blas.o\n",
      "aarch64-none-linux-gnu-gcc -Iinclude/ -Isrc/ -Wall -Wno-unused-result -Wno-unknown-pragmas -Wfatal-errors -static -Ofast -fno-tree-vectorize -DNNPACK -DNO_PREDICT -DFT8 -c ./src/crop_layer.c -o obj/crop_layer.o\n",
      "aarch64-none-linux-gnu-gcc -Iinclude/ -Isrc/ -Wall -Wno-unused-result -Wno-unknown-pragmas -Wfatal-errors -static -Ofast -fno-tree-vectorize -DNNPACK -DNO_PREDICT -DFT8 -c ./src/dropout_layer.c -o obj/dropout_layer.o\n",
      "aarch64-none-linux-gnu-gcc -Iinclude/ -Isrc/ -Wall -Wno-unused-result -Wno-unknown-pragmas -Wfatal-errors -static -Ofast -fno-tree-vectorize -DNNPACK -DNO_PREDICT -DFT8 -c ./src/maxpool_layer.c -o obj/maxpool_layer.o\n",
      "aarch64-none-linux-gnu-gcc -Iinclude/ -Isrc/ -Wall -Wno-unused-result -Wno-unknown-pragmas -Wfatal-errors -static -Ofast -fno-tree-vectorize -DNNPACK -DNO_PREDICT -DFT8 -c ./src/softmax_layer.c -o obj/softmax_layer.o\n",
      "aarch64-none-linux-gnu-gcc -Iinclude/ -Isrc/ -Wall -Wno-unused-result -Wno-unknown-pragmas -Wfatal-errors -static -Ofast -fno-tree-vectorize -DNNPACK -DNO_PREDICT -DFT8 -c ./src/data.c -o obj/data.o\n",
      "aarch64-none-linux-gnu-gcc -Iinclude/ -Isrc/ -Wall -Wno-unused-result -Wno-unknown-pragmas -Wfatal-errors -static -Ofast -fno-tree-vectorize -DNNPACK -DNO_PREDICT -DFT8 -c ./src/matrix.c -o obj/matrix.o\n",
      "aarch64-none-linux-gnu-gcc -Iinclude/ -Isrc/ -Wall -Wno-unused-result -Wno-unknown-pragmas -Wfatal-errors -static -Ofast -fno-tree-vectorize -DNNPACK -DNO_PREDICT -DFT8 -c ./src/network.c -o obj/network.o\n",
      "aarch64-none-linux-gnu-gcc -Iinclude/ -Isrc/ -Wall -Wno-unused-result -Wno-unknown-pragmas -Wfatal-errors -static -Ofast -fno-tree-vectorize -DNNPACK -DNO_PREDICT -DFT8 -c ./src/connected_layer.c -o obj/connected_layer.o\n",
      "aarch64-none-linux-gnu-gcc -Iinclude/ -Isrc/ -Wall -Wno-unused-result -Wno-unknown-pragmas -Wfatal-errors -static -Ofast -fno-tree-vectorize -DNNPACK -DNO_PREDICT -DFT8 -c ./src/cost_layer.c -o obj/cost_layer.o\n",
      "aarch64-none-linux-gnu-gcc -Iinclude/ -Isrc/ -Wall -Wno-unused-result -Wno-unknown-pragmas -Wfatal-errors -static -Ofast -fno-tree-vectorize -DNNPACK -DNO_PREDICT -DFT8 -c ./src/parser.c -o obj/parser.o\n",
      "aarch64-none-linux-gnu-gcc -Iinclude/ -Isrc/ -Wall -Wno-unused-result -Wno-unknown-pragmas -Wfatal-errors -static -Ofast -fno-tree-vectorize -DNNPACK -DNO_PREDICT -DFT8 -c ./src/option_list.c -o obj/option_list.o\n",
      "aarch64-none-linux-gnu-gcc -Iinclude/ -Isrc/ -Wall -Wno-unused-result -Wno-unknown-pragmas -Wfatal-errors -static -Ofast -fno-tree-vectorize -DNNPACK -DNO_PREDICT -DFT8 -c ./src/detection_layer.c -o obj/detection_layer.o\n",
      "aarch64-none-linux-gnu-gcc -Iinclude/ -Isrc/ -Wall -Wno-unused-result -Wno-unknown-pragmas -Wfatal-errors -static -Ofast -fno-tree-vectorize -DNNPACK -DNO_PREDICT -DFT8 -c ./src/route_layer.c -o obj/route_layer.o\n",
      "aarch64-none-linux-gnu-gcc -Iinclude/ -Isrc/ -Wall -Wno-unused-result -Wno-unknown-pragmas -Wfatal-errors -static -Ofast -fno-tree-vectorize -DNNPACK -DNO_PREDICT -DFT8 -c ./src/upsample_layer.c -o obj/upsample_layer.o\n",
      "aarch64-none-linux-gnu-gcc -Iinclude/ -Isrc/ -Wall -Wno-unused-result -Wno-unknown-pragmas -Wfatal-errors -static -Ofast -fno-tree-vectorize -DNNPACK -DNO_PREDICT -DFT8 -c ./src/box.c -o obj/box.o\n",
      "aarch64-none-linux-gnu-gcc -Iinclude/ -Isrc/ -Wall -Wno-unused-result -Wno-unknown-pragmas -Wfatal-errors -static -Ofast -fno-tree-vectorize -DNNPACK -DNO_PREDICT -DFT8 -c ./src/normalization_layer.c -o obj/normalization_layer.o\n",
      "aarch64-none-linux-gnu-gcc -Iinclude/ -Isrc/ -Wall -Wno-unused-result -Wno-unknown-pragmas -Wfatal-errors -static -Ofast -fno-tree-vectorize -DNNPACK -DNO_PREDICT -DFT8 -c ./src/avgpool_layer.c -o obj/avgpool_layer.o\n",
      "aarch64-none-linux-gnu-gcc -Iinclude/ -Isrc/ -Wall -Wno-unused-result -Wno-unknown-pragmas -Wfatal-errors -static -Ofast -fno-tree-vectorize -DNNPACK -DNO_PREDICT -DFT8 -c ./src/layer.c -o obj/layer.o\n",
      "aarch64-none-linux-gnu-gcc -Iinclude/ -Isrc/ -Wall -Wno-unused-result -Wno-unknown-pragmas -Wfatal-errors -static -Ofast -fno-tree-vectorize -DNNPACK -DNO_PREDICT -DFT8 -c ./src/local_layer.c -o obj/local_layer.o\n",
      "aarch64-none-linux-gnu-gcc -Iinclude/ -Isrc/ -Wall -Wno-unused-result -Wno-unknown-pragmas -Wfatal-errors -static -Ofast -fno-tree-vectorize -DNNPACK -DNO_PREDICT -DFT8 -c ./src/shortcut_layer.c -o obj/shortcut_layer.o\n",
      "aarch64-none-linux-gnu-gcc -Iinclude/ -Isrc/ -Wall -Wno-unused-result -Wno-unknown-pragmas -Wfatal-errors -static -Ofast -fno-tree-vectorize -DNNPACK -DNO_PREDICT -DFT8 -c ./src/logistic_layer.c -o obj/logistic_layer.o\n",
      "aarch64-none-linux-gnu-gcc -Iinclude/ -Isrc/ -Wall -Wno-unused-result -Wno-unknown-pragmas -Wfatal-errors -static -Ofast -fno-tree-vectorize -DNNPACK -DNO_PREDICT -DFT8 -c ./src/activation_layer.c -o obj/activation_layer.o\n",
      "aarch64-none-linux-gnu-gcc -Iinclude/ -Isrc/ -Wall -Wno-unused-result -Wno-unknown-pragmas -Wfatal-errors -static -Ofast -fno-tree-vectorize -DNNPACK -DNO_PREDICT -DFT8 -c ./src/rnn_layer.c -o obj/rnn_layer.o\n",
      "aarch64-none-linux-gnu-gcc -Iinclude/ -Isrc/ -Wall -Wno-unused-result -Wno-unknown-pragmas -Wfatal-errors -static -Ofast -fno-tree-vectorize -DNNPACK -DNO_PREDICT -DFT8 -c ./src/gru_layer.c -o obj/gru_layer.o\n",
      "aarch64-none-linux-gnu-gcc -Iinclude/ -Isrc/ -Wall -Wno-unused-result -Wno-unknown-pragmas -Wfatal-errors -static -Ofast -fno-tree-vectorize -DNNPACK -DNO_PREDICT -DFT8 -c ./src/crnn_layer.c -o obj/crnn_layer.o\n",
      "aarch64-none-linux-gnu-gcc -Iinclude/ -Isrc/ -Wall -Wno-unused-result -Wno-unknown-pragmas -Wfatal-errors -static -Ofast -fno-tree-vectorize -DNNPACK -DNO_PREDICT -DFT8 -c ./src/demo.c -o obj/demo.o\n",
      "aarch64-none-linux-gnu-gcc -Iinclude/ -Isrc/ -Wall -Wno-unused-result -Wno-unknown-pragmas -Wfatal-errors -static -Ofast -fno-tree-vectorize -DNNPACK -DNO_PREDICT -DFT8 -c ./src/batchnorm_layer.c -o obj/batchnorm_layer.o\n",
      "aarch64-none-linux-gnu-gcc -Iinclude/ -Isrc/ -Wall -Wno-unused-result -Wno-unknown-pragmas -Wfatal-errors -static -Ofast -fno-tree-vectorize -DNNPACK -DNO_PREDICT -DFT8 -c ./src/region_layer.c -o obj/region_layer.o\n",
      "aarch64-none-linux-gnu-gcc -Iinclude/ -Isrc/ -Wall -Wno-unused-result -Wno-unknown-pragmas -Wfatal-errors -static -Ofast -fno-tree-vectorize -DNNPACK -DNO_PREDICT -DFT8 -c ./src/reorg_layer.c -o obj/reorg_layer.o\n",
      "aarch64-none-linux-gnu-gcc -Iinclude/ -Isrc/ -Wall -Wno-unused-result -Wno-unknown-pragmas -Wfatal-errors -static -Ofast -fno-tree-vectorize -DNNPACK -DNO_PREDICT -DFT8 -c ./src/tree.c -o obj/tree.o\n",
      "aarch64-none-linux-gnu-gcc -Iinclude/ -Isrc/ -Wall -Wno-unused-result -Wno-unknown-pragmas -Wfatal-errors -static -Ofast -fno-tree-vectorize -DNNPACK -DNO_PREDICT -DFT8 -c ./src/lstm_layer.c -o obj/lstm_layer.o\n"
     ]
    },
    {
     "name": "stdout",
     "output_type": "stream",
     "text": [
      "aarch64-none-linux-gnu-gcc -Iinclude/ -Isrc/ -Wall -Wno-unused-result -Wno-unknown-pragmas -Wfatal-errors -static -Ofast -fno-tree-vectorize -DNNPACK -DNO_PREDICT -DFT8 -c ./src/l2norm_layer.c -o obj/l2norm_layer.o\n",
      "aarch64-none-linux-gnu-gcc -Iinclude/ -Isrc/ -Wall -Wno-unused-result -Wno-unknown-pragmas -Wfatal-errors -static -Ofast -fno-tree-vectorize -DNNPACK -DNO_PREDICT -DFT8 -c ./src/yolo_layer.c -o obj/yolo_layer.o\n",
      "aarch64-none-linux-gnu-gcc -Iinclude/ -Isrc/ -Wall -Wno-unused-result -Wno-unknown-pragmas -Wfatal-errors -static -Ofast -fno-tree-vectorize -DNNPACK -DNO_PREDICT -DFT8 -c ./src/iseg_layer.c -o obj/iseg_layer.o\n",
      "aarch64-none-linux-gnu-g++ -Iinclude/ -Isrc/ -Wall -Wno-unused-result -Wno-unknown-pragmas -Wfatal-errors -static -Ofast -fno-tree-vectorize -DNNPACK -DNO_PREDICT -DFT8 -c ./src/image_opencv.cpp -o obj/image_opencv.o\n",
      "ar rcs libdarknet.a obj/gemm.o obj/utils.o obj/cuda.o obj/deconvolutional_layer.o obj/convolutional_layer.o obj/list.o obj/image.o obj/activations.o obj/im2col.o obj/col2im.o obj/blas.o obj/crop_layer.o obj/dropout_layer.o obj/maxpool_layer.o obj/softmax_layer.o obj/data.o obj/matrix.o obj/network.o obj/connected_layer.o obj/cost_layer.o obj/parser.o obj/option_list.o obj/detection_layer.o obj/route_layer.o obj/upsample_layer.o obj/box.o obj/normalization_layer.o obj/avgpool_layer.o obj/layer.o obj/local_layer.o obj/shortcut_layer.o obj/logistic_layer.o obj/activation_layer.o obj/rnn_layer.o obj/gru_layer.o obj/crnn_layer.o obj/demo.o obj/batchnorm_layer.o obj/region_layer.o obj/reorg_layer.o obj/tree.o obj/lstm_layer.o obj/l2norm_layer.o obj/yolo_layer.o obj/iseg_layer.o obj/image_opencv.o\n",
      "aarch64-none-linux-gnu-gcc -Iinclude/ -Isrc/ -Wall -Wno-unused-result -Wno-unknown-pragmas -Wfatal-errors -static -Ofast -fno-tree-vectorize -DNNPACK -DNO_PREDICT -DFT8 -c ./examples/captcha.c -o obj/captcha.o\n",
      "aarch64-none-linux-gnu-gcc -Iinclude/ -Isrc/ -Wall -Wno-unused-result -Wno-unknown-pragmas -Wfatal-errors -static -Ofast -fno-tree-vectorize -DNNPACK -DNO_PREDICT -DFT8 -c ./examples/lsd.c -o obj/lsd.o\n",
      "aarch64-none-linux-gnu-gcc -Iinclude/ -Isrc/ -Wall -Wno-unused-result -Wno-unknown-pragmas -Wfatal-errors -static -Ofast -fno-tree-vectorize -DNNPACK -DNO_PREDICT -DFT8 -c ./examples/super.c -o obj/super.o\n",
      "aarch64-none-linux-gnu-gcc -Iinclude/ -Isrc/ -Wall -Wno-unused-result -Wno-unknown-pragmas -Wfatal-errors -static -Ofast -fno-tree-vectorize -DNNPACK -DNO_PREDICT -DFT8 -c ./examples/art.c -o obj/art.o\n",
      "aarch64-none-linux-gnu-gcc -Iinclude/ -Isrc/ -Wall -Wno-unused-result -Wno-unknown-pragmas -Wfatal-errors -static -Ofast -fno-tree-vectorize -DNNPACK -DNO_PREDICT -DFT8 -c ./examples/tag.c -o obj/tag.o\n",
      "aarch64-none-linux-gnu-gcc -Iinclude/ -Isrc/ -Wall -Wno-unused-result -Wno-unknown-pragmas -Wfatal-errors -static -Ofast -fno-tree-vectorize -DNNPACK -DNO_PREDICT -DFT8 -c ./examples/cifar.c -o obj/cifar.o\n",
      "aarch64-none-linux-gnu-gcc -Iinclude/ -Isrc/ -Wall -Wno-unused-result -Wno-unknown-pragmas -Wfatal-errors -static -Ofast -fno-tree-vectorize -DNNPACK -DNO_PREDICT -DFT8 -c ./examples/go.c -o obj/go.o\n",
      "aarch64-none-linux-gnu-gcc -Iinclude/ -Isrc/ -Wall -Wno-unused-result -Wno-unknown-pragmas -Wfatal-errors -static -Ofast -fno-tree-vectorize -DNNPACK -DNO_PREDICT -DFT8 -c ./examples/rnn.c -o obj/rnn.o\n",
      "aarch64-none-linux-gnu-gcc -Iinclude/ -Isrc/ -Wall -Wno-unused-result -Wno-unknown-pragmas -Wfatal-errors -static -Ofast -fno-tree-vectorize -DNNPACK -DNO_PREDICT -DFT8 -c ./examples/segmenter.c -o obj/segmenter.o\n",
      "aarch64-none-linux-gnu-gcc -Iinclude/ -Isrc/ -Wall -Wno-unused-result -Wno-unknown-pragmas -Wfatal-errors -static -Ofast -fno-tree-vectorize -DNNPACK -DNO_PREDICT -DFT8 -c ./examples/regressor.c -o obj/regressor.o\n",
      "aarch64-none-linux-gnu-gcc -Iinclude/ -Isrc/ -Wall -Wno-unused-result -Wno-unknown-pragmas -Wfatal-errors -static -Ofast -fno-tree-vectorize -DNNPACK -DNO_PREDICT -DFT8 -c ./examples/classifier.c -o obj/classifier.o\n",
      "aarch64-none-linux-gnu-gcc -Iinclude/ -Isrc/ -Wall -Wno-unused-result -Wno-unknown-pragmas -Wfatal-errors -static -Ofast -fno-tree-vectorize -DNNPACK -DNO_PREDICT -DFT8 -c ./examples/coco.c -o obj/coco.o\n",
      "aarch64-none-linux-gnu-gcc -Iinclude/ -Isrc/ -Wall -Wno-unused-result -Wno-unknown-pragmas -Wfatal-errors -static -Ofast -fno-tree-vectorize -DNNPACK -DNO_PREDICT -DFT8 -c ./examples/yolo.c -o obj/yolo.o\n",
      "aarch64-none-linux-gnu-gcc -Iinclude/ -Isrc/ -Wall -Wno-unused-result -Wno-unknown-pragmas -Wfatal-errors -static -Ofast -fno-tree-vectorize -DNNPACK -DNO_PREDICT -DFT8 -c ./examples/detector.c -o obj/detector.o\n",
      "aarch64-none-linux-gnu-gcc -Iinclude/ -Isrc/ -Wall -Wno-unused-result -Wno-unknown-pragmas -Wfatal-errors -static -Ofast -fno-tree-vectorize -DNNPACK -DNO_PREDICT -DFT8 -c ./examples/nightmare.c -o obj/nightmare.o\n",
      "aarch64-none-linux-gnu-gcc -Iinclude/ -Isrc/ -Wall -Wno-unused-result -Wno-unknown-pragmas -Wfatal-errors -static -Ofast -fno-tree-vectorize -DNNPACK -DNO_PREDICT -DFT8 -c ./examples/instance-segmenter.c -o obj/instance-segmenter.o\n",
      "aarch64-none-linux-gnu-gcc -Iinclude/ -Isrc/ -Wall -Wno-unused-result -Wno-unknown-pragmas -Wfatal-errors -static -Ofast -fno-tree-vectorize -DNNPACK -DNO_PREDICT -DFT8 -c ./examples/darknet.c -o obj/darknet.o\n",
      "aarch64-none-linux-gnu-gcc -Iinclude/ -Isrc/ -Wall -Wno-unused-result -Wno-unknown-pragmas -Wfatal-errors -static -Ofast -fno-tree-vectorize -DNNPACK -DNO_PREDICT -DFT8 -c ./examples/test.c -o obj/test.o\n",
      "aarch64-none-linux-gnu-gcc -Iinclude/ -Isrc/ -Wall -Wno-unused-result -Wno-unknown-pragmas -Wfatal-errors -static -Ofast -fno-tree-vectorize -DNNPACK -DNO_PREDICT -DFT8 obj/captcha.o obj/lsd.o obj/super.o obj/art.o obj/tag.o obj/cifar.o obj/go.o obj/rnn.o obj/segmenter.o obj/regressor.o obj/classifier.o obj/coco.o obj/yolo.o obj/detector.o obj/nightmare.o obj/instance-segmenter.o obj/darknet.o obj/test.o libdarknet.a -o darknet -lm -pthread -L/home/fft_vec/arm-deps/usr/local/lib -l:libnnpack.a -l:libpthreadpool.a -l:libcpuinfo.a -l:libclog.a libdarknet.a\n",
      "/home/fft_vec/gem5/build/ARM/gem5.opt --outdir=./bench/build-ARM-gem5-opt/bench_yolo-tiny/NO_PREDICT_NPP/256MB/ /home/fft_vec/gem5/configs/example/se.py --cpu-clock=2GHz --l1d_size=64kB --l1i_size=16kB --caches --output=stdout.txt  --errout=stderr.txt --l2_size=256MB --l2cache -c \"./darknet\" --options \"bench_yolo-tiny\"\n",
      "\n",
      "\n"
     ]
    },
    {
     "name": "stderr",
     "output_type": "stream",
     "text": [
      "warn: The `get_runtime_isa` function is deprecated. Please migrate away from using this function.\n",
      "warn: The `get_runtime_isa` function is deprecated. Please migrate away from using this function.\n",
      "warn: No dot file generated. Please install pydot to generate the dot file and pdf.\n",
      "build/ARM/mem/dram_interface.cc:690: warn: DRAM device capacity (8192 Mbytes) does not match the address range assigned (512 Mbytes)\n"
     ]
    },
    {
     "name": "stdout",
     "output_type": "stream",
     "text": [
      "Global frequency set at 1000000000000 ticks per second\n"
     ]
    },
    {
     "name": "stderr",
     "output_type": "stream",
     "text": [
      "build/ARM/base/remote_gdb.cc:416: warn: Sockets disabled, not accepting gdb connections\n",
      "build/ARM/sim/simulate.cc:192: info: Entering event queue @ 0.  Starting simulation...\n",
      "build/ARM/sim/syscall_emul.cc:74: warn: ignoring syscall set_robust_list(...)\n",
      "build/ARM/sim/syscall_emul.cc:74: warn: ignoring syscall rt_sigaction(...)\n",
      "build/ARM/sim/syscall_emul.cc:74: warn: ignoring syscall rt_sigaction(...)\n",
      "build/ARM/sim/syscall_emul.cc:85: warn: ignoring syscall rt_sigprocmask(...)\n",
      "      (further warnings will be suppressed)\n",
      "build/ARM/arch/arm/insts/pseudo.cc:172: warn: \tinstruction 'bti' unimplemented\n",
      "build/ARM/sim/mem_state.cc:443: info: Increasing stack size by one page.\n",
      "build/ARM/sim/syscall_emul.cc:74: warn: ignoring syscall mprotect(...)\n",
      "build/ARM/sim/mem_state.cc:443: info: Increasing stack size by one page.\n"
     ]
    },
    {
     "name": "stdout",
     "output_type": "stream",
     "text": [
      "gem5 Simulator System.  https://www.gem5.org\n",
      "gem5 is copyrighted software; use the --copyright option for details.\n",
      "\n",
      "gem5 version 22.1.0.0\n",
      "gem5 compiled Jan 26 2023 15:06:33\n",
      "gem5 started Feb 15 2023 17:12:22\n",
      "gem5 executing on aldy, pid 1109744\n",
      "command line: /home/fft_vec/gem5/build/ARM/gem5.opt --outdir=./bench/build-ARM-gem5-opt/bench_yolo-tiny/NO_PREDICT_NPP/256MB/ /home/fft_vec/gem5/configs/example/se.py --cpu-clock=2GHz --l1d_size=64kB --l1i_size=16kB --caches --output=stdout.txt --errout=stderr.txt --l2_size=256MB --l2cache -c ./darknet --options bench_yolo-tiny\n",
      "\n",
      "info: Standard input is not a terminal, disabling listeners.\n",
      "**** REAL SIMULATION ****\n"
     ]
    },
    {
     "name": "stderr",
     "output_type": "stream",
     "text": [
      "build/ARM/sim/mem_state.cc:443: info: Increasing stack size by one page.\n",
      "build/ARM/sim/mem_state.cc:443: info: Increasing stack size by one page.\n"
     ]
    },
    {
     "name": "stdout",
     "output_type": "stream",
     "text": [
      "Exiting @ tick 1207515398000 because exiting with last active thread context\n",
      "./bench/build-ARM-gem5-opt/bench_yolo-tiny/NO_PREDICT_NPP/256MB/\n",
      "reading data from file:  ./bench/build-ARM-gem5-opt/bench_yolo-tiny/NO_PREDICT_NPP/256MB/stats.txt \n",
      " \n",
      "[('simTicks', 1207515398000)]\n",
      "\n",
      " make clean; make NNPACK=1 NO_PREDICT=1 FT8=1 CC=aarch64-none-linux-gnu-gcc CPP=aarch64-none-linux-gnu-g++ \n",
      "\n",
      "rm -rf ./obj/gemm.o ./obj/utils.o ./obj/cuda.o ./obj/deconvolutional_layer.o ./obj/convolutional_layer.o ./obj/list.o ./obj/image.o ./obj/activations.o ./obj/im2col.o ./obj/col2im.o ./obj/blas.o ./obj/crop_layer.o ./obj/dropout_layer.o ./obj/maxpool_layer.o ./obj/softmax_layer.o ./obj/data.o ./obj/matrix.o ./obj/network.o ./obj/connected_layer.o ./obj/cost_layer.o ./obj/parser.o ./obj/option_list.o ./obj/detection_layer.o ./obj/route_layer.o ./obj/upsample_layer.o ./obj/box.o ./obj/normalization_layer.o ./obj/avgpool_layer.o ./obj/layer.o ./obj/local_layer.o ./obj/shortcut_layer.o ./obj/logistic_layer.o ./obj/activation_layer.o ./obj/rnn_layer.o ./obj/gru_layer.o ./obj/crnn_layer.o ./obj/demo.o ./obj/batchnorm_layer.o ./obj/region_layer.o ./obj/reorg_layer.o ./obj/tree.o ./obj/lstm_layer.o ./obj/l2norm_layer.o ./obj/yolo_layer.o ./obj/iseg_layer.o ./obj/image_opencv.o libdarknet.so libdarknet.a darknet ./obj/captcha.o ./obj/lsd.o ./obj/super.o ./obj/art.o ./obj/tag.o ./obj/cifar.o ./obj/go.o ./obj/rnn.o ./obj/segmenter.o ./obj/regressor.o ./obj/classifier.o ./obj/coco.o ./obj/yolo.o ./obj/detector.o ./obj/nightmare.o ./obj/instance-segmenter.o ./obj/darknet.o ./obj/test.o ./obj//*\n",
      "NNPACK=1\n",
      "NO_PREDICT=1\n",
      "FT8=1\n",
      "CPP=aarch64-none-linux-gnu-g++\n",
      "CC=aarch64-none-linux-gnu-gcc\n",
      "aarch64-none-linux-gnu-gcc -Iinclude/ -Isrc/ -Wall -Wno-unused-result -Wno-unknown-pragmas -Wfatal-errors -static -Ofast -fno-tree-vectorize -DNNPACK -DNO_PREDICT -DFT8 -c ./src/gemm.c -o obj/gemm.o\n",
      "aarch64-none-linux-gnu-gcc -Iinclude/ -Isrc/ -Wall -Wno-unused-result -Wno-unknown-pragmas -Wfatal-errors -static -Ofast -fno-tree-vectorize -DNNPACK -DNO_PREDICT -DFT8 -c ./src/utils.c -o obj/utils.o\n"
     ]
    },
    {
     "name": "stderr",
     "output_type": "stream",
     "text": [
      "In function ‘copy_string’,\n",
      "    inlined from ‘basecfg’ at ./src/utils.c:187:9:\n",
      "./src/utils.c:426:5: warning: ‘strncpy’ specified bound depends on the length of the source argument [-Wstringop-overflow=]\n",
      "  426 |     strncpy(copy, s, strlen(s)+1);\n",
      "      |     ^~~~~~~~~~~~~~~~~~~~~~~~~~~~~\n",
      "./src/utils.c: In function ‘basecfg’:\n",
      "./src/utils.c:426:22: note: length computed here\n",
      "  426 |     strncpy(copy, s, strlen(s)+1);\n",
      "      |                      ^~~~~~~~~\n",
      "./src/utils.c: In function ‘copy_string’:\n",
      "./src/utils.c:426:5: warning: ‘strncpy’ specified bound depends on the length of the source argument [-Wstringop-overflow=]\n",
      "  426 |     strncpy(copy, s, strlen(s)+1);\n",
      "      |     ^~~~~~~~~~~~~~~~~~~~~~~~~~~~~\n",
      "./src/utils.c:426:22: note: length computed here\n",
      "  426 |     strncpy(copy, s, strlen(s)+1);\n",
      "      |                      ^~~~~~~~~\n",
      "In function ‘copy_string’,\n",
      "    inlined from ‘parse_csv_line’ at ./src/utils.c:439:28:\n",
      "./src/utils.c:426:5: warning: ‘strncpy’ specified bound depends on the length of the source argument [-Wstringop-overflow=]\n",
      "  426 |     strncpy(copy, s, strlen(s)+1);\n",
      "      |     ^~~~~~~~~~~~~~~~~~~~~~~~~~~~~\n",
      "./src/utils.c: In function ‘parse_csv_line’:\n",
      "./src/utils.c:426:22: note: length computed here\n",
      "  426 |     strncpy(copy, s, strlen(s)+1);\n",
      "      |                      ^~~~~~~~~\n",
      "In function ‘copy_string’,\n",
      "    inlined from ‘parse_csv_line’ at ./src/utils.c:443:20:\n",
      "./src/utils.c:426:5: warning: ‘strncpy’ specified bound depends on the length of the source argument [-Wstringop-overflow=]\n",
      "  426 |     strncpy(copy, s, strlen(s)+1);\n",
      "      |     ^~~~~~~~~~~~~~~~~~~~~~~~~~~~~\n",
      "./src/utils.c: In function ‘parse_csv_line’:\n",
      "./src/utils.c:426:22: note: length computed here\n",
      "  426 |     strncpy(copy, s, strlen(s)+1);\n",
      "      |                      ^~~~~~~~~\n"
     ]
    },
    {
     "name": "stdout",
     "output_type": "stream",
     "text": [
      "aarch64-none-linux-gnu-gcc -Iinclude/ -Isrc/ -Wall -Wno-unused-result -Wno-unknown-pragmas -Wfatal-errors -static -Ofast -fno-tree-vectorize -DNNPACK -DNO_PREDICT -DFT8 -c ./src/cuda.c -o obj/cuda.o\n",
      "aarch64-none-linux-gnu-gcc -Iinclude/ -Isrc/ -Wall -Wno-unused-result -Wno-unknown-pragmas -Wfatal-errors -static -Ofast -fno-tree-vectorize -DNNPACK -DNO_PREDICT -DFT8 -c ./src/deconvolutional_layer.c -o obj/deconvolutional_layer.o\n",
      "aarch64-none-linux-gnu-gcc -Iinclude/ -Isrc/ -Wall -Wno-unused-result -Wno-unknown-pragmas -Wfatal-errors -static -Ofast -fno-tree-vectorize -DNNPACK -DNO_PREDICT -DFT8 -c ./src/convolutional_layer.c -o obj/convolutional_layer.o\n",
      "aarch64-none-linux-gnu-gcc -Iinclude/ -Isrc/ -Wall -Wno-unused-result -Wno-unknown-pragmas -Wfatal-errors -static -Ofast -fno-tree-vectorize -DNNPACK -DNO_PREDICT -DFT8 -c ./src/list.c -o obj/list.o\n",
      "aarch64-none-linux-gnu-gcc -Iinclude/ -Isrc/ -Wall -Wno-unused-result -Wno-unknown-pragmas -Wfatal-errors -static -Ofast -fno-tree-vectorize -DNNPACK -DNO_PREDICT -DFT8 -c ./src/image.c -o obj/image.o\n",
      "aarch64-none-linux-gnu-gcc -Iinclude/ -Isrc/ -Wall -Wno-unused-result -Wno-unknown-pragmas -Wfatal-errors -static -Ofast -fno-tree-vectorize -DNNPACK -DNO_PREDICT -DFT8 -c ./src/activations.c -o obj/activations.o\n",
      "aarch64-none-linux-gnu-gcc -Iinclude/ -Isrc/ -Wall -Wno-unused-result -Wno-unknown-pragmas -Wfatal-errors -static -Ofast -fno-tree-vectorize -DNNPACK -DNO_PREDICT -DFT8 -c ./src/im2col.c -o obj/im2col.o\n",
      "aarch64-none-linux-gnu-gcc -Iinclude/ -Isrc/ -Wall -Wno-unused-result -Wno-unknown-pragmas -Wfatal-errors -static -Ofast -fno-tree-vectorize -DNNPACK -DNO_PREDICT -DFT8 -c ./src/col2im.c -o obj/col2im.o\n",
      "aarch64-none-linux-gnu-gcc -Iinclude/ -Isrc/ -Wall -Wno-unused-result -Wno-unknown-pragmas -Wfatal-errors -static -Ofast -fno-tree-vectorize -DNNPACK -DNO_PREDICT -DFT8 -c ./src/blas.c -o obj/blas.o\n",
      "aarch64-none-linux-gnu-gcc -Iinclude/ -Isrc/ -Wall -Wno-unused-result -Wno-unknown-pragmas -Wfatal-errors -static -Ofast -fno-tree-vectorize -DNNPACK -DNO_PREDICT -DFT8 -c ./src/crop_layer.c -o obj/crop_layer.o\n",
      "aarch64-none-linux-gnu-gcc -Iinclude/ -Isrc/ -Wall -Wno-unused-result -Wno-unknown-pragmas -Wfatal-errors -static -Ofast -fno-tree-vectorize -DNNPACK -DNO_PREDICT -DFT8 -c ./src/dropout_layer.c -o obj/dropout_layer.o\n",
      "aarch64-none-linux-gnu-gcc -Iinclude/ -Isrc/ -Wall -Wno-unused-result -Wno-unknown-pragmas -Wfatal-errors -static -Ofast -fno-tree-vectorize -DNNPACK -DNO_PREDICT -DFT8 -c ./src/maxpool_layer.c -o obj/maxpool_layer.o\n",
      "aarch64-none-linux-gnu-gcc -Iinclude/ -Isrc/ -Wall -Wno-unused-result -Wno-unknown-pragmas -Wfatal-errors -static -Ofast -fno-tree-vectorize -DNNPACK -DNO_PREDICT -DFT8 -c ./src/softmax_layer.c -o obj/softmax_layer.o\n",
      "aarch64-none-linux-gnu-gcc -Iinclude/ -Isrc/ -Wall -Wno-unused-result -Wno-unknown-pragmas -Wfatal-errors -static -Ofast -fno-tree-vectorize -DNNPACK -DNO_PREDICT -DFT8 -c ./src/data.c -o obj/data.o\n",
      "aarch64-none-linux-gnu-gcc -Iinclude/ -Isrc/ -Wall -Wno-unused-result -Wno-unknown-pragmas -Wfatal-errors -static -Ofast -fno-tree-vectorize -DNNPACK -DNO_PREDICT -DFT8 -c ./src/matrix.c -o obj/matrix.o\n",
      "aarch64-none-linux-gnu-gcc -Iinclude/ -Isrc/ -Wall -Wno-unused-result -Wno-unknown-pragmas -Wfatal-errors -static -Ofast -fno-tree-vectorize -DNNPACK -DNO_PREDICT -DFT8 -c ./src/network.c -o obj/network.o\n",
      "aarch64-none-linux-gnu-gcc -Iinclude/ -Isrc/ -Wall -Wno-unused-result -Wno-unknown-pragmas -Wfatal-errors -static -Ofast -fno-tree-vectorize -DNNPACK -DNO_PREDICT -DFT8 -c ./src/connected_layer.c -o obj/connected_layer.o\n",
      "aarch64-none-linux-gnu-gcc -Iinclude/ -Isrc/ -Wall -Wno-unused-result -Wno-unknown-pragmas -Wfatal-errors -static -Ofast -fno-tree-vectorize -DNNPACK -DNO_PREDICT -DFT8 -c ./src/cost_layer.c -o obj/cost_layer.o\n",
      "aarch64-none-linux-gnu-gcc -Iinclude/ -Isrc/ -Wall -Wno-unused-result -Wno-unknown-pragmas -Wfatal-errors -static -Ofast -fno-tree-vectorize -DNNPACK -DNO_PREDICT -DFT8 -c ./src/parser.c -o obj/parser.o\n",
      "aarch64-none-linux-gnu-gcc -Iinclude/ -Isrc/ -Wall -Wno-unused-result -Wno-unknown-pragmas -Wfatal-errors -static -Ofast -fno-tree-vectorize -DNNPACK -DNO_PREDICT -DFT8 -c ./src/option_list.c -o obj/option_list.o\n",
      "aarch64-none-linux-gnu-gcc -Iinclude/ -Isrc/ -Wall -Wno-unused-result -Wno-unknown-pragmas -Wfatal-errors -static -Ofast -fno-tree-vectorize -DNNPACK -DNO_PREDICT -DFT8 -c ./src/detection_layer.c -o obj/detection_layer.o\n",
      "aarch64-none-linux-gnu-gcc -Iinclude/ -Isrc/ -Wall -Wno-unused-result -Wno-unknown-pragmas -Wfatal-errors -static -Ofast -fno-tree-vectorize -DNNPACK -DNO_PREDICT -DFT8 -c ./src/route_layer.c -o obj/route_layer.o\n",
      "aarch64-none-linux-gnu-gcc -Iinclude/ -Isrc/ -Wall -Wno-unused-result -Wno-unknown-pragmas -Wfatal-errors -static -Ofast -fno-tree-vectorize -DNNPACK -DNO_PREDICT -DFT8 -c ./src/upsample_layer.c -o obj/upsample_layer.o\n",
      "aarch64-none-linux-gnu-gcc -Iinclude/ -Isrc/ -Wall -Wno-unused-result -Wno-unknown-pragmas -Wfatal-errors -static -Ofast -fno-tree-vectorize -DNNPACK -DNO_PREDICT -DFT8 -c ./src/box.c -o obj/box.o\n",
      "aarch64-none-linux-gnu-gcc -Iinclude/ -Isrc/ -Wall -Wno-unused-result -Wno-unknown-pragmas -Wfatal-errors -static -Ofast -fno-tree-vectorize -DNNPACK -DNO_PREDICT -DFT8 -c ./src/normalization_layer.c -o obj/normalization_layer.o\n",
      "aarch64-none-linux-gnu-gcc -Iinclude/ -Isrc/ -Wall -Wno-unused-result -Wno-unknown-pragmas -Wfatal-errors -static -Ofast -fno-tree-vectorize -DNNPACK -DNO_PREDICT -DFT8 -c ./src/avgpool_layer.c -o obj/avgpool_layer.o\n",
      "aarch64-none-linux-gnu-gcc -Iinclude/ -Isrc/ -Wall -Wno-unused-result -Wno-unknown-pragmas -Wfatal-errors -static -Ofast -fno-tree-vectorize -DNNPACK -DNO_PREDICT -DFT8 -c ./src/layer.c -o obj/layer.o\n",
      "aarch64-none-linux-gnu-gcc -Iinclude/ -Isrc/ -Wall -Wno-unused-result -Wno-unknown-pragmas -Wfatal-errors -static -Ofast -fno-tree-vectorize -DNNPACK -DNO_PREDICT -DFT8 -c ./src/local_layer.c -o obj/local_layer.o\n",
      "aarch64-none-linux-gnu-gcc -Iinclude/ -Isrc/ -Wall -Wno-unused-result -Wno-unknown-pragmas -Wfatal-errors -static -Ofast -fno-tree-vectorize -DNNPACK -DNO_PREDICT -DFT8 -c ./src/shortcut_layer.c -o obj/shortcut_layer.o\n",
      "aarch64-none-linux-gnu-gcc -Iinclude/ -Isrc/ -Wall -Wno-unused-result -Wno-unknown-pragmas -Wfatal-errors -static -Ofast -fno-tree-vectorize -DNNPACK -DNO_PREDICT -DFT8 -c ./src/logistic_layer.c -o obj/logistic_layer.o\n",
      "aarch64-none-linux-gnu-gcc -Iinclude/ -Isrc/ -Wall -Wno-unused-result -Wno-unknown-pragmas -Wfatal-errors -static -Ofast -fno-tree-vectorize -DNNPACK -DNO_PREDICT -DFT8 -c ./src/activation_layer.c -o obj/activation_layer.o\n",
      "aarch64-none-linux-gnu-gcc -Iinclude/ -Isrc/ -Wall -Wno-unused-result -Wno-unknown-pragmas -Wfatal-errors -static -Ofast -fno-tree-vectorize -DNNPACK -DNO_PREDICT -DFT8 -c ./src/rnn_layer.c -o obj/rnn_layer.o\n",
      "aarch64-none-linux-gnu-gcc -Iinclude/ -Isrc/ -Wall -Wno-unused-result -Wno-unknown-pragmas -Wfatal-errors -static -Ofast -fno-tree-vectorize -DNNPACK -DNO_PREDICT -DFT8 -c ./src/gru_layer.c -o obj/gru_layer.o\n",
      "aarch64-none-linux-gnu-gcc -Iinclude/ -Isrc/ -Wall -Wno-unused-result -Wno-unknown-pragmas -Wfatal-errors -static -Ofast -fno-tree-vectorize -DNNPACK -DNO_PREDICT -DFT8 -c ./src/crnn_layer.c -o obj/crnn_layer.o\n",
      "aarch64-none-linux-gnu-gcc -Iinclude/ -Isrc/ -Wall -Wno-unused-result -Wno-unknown-pragmas -Wfatal-errors -static -Ofast -fno-tree-vectorize -DNNPACK -DNO_PREDICT -DFT8 -c ./src/demo.c -o obj/demo.o\n",
      "aarch64-none-linux-gnu-gcc -Iinclude/ -Isrc/ -Wall -Wno-unused-result -Wno-unknown-pragmas -Wfatal-errors -static -Ofast -fno-tree-vectorize -DNNPACK -DNO_PREDICT -DFT8 -c ./src/batchnorm_layer.c -o obj/batchnorm_layer.o\n",
      "aarch64-none-linux-gnu-gcc -Iinclude/ -Isrc/ -Wall -Wno-unused-result -Wno-unknown-pragmas -Wfatal-errors -static -Ofast -fno-tree-vectorize -DNNPACK -DNO_PREDICT -DFT8 -c ./src/region_layer.c -o obj/region_layer.o\n",
      "aarch64-none-linux-gnu-gcc -Iinclude/ -Isrc/ -Wall -Wno-unused-result -Wno-unknown-pragmas -Wfatal-errors -static -Ofast -fno-tree-vectorize -DNNPACK -DNO_PREDICT -DFT8 -c ./src/reorg_layer.c -o obj/reorg_layer.o\n",
      "aarch64-none-linux-gnu-gcc -Iinclude/ -Isrc/ -Wall -Wno-unused-result -Wno-unknown-pragmas -Wfatal-errors -static -Ofast -fno-tree-vectorize -DNNPACK -DNO_PREDICT -DFT8 -c ./src/tree.c -o obj/tree.o\n",
      "aarch64-none-linux-gnu-gcc -Iinclude/ -Isrc/ -Wall -Wno-unused-result -Wno-unknown-pragmas -Wfatal-errors -static -Ofast -fno-tree-vectorize -DNNPACK -DNO_PREDICT -DFT8 -c ./src/lstm_layer.c -o obj/lstm_layer.o\n"
     ]
    },
    {
     "name": "stdout",
     "output_type": "stream",
     "text": [
      "aarch64-none-linux-gnu-gcc -Iinclude/ -Isrc/ -Wall -Wno-unused-result -Wno-unknown-pragmas -Wfatal-errors -static -Ofast -fno-tree-vectorize -DNNPACK -DNO_PREDICT -DFT8 -c ./src/l2norm_layer.c -o obj/l2norm_layer.o\n",
      "aarch64-none-linux-gnu-gcc -Iinclude/ -Isrc/ -Wall -Wno-unused-result -Wno-unknown-pragmas -Wfatal-errors -static -Ofast -fno-tree-vectorize -DNNPACK -DNO_PREDICT -DFT8 -c ./src/yolo_layer.c -o obj/yolo_layer.o\n",
      "aarch64-none-linux-gnu-gcc -Iinclude/ -Isrc/ -Wall -Wno-unused-result -Wno-unknown-pragmas -Wfatal-errors -static -Ofast -fno-tree-vectorize -DNNPACK -DNO_PREDICT -DFT8 -c ./src/iseg_layer.c -o obj/iseg_layer.o\n",
      "aarch64-none-linux-gnu-g++ -Iinclude/ -Isrc/ -Wall -Wno-unused-result -Wno-unknown-pragmas -Wfatal-errors -static -Ofast -fno-tree-vectorize -DNNPACK -DNO_PREDICT -DFT8 -c ./src/image_opencv.cpp -o obj/image_opencv.o\n",
      "ar rcs libdarknet.a obj/gemm.o obj/utils.o obj/cuda.o obj/deconvolutional_layer.o obj/convolutional_layer.o obj/list.o obj/image.o obj/activations.o obj/im2col.o obj/col2im.o obj/blas.o obj/crop_layer.o obj/dropout_layer.o obj/maxpool_layer.o obj/softmax_layer.o obj/data.o obj/matrix.o obj/network.o obj/connected_layer.o obj/cost_layer.o obj/parser.o obj/option_list.o obj/detection_layer.o obj/route_layer.o obj/upsample_layer.o obj/box.o obj/normalization_layer.o obj/avgpool_layer.o obj/layer.o obj/local_layer.o obj/shortcut_layer.o obj/logistic_layer.o obj/activation_layer.o obj/rnn_layer.o obj/gru_layer.o obj/crnn_layer.o obj/demo.o obj/batchnorm_layer.o obj/region_layer.o obj/reorg_layer.o obj/tree.o obj/lstm_layer.o obj/l2norm_layer.o obj/yolo_layer.o obj/iseg_layer.o obj/image_opencv.o\n",
      "aarch64-none-linux-gnu-gcc -Iinclude/ -Isrc/ -Wall -Wno-unused-result -Wno-unknown-pragmas -Wfatal-errors -static -Ofast -fno-tree-vectorize -DNNPACK -DNO_PREDICT -DFT8 -c ./examples/captcha.c -o obj/captcha.o\n",
      "aarch64-none-linux-gnu-gcc -Iinclude/ -Isrc/ -Wall -Wno-unused-result -Wno-unknown-pragmas -Wfatal-errors -static -Ofast -fno-tree-vectorize -DNNPACK -DNO_PREDICT -DFT8 -c ./examples/lsd.c -o obj/lsd.o\n",
      "aarch64-none-linux-gnu-gcc -Iinclude/ -Isrc/ -Wall -Wno-unused-result -Wno-unknown-pragmas -Wfatal-errors -static -Ofast -fno-tree-vectorize -DNNPACK -DNO_PREDICT -DFT8 -c ./examples/super.c -o obj/super.o\n",
      "aarch64-none-linux-gnu-gcc -Iinclude/ -Isrc/ -Wall -Wno-unused-result -Wno-unknown-pragmas -Wfatal-errors -static -Ofast -fno-tree-vectorize -DNNPACK -DNO_PREDICT -DFT8 -c ./examples/art.c -o obj/art.o\n",
      "aarch64-none-linux-gnu-gcc -Iinclude/ -Isrc/ -Wall -Wno-unused-result -Wno-unknown-pragmas -Wfatal-errors -static -Ofast -fno-tree-vectorize -DNNPACK -DNO_PREDICT -DFT8 -c ./examples/tag.c -o obj/tag.o\n",
      "aarch64-none-linux-gnu-gcc -Iinclude/ -Isrc/ -Wall -Wno-unused-result -Wno-unknown-pragmas -Wfatal-errors -static -Ofast -fno-tree-vectorize -DNNPACK -DNO_PREDICT -DFT8 -c ./examples/cifar.c -o obj/cifar.o\n",
      "aarch64-none-linux-gnu-gcc -Iinclude/ -Isrc/ -Wall -Wno-unused-result -Wno-unknown-pragmas -Wfatal-errors -static -Ofast -fno-tree-vectorize -DNNPACK -DNO_PREDICT -DFT8 -c ./examples/go.c -o obj/go.o\n",
      "aarch64-none-linux-gnu-gcc -Iinclude/ -Isrc/ -Wall -Wno-unused-result -Wno-unknown-pragmas -Wfatal-errors -static -Ofast -fno-tree-vectorize -DNNPACK -DNO_PREDICT -DFT8 -c ./examples/rnn.c -o obj/rnn.o\n",
      "aarch64-none-linux-gnu-gcc -Iinclude/ -Isrc/ -Wall -Wno-unused-result -Wno-unknown-pragmas -Wfatal-errors -static -Ofast -fno-tree-vectorize -DNNPACK -DNO_PREDICT -DFT8 -c ./examples/segmenter.c -o obj/segmenter.o\n",
      "aarch64-none-linux-gnu-gcc -Iinclude/ -Isrc/ -Wall -Wno-unused-result -Wno-unknown-pragmas -Wfatal-errors -static -Ofast -fno-tree-vectorize -DNNPACK -DNO_PREDICT -DFT8 -c ./examples/regressor.c -o obj/regressor.o\n",
      "aarch64-none-linux-gnu-gcc -Iinclude/ -Isrc/ -Wall -Wno-unused-result -Wno-unknown-pragmas -Wfatal-errors -static -Ofast -fno-tree-vectorize -DNNPACK -DNO_PREDICT -DFT8 -c ./examples/classifier.c -o obj/classifier.o\n",
      "aarch64-none-linux-gnu-gcc -Iinclude/ -Isrc/ -Wall -Wno-unused-result -Wno-unknown-pragmas -Wfatal-errors -static -Ofast -fno-tree-vectorize -DNNPACK -DNO_PREDICT -DFT8 -c ./examples/coco.c -o obj/coco.o\n",
      "aarch64-none-linux-gnu-gcc -Iinclude/ -Isrc/ -Wall -Wno-unused-result -Wno-unknown-pragmas -Wfatal-errors -static -Ofast -fno-tree-vectorize -DNNPACK -DNO_PREDICT -DFT8 -c ./examples/yolo.c -o obj/yolo.o\n",
      "aarch64-none-linux-gnu-gcc -Iinclude/ -Isrc/ -Wall -Wno-unused-result -Wno-unknown-pragmas -Wfatal-errors -static -Ofast -fno-tree-vectorize -DNNPACK -DNO_PREDICT -DFT8 -c ./examples/detector.c -o obj/detector.o\n",
      "aarch64-none-linux-gnu-gcc -Iinclude/ -Isrc/ -Wall -Wno-unused-result -Wno-unknown-pragmas -Wfatal-errors -static -Ofast -fno-tree-vectorize -DNNPACK -DNO_PREDICT -DFT8 -c ./examples/nightmare.c -o obj/nightmare.o\n",
      "aarch64-none-linux-gnu-gcc -Iinclude/ -Isrc/ -Wall -Wno-unused-result -Wno-unknown-pragmas -Wfatal-errors -static -Ofast -fno-tree-vectorize -DNNPACK -DNO_PREDICT -DFT8 -c ./examples/instance-segmenter.c -o obj/instance-segmenter.o\n",
      "aarch64-none-linux-gnu-gcc -Iinclude/ -Isrc/ -Wall -Wno-unused-result -Wno-unknown-pragmas -Wfatal-errors -static -Ofast -fno-tree-vectorize -DNNPACK -DNO_PREDICT -DFT8 -c ./examples/darknet.c -o obj/darknet.o\n",
      "aarch64-none-linux-gnu-gcc -Iinclude/ -Isrc/ -Wall -Wno-unused-result -Wno-unknown-pragmas -Wfatal-errors -static -Ofast -fno-tree-vectorize -DNNPACK -DNO_PREDICT -DFT8 -c ./examples/test.c -o obj/test.o\n",
      "aarch64-none-linux-gnu-gcc -Iinclude/ -Isrc/ -Wall -Wno-unused-result -Wno-unknown-pragmas -Wfatal-errors -static -Ofast -fno-tree-vectorize -DNNPACK -DNO_PREDICT -DFT8 obj/captcha.o obj/lsd.o obj/super.o obj/art.o obj/tag.o obj/cifar.o obj/go.o obj/rnn.o obj/segmenter.o obj/regressor.o obj/classifier.o obj/coco.o obj/yolo.o obj/detector.o obj/nightmare.o obj/instance-segmenter.o obj/darknet.o obj/test.o libdarknet.a -o darknet -lm -pthread -L/home/fft_vec/arm-deps/usr/local/lib -l:libnnpack.a -l:libpthreadpool.a -l:libcpuinfo.a -l:libclog.a libdarknet.a\n",
      "/home/fft_vec/gem5/build/ARM/gem5.opt --outdir=./bench/build-ARM-gem5-opt/bench_yolo-tiny/NO_PREDICT_NPP/64MB/ /home/fft_vec/gem5/configs/example/se.py --cpu-clock=2GHz --l1d_size=64kB --l1i_size=16kB --caches --output=stdout.txt  --errout=stderr.txt --l2_size=64MB --l2cache -c \"./darknet\" --options \"bench_yolo-tiny\"\n",
      "\n",
      "\n"
     ]
    },
    {
     "name": "stderr",
     "output_type": "stream",
     "text": [
      "warn: The `get_runtime_isa` function is deprecated. Please migrate away from using this function.\n",
      "warn: The `get_runtime_isa` function is deprecated. Please migrate away from using this function.\n",
      "warn: No dot file generated. Please install pydot to generate the dot file and pdf.\n",
      "build/ARM/mem/dram_interface.cc:690: warn: DRAM device capacity (8192 Mbytes) does not match the address range assigned (512 Mbytes)\n",
      "build/ARM/base/remote_gdb.cc:416: warn: Sockets disabled, not accepting gdb connections\n",
      "build/ARM/sim/simulate.cc:192: info: Entering event queue @ 0.  Starting simulation...\n",
      "build/ARM/sim/syscall_emul.cc:74: warn: ignoring syscall set_robust_list(...)\n",
      "build/ARM/sim/syscall_emul.cc:74: warn: ignoring syscall rt_sigaction(...)\n",
      "build/ARM/sim/syscall_emul.cc:74: warn: ignoring syscall rt_sigaction(...)\n",
      "build/ARM/sim/syscall_emul.cc:85: warn: ignoring syscall rt_sigprocmask(...)\n",
      "      (further warnings will be suppressed)\n",
      "build/ARM/arch/arm/insts/pseudo.cc:172: warn: \tinstruction 'bti' unimplemented\n",
      "build/ARM/sim/mem_state.cc:443: info: Increasing stack size by one page.\n",
      "build/ARM/sim/syscall_emul.cc:74: warn: ignoring syscall mprotect(...)\n",
      "build/ARM/sim/mem_state.cc:443: info: Increasing stack size by one page.\n"
     ]
    },
    {
     "name": "stdout",
     "output_type": "stream",
     "text": [
      "Global frequency set at 1000000000000 ticks per second\n",
      "gem5 Simulator System.  https://www.gem5.org\n",
      "gem5 is copyrighted software; use the --copyright option for details.\n",
      "\n",
      "gem5 version 22.1.0.0\n",
      "gem5 compiled Jan 26 2023 15:06:33\n",
      "gem5 started Feb 15 2023 17:27:42\n",
      "gem5 executing on aldy, pid 1163589\n",
      "command line: /home/fft_vec/gem5/build/ARM/gem5.opt --outdir=./bench/build-ARM-gem5-opt/bench_yolo-tiny/NO_PREDICT_NPP/64MB/ /home/fft_vec/gem5/configs/example/se.py --cpu-clock=2GHz --l1d_size=64kB --l1i_size=16kB --caches --output=stdout.txt --errout=stderr.txt --l2_size=64MB --l2cache -c ./darknet --options bench_yolo-tiny\n",
      "\n",
      "info: Standard input is not a terminal, disabling listeners.\n",
      "**** REAL SIMULATION ****\n"
     ]
    },
    {
     "name": "stderr",
     "output_type": "stream",
     "text": [
      "build/ARM/sim/mem_state.cc:443: info: Increasing stack size by one page.\n",
      "build/ARM/sim/mem_state.cc:443: info: Increasing stack size by one page.\n"
     ]
    },
    {
     "name": "stdout",
     "output_type": "stream",
     "text": [
      "Exiting @ tick 1207515392500 because exiting with last active thread context\n",
      "./bench/build-ARM-gem5-opt/bench_yolo-tiny/NO_PREDICT_NPP/64MB/\n",
      "reading data from file:  ./bench/build-ARM-gem5-opt/bench_yolo-tiny/NO_PREDICT_NPP/64MB/stats.txt \n",
      " \n",
      "[('simTicks', 1207515392500)]\n",
      "\n",
      " make clean; make NNPACK=1 NO_PREDICT=1 FT8=1 CC=aarch64-none-linux-gnu-gcc CPP=aarch64-none-linux-gnu-g++ \n",
      "\n",
      "rm -rf ./obj/gemm.o ./obj/utils.o ./obj/cuda.o ./obj/deconvolutional_layer.o ./obj/convolutional_layer.o ./obj/list.o ./obj/image.o ./obj/activations.o ./obj/im2col.o ./obj/col2im.o ./obj/blas.o ./obj/crop_layer.o ./obj/dropout_layer.o ./obj/maxpool_layer.o ./obj/softmax_layer.o ./obj/data.o ./obj/matrix.o ./obj/network.o ./obj/connected_layer.o ./obj/cost_layer.o ./obj/parser.o ./obj/option_list.o ./obj/detection_layer.o ./obj/route_layer.o ./obj/upsample_layer.o ./obj/box.o ./obj/normalization_layer.o ./obj/avgpool_layer.o ./obj/layer.o ./obj/local_layer.o ./obj/shortcut_layer.o ./obj/logistic_layer.o ./obj/activation_layer.o ./obj/rnn_layer.o ./obj/gru_layer.o ./obj/crnn_layer.o ./obj/demo.o ./obj/batchnorm_layer.o ./obj/region_layer.o ./obj/reorg_layer.o ./obj/tree.o ./obj/lstm_layer.o ./obj/l2norm_layer.o ./obj/yolo_layer.o ./obj/iseg_layer.o ./obj/image_opencv.o libdarknet.so libdarknet.a darknet ./obj/captcha.o ./obj/lsd.o ./obj/super.o ./obj/art.o ./obj/tag.o ./obj/cifar.o ./obj/go.o ./obj/rnn.o ./obj/segmenter.o ./obj/regressor.o ./obj/classifier.o ./obj/coco.o ./obj/yolo.o ./obj/detector.o ./obj/nightmare.o ./obj/instance-segmenter.o ./obj/darknet.o ./obj/test.o ./obj//*\n",
      "NNPACK=1\n",
      "NO_PREDICT=1\n",
      "FT8=1\n",
      "CPP=aarch64-none-linux-gnu-g++\n",
      "CC=aarch64-none-linux-gnu-gcc\n",
      "aarch64-none-linux-gnu-gcc -Iinclude/ -Isrc/ -Wall -Wno-unused-result -Wno-unknown-pragmas -Wfatal-errors -static -Ofast -fno-tree-vectorize -DNNPACK -DNO_PREDICT -DFT8 -c ./src/gemm.c -o obj/gemm.o\n",
      "aarch64-none-linux-gnu-gcc -Iinclude/ -Isrc/ -Wall -Wno-unused-result -Wno-unknown-pragmas -Wfatal-errors -static -Ofast -fno-tree-vectorize -DNNPACK -DNO_PREDICT -DFT8 -c ./src/utils.c -o obj/utils.o\n"
     ]
    },
    {
     "name": "stderr",
     "output_type": "stream",
     "text": [
      "In function ‘copy_string’,\n",
      "    inlined from ‘basecfg’ at ./src/utils.c:187:9:\n",
      "./src/utils.c:426:5: warning: ‘strncpy’ specified bound depends on the length of the source argument [-Wstringop-overflow=]\n",
      "  426 |     strncpy(copy, s, strlen(s)+1);\n",
      "      |     ^~~~~~~~~~~~~~~~~~~~~~~~~~~~~\n",
      "./src/utils.c: In function ‘basecfg’:\n",
      "./src/utils.c:426:22: note: length computed here\n",
      "  426 |     strncpy(copy, s, strlen(s)+1);\n",
      "      |                      ^~~~~~~~~\n",
      "./src/utils.c: In function ‘copy_string’:\n",
      "./src/utils.c:426:5: warning: ‘strncpy’ specified bound depends on the length of the source argument [-Wstringop-overflow=]\n",
      "  426 |     strncpy(copy, s, strlen(s)+1);\n",
      "      |     ^~~~~~~~~~~~~~~~~~~~~~~~~~~~~\n",
      "./src/utils.c:426:22: note: length computed here\n",
      "  426 |     strncpy(copy, s, strlen(s)+1);\n",
      "      |                      ^~~~~~~~~\n",
      "In function ‘copy_string’,\n",
      "    inlined from ‘parse_csv_line’ at ./src/utils.c:439:28:\n",
      "./src/utils.c:426:5: warning: ‘strncpy’ specified bound depends on the length of the source argument [-Wstringop-overflow=]\n",
      "  426 |     strncpy(copy, s, strlen(s)+1);\n",
      "      |     ^~~~~~~~~~~~~~~~~~~~~~~~~~~~~\n",
      "./src/utils.c: In function ‘parse_csv_line’:\n",
      "./src/utils.c:426:22: note: length computed here\n",
      "  426 |     strncpy(copy, s, strlen(s)+1);\n",
      "      |                      ^~~~~~~~~\n",
      "In function ‘copy_string’,\n",
      "    inlined from ‘parse_csv_line’ at ./src/utils.c:443:20:\n",
      "./src/utils.c:426:5: warning: ‘strncpy’ specified bound depends on the length of the source argument [-Wstringop-overflow=]\n",
      "  426 |     strncpy(copy, s, strlen(s)+1);\n",
      "      |     ^~~~~~~~~~~~~~~~~~~~~~~~~~~~~\n",
      "./src/utils.c: In function ‘parse_csv_line’:\n",
      "./src/utils.c:426:22: note: length computed here\n",
      "  426 |     strncpy(copy, s, strlen(s)+1);\n",
      "      |                      ^~~~~~~~~\n"
     ]
    },
    {
     "name": "stdout",
     "output_type": "stream",
     "text": [
      "aarch64-none-linux-gnu-gcc -Iinclude/ -Isrc/ -Wall -Wno-unused-result -Wno-unknown-pragmas -Wfatal-errors -static -Ofast -fno-tree-vectorize -DNNPACK -DNO_PREDICT -DFT8 -c ./src/cuda.c -o obj/cuda.o\n",
      "aarch64-none-linux-gnu-gcc -Iinclude/ -Isrc/ -Wall -Wno-unused-result -Wno-unknown-pragmas -Wfatal-errors -static -Ofast -fno-tree-vectorize -DNNPACK -DNO_PREDICT -DFT8 -c ./src/deconvolutional_layer.c -o obj/deconvolutional_layer.o\n",
      "aarch64-none-linux-gnu-gcc -Iinclude/ -Isrc/ -Wall -Wno-unused-result -Wno-unknown-pragmas -Wfatal-errors -static -Ofast -fno-tree-vectorize -DNNPACK -DNO_PREDICT -DFT8 -c ./src/convolutional_layer.c -o obj/convolutional_layer.o\n",
      "aarch64-none-linux-gnu-gcc -Iinclude/ -Isrc/ -Wall -Wno-unused-result -Wno-unknown-pragmas -Wfatal-errors -static -Ofast -fno-tree-vectorize -DNNPACK -DNO_PREDICT -DFT8 -c ./src/list.c -o obj/list.o\n",
      "aarch64-none-linux-gnu-gcc -Iinclude/ -Isrc/ -Wall -Wno-unused-result -Wno-unknown-pragmas -Wfatal-errors -static -Ofast -fno-tree-vectorize -DNNPACK -DNO_PREDICT -DFT8 -c ./src/image.c -o obj/image.o\n",
      "aarch64-none-linux-gnu-gcc -Iinclude/ -Isrc/ -Wall -Wno-unused-result -Wno-unknown-pragmas -Wfatal-errors -static -Ofast -fno-tree-vectorize -DNNPACK -DNO_PREDICT -DFT8 -c ./src/activations.c -o obj/activations.o\n",
      "aarch64-none-linux-gnu-gcc -Iinclude/ -Isrc/ -Wall -Wno-unused-result -Wno-unknown-pragmas -Wfatal-errors -static -Ofast -fno-tree-vectorize -DNNPACK -DNO_PREDICT -DFT8 -c ./src/im2col.c -o obj/im2col.o\n",
      "aarch64-none-linux-gnu-gcc -Iinclude/ -Isrc/ -Wall -Wno-unused-result -Wno-unknown-pragmas -Wfatal-errors -static -Ofast -fno-tree-vectorize -DNNPACK -DNO_PREDICT -DFT8 -c ./src/col2im.c -o obj/col2im.o\n",
      "aarch64-none-linux-gnu-gcc -Iinclude/ -Isrc/ -Wall -Wno-unused-result -Wno-unknown-pragmas -Wfatal-errors -static -Ofast -fno-tree-vectorize -DNNPACK -DNO_PREDICT -DFT8 -c ./src/blas.c -o obj/blas.o\n",
      "aarch64-none-linux-gnu-gcc -Iinclude/ -Isrc/ -Wall -Wno-unused-result -Wno-unknown-pragmas -Wfatal-errors -static -Ofast -fno-tree-vectorize -DNNPACK -DNO_PREDICT -DFT8 -c ./src/crop_layer.c -o obj/crop_layer.o\n",
      "aarch64-none-linux-gnu-gcc -Iinclude/ -Isrc/ -Wall -Wno-unused-result -Wno-unknown-pragmas -Wfatal-errors -static -Ofast -fno-tree-vectorize -DNNPACK -DNO_PREDICT -DFT8 -c ./src/dropout_layer.c -o obj/dropout_layer.o\n",
      "aarch64-none-linux-gnu-gcc -Iinclude/ -Isrc/ -Wall -Wno-unused-result -Wno-unknown-pragmas -Wfatal-errors -static -Ofast -fno-tree-vectorize -DNNPACK -DNO_PREDICT -DFT8 -c ./src/maxpool_layer.c -o obj/maxpool_layer.o\n",
      "aarch64-none-linux-gnu-gcc -Iinclude/ -Isrc/ -Wall -Wno-unused-result -Wno-unknown-pragmas -Wfatal-errors -static -Ofast -fno-tree-vectorize -DNNPACK -DNO_PREDICT -DFT8 -c ./src/softmax_layer.c -o obj/softmax_layer.o\n",
      "aarch64-none-linux-gnu-gcc -Iinclude/ -Isrc/ -Wall -Wno-unused-result -Wno-unknown-pragmas -Wfatal-errors -static -Ofast -fno-tree-vectorize -DNNPACK -DNO_PREDICT -DFT8 -c ./src/data.c -o obj/data.o\n",
      "aarch64-none-linux-gnu-gcc -Iinclude/ -Isrc/ -Wall -Wno-unused-result -Wno-unknown-pragmas -Wfatal-errors -static -Ofast -fno-tree-vectorize -DNNPACK -DNO_PREDICT -DFT8 -c ./src/matrix.c -o obj/matrix.o\n",
      "aarch64-none-linux-gnu-gcc -Iinclude/ -Isrc/ -Wall -Wno-unused-result -Wno-unknown-pragmas -Wfatal-errors -static -Ofast -fno-tree-vectorize -DNNPACK -DNO_PREDICT -DFT8 -c ./src/network.c -o obj/network.o\n",
      "aarch64-none-linux-gnu-gcc -Iinclude/ -Isrc/ -Wall -Wno-unused-result -Wno-unknown-pragmas -Wfatal-errors -static -Ofast -fno-tree-vectorize -DNNPACK -DNO_PREDICT -DFT8 -c ./src/connected_layer.c -o obj/connected_layer.o\n",
      "aarch64-none-linux-gnu-gcc -Iinclude/ -Isrc/ -Wall -Wno-unused-result -Wno-unknown-pragmas -Wfatal-errors -static -Ofast -fno-tree-vectorize -DNNPACK -DNO_PREDICT -DFT8 -c ./src/cost_layer.c -o obj/cost_layer.o\n",
      "aarch64-none-linux-gnu-gcc -Iinclude/ -Isrc/ -Wall -Wno-unused-result -Wno-unknown-pragmas -Wfatal-errors -static -Ofast -fno-tree-vectorize -DNNPACK -DNO_PREDICT -DFT8 -c ./src/parser.c -o obj/parser.o\n",
      "aarch64-none-linux-gnu-gcc -Iinclude/ -Isrc/ -Wall -Wno-unused-result -Wno-unknown-pragmas -Wfatal-errors -static -Ofast -fno-tree-vectorize -DNNPACK -DNO_PREDICT -DFT8 -c ./src/option_list.c -o obj/option_list.o\n",
      "aarch64-none-linux-gnu-gcc -Iinclude/ -Isrc/ -Wall -Wno-unused-result -Wno-unknown-pragmas -Wfatal-errors -static -Ofast -fno-tree-vectorize -DNNPACK -DNO_PREDICT -DFT8 -c ./src/detection_layer.c -o obj/detection_layer.o\n",
      "aarch64-none-linux-gnu-gcc -Iinclude/ -Isrc/ -Wall -Wno-unused-result -Wno-unknown-pragmas -Wfatal-errors -static -Ofast -fno-tree-vectorize -DNNPACK -DNO_PREDICT -DFT8 -c ./src/route_layer.c -o obj/route_layer.o\n",
      "aarch64-none-linux-gnu-gcc -Iinclude/ -Isrc/ -Wall -Wno-unused-result -Wno-unknown-pragmas -Wfatal-errors -static -Ofast -fno-tree-vectorize -DNNPACK -DNO_PREDICT -DFT8 -c ./src/upsample_layer.c -o obj/upsample_layer.o\n",
      "aarch64-none-linux-gnu-gcc -Iinclude/ -Isrc/ -Wall -Wno-unused-result -Wno-unknown-pragmas -Wfatal-errors -static -Ofast -fno-tree-vectorize -DNNPACK -DNO_PREDICT -DFT8 -c ./src/box.c -o obj/box.o\n",
      "aarch64-none-linux-gnu-gcc -Iinclude/ -Isrc/ -Wall -Wno-unused-result -Wno-unknown-pragmas -Wfatal-errors -static -Ofast -fno-tree-vectorize -DNNPACK -DNO_PREDICT -DFT8 -c ./src/normalization_layer.c -o obj/normalization_layer.o\n",
      "aarch64-none-linux-gnu-gcc -Iinclude/ -Isrc/ -Wall -Wno-unused-result -Wno-unknown-pragmas -Wfatal-errors -static -Ofast -fno-tree-vectorize -DNNPACK -DNO_PREDICT -DFT8 -c ./src/avgpool_layer.c -o obj/avgpool_layer.o\n",
      "aarch64-none-linux-gnu-gcc -Iinclude/ -Isrc/ -Wall -Wno-unused-result -Wno-unknown-pragmas -Wfatal-errors -static -Ofast -fno-tree-vectorize -DNNPACK -DNO_PREDICT -DFT8 -c ./src/layer.c -o obj/layer.o\n",
      "aarch64-none-linux-gnu-gcc -Iinclude/ -Isrc/ -Wall -Wno-unused-result -Wno-unknown-pragmas -Wfatal-errors -static -Ofast -fno-tree-vectorize -DNNPACK -DNO_PREDICT -DFT8 -c ./src/local_layer.c -o obj/local_layer.o\n",
      "aarch64-none-linux-gnu-gcc -Iinclude/ -Isrc/ -Wall -Wno-unused-result -Wno-unknown-pragmas -Wfatal-errors -static -Ofast -fno-tree-vectorize -DNNPACK -DNO_PREDICT -DFT8 -c ./src/shortcut_layer.c -o obj/shortcut_layer.o\n",
      "aarch64-none-linux-gnu-gcc -Iinclude/ -Isrc/ -Wall -Wno-unused-result -Wno-unknown-pragmas -Wfatal-errors -static -Ofast -fno-tree-vectorize -DNNPACK -DNO_PREDICT -DFT8 -c ./src/logistic_layer.c -o obj/logistic_layer.o\n",
      "aarch64-none-linux-gnu-gcc -Iinclude/ -Isrc/ -Wall -Wno-unused-result -Wno-unknown-pragmas -Wfatal-errors -static -Ofast -fno-tree-vectorize -DNNPACK -DNO_PREDICT -DFT8 -c ./src/activation_layer.c -o obj/activation_layer.o\n",
      "aarch64-none-linux-gnu-gcc -Iinclude/ -Isrc/ -Wall -Wno-unused-result -Wno-unknown-pragmas -Wfatal-errors -static -Ofast -fno-tree-vectorize -DNNPACK -DNO_PREDICT -DFT8 -c ./src/rnn_layer.c -o obj/rnn_layer.o\n",
      "aarch64-none-linux-gnu-gcc -Iinclude/ -Isrc/ -Wall -Wno-unused-result -Wno-unknown-pragmas -Wfatal-errors -static -Ofast -fno-tree-vectorize -DNNPACK -DNO_PREDICT -DFT8 -c ./src/gru_layer.c -o obj/gru_layer.o\n",
      "aarch64-none-linux-gnu-gcc -Iinclude/ -Isrc/ -Wall -Wno-unused-result -Wno-unknown-pragmas -Wfatal-errors -static -Ofast -fno-tree-vectorize -DNNPACK -DNO_PREDICT -DFT8 -c ./src/crnn_layer.c -o obj/crnn_layer.o\n",
      "aarch64-none-linux-gnu-gcc -Iinclude/ -Isrc/ -Wall -Wno-unused-result -Wno-unknown-pragmas -Wfatal-errors -static -Ofast -fno-tree-vectorize -DNNPACK -DNO_PREDICT -DFT8 -c ./src/demo.c -o obj/demo.o\n",
      "aarch64-none-linux-gnu-gcc -Iinclude/ -Isrc/ -Wall -Wno-unused-result -Wno-unknown-pragmas -Wfatal-errors -static -Ofast -fno-tree-vectorize -DNNPACK -DNO_PREDICT -DFT8 -c ./src/batchnorm_layer.c -o obj/batchnorm_layer.o\n",
      "aarch64-none-linux-gnu-gcc -Iinclude/ -Isrc/ -Wall -Wno-unused-result -Wno-unknown-pragmas -Wfatal-errors -static -Ofast -fno-tree-vectorize -DNNPACK -DNO_PREDICT -DFT8 -c ./src/region_layer.c -o obj/region_layer.o\n",
      "aarch64-none-linux-gnu-gcc -Iinclude/ -Isrc/ -Wall -Wno-unused-result -Wno-unknown-pragmas -Wfatal-errors -static -Ofast -fno-tree-vectorize -DNNPACK -DNO_PREDICT -DFT8 -c ./src/reorg_layer.c -o obj/reorg_layer.o\n",
      "aarch64-none-linux-gnu-gcc -Iinclude/ -Isrc/ -Wall -Wno-unused-result -Wno-unknown-pragmas -Wfatal-errors -static -Ofast -fno-tree-vectorize -DNNPACK -DNO_PREDICT -DFT8 -c ./src/tree.c -o obj/tree.o\n",
      "aarch64-none-linux-gnu-gcc -Iinclude/ -Isrc/ -Wall -Wno-unused-result -Wno-unknown-pragmas -Wfatal-errors -static -Ofast -fno-tree-vectorize -DNNPACK -DNO_PREDICT -DFT8 -c ./src/lstm_layer.c -o obj/lstm_layer.o\n"
     ]
    },
    {
     "name": "stdout",
     "output_type": "stream",
     "text": [
      "aarch64-none-linux-gnu-gcc -Iinclude/ -Isrc/ -Wall -Wno-unused-result -Wno-unknown-pragmas -Wfatal-errors -static -Ofast -fno-tree-vectorize -DNNPACK -DNO_PREDICT -DFT8 -c ./src/l2norm_layer.c -o obj/l2norm_layer.o\n",
      "aarch64-none-linux-gnu-gcc -Iinclude/ -Isrc/ -Wall -Wno-unused-result -Wno-unknown-pragmas -Wfatal-errors -static -Ofast -fno-tree-vectorize -DNNPACK -DNO_PREDICT -DFT8 -c ./src/yolo_layer.c -o obj/yolo_layer.o\n",
      "aarch64-none-linux-gnu-gcc -Iinclude/ -Isrc/ -Wall -Wno-unused-result -Wno-unknown-pragmas -Wfatal-errors -static -Ofast -fno-tree-vectorize -DNNPACK -DNO_PREDICT -DFT8 -c ./src/iseg_layer.c -o obj/iseg_layer.o\n",
      "aarch64-none-linux-gnu-g++ -Iinclude/ -Isrc/ -Wall -Wno-unused-result -Wno-unknown-pragmas -Wfatal-errors -static -Ofast -fno-tree-vectorize -DNNPACK -DNO_PREDICT -DFT8 -c ./src/image_opencv.cpp -o obj/image_opencv.o\n",
      "ar rcs libdarknet.a obj/gemm.o obj/utils.o obj/cuda.o obj/deconvolutional_layer.o obj/convolutional_layer.o obj/list.o obj/image.o obj/activations.o obj/im2col.o obj/col2im.o obj/blas.o obj/crop_layer.o obj/dropout_layer.o obj/maxpool_layer.o obj/softmax_layer.o obj/data.o obj/matrix.o obj/network.o obj/connected_layer.o obj/cost_layer.o obj/parser.o obj/option_list.o obj/detection_layer.o obj/route_layer.o obj/upsample_layer.o obj/box.o obj/normalization_layer.o obj/avgpool_layer.o obj/layer.o obj/local_layer.o obj/shortcut_layer.o obj/logistic_layer.o obj/activation_layer.o obj/rnn_layer.o obj/gru_layer.o obj/crnn_layer.o obj/demo.o obj/batchnorm_layer.o obj/region_layer.o obj/reorg_layer.o obj/tree.o obj/lstm_layer.o obj/l2norm_layer.o obj/yolo_layer.o obj/iseg_layer.o obj/image_opencv.o\n",
      "aarch64-none-linux-gnu-gcc -Iinclude/ -Isrc/ -Wall -Wno-unused-result -Wno-unknown-pragmas -Wfatal-errors -static -Ofast -fno-tree-vectorize -DNNPACK -DNO_PREDICT -DFT8 -c ./examples/captcha.c -o obj/captcha.o\n",
      "aarch64-none-linux-gnu-gcc -Iinclude/ -Isrc/ -Wall -Wno-unused-result -Wno-unknown-pragmas -Wfatal-errors -static -Ofast -fno-tree-vectorize -DNNPACK -DNO_PREDICT -DFT8 -c ./examples/lsd.c -o obj/lsd.o\n",
      "aarch64-none-linux-gnu-gcc -Iinclude/ -Isrc/ -Wall -Wno-unused-result -Wno-unknown-pragmas -Wfatal-errors -static -Ofast -fno-tree-vectorize -DNNPACK -DNO_PREDICT -DFT8 -c ./examples/super.c -o obj/super.o\n",
      "aarch64-none-linux-gnu-gcc -Iinclude/ -Isrc/ -Wall -Wno-unused-result -Wno-unknown-pragmas -Wfatal-errors -static -Ofast -fno-tree-vectorize -DNNPACK -DNO_PREDICT -DFT8 -c ./examples/art.c -o obj/art.o\n",
      "aarch64-none-linux-gnu-gcc -Iinclude/ -Isrc/ -Wall -Wno-unused-result -Wno-unknown-pragmas -Wfatal-errors -static -Ofast -fno-tree-vectorize -DNNPACK -DNO_PREDICT -DFT8 -c ./examples/tag.c -o obj/tag.o\n",
      "aarch64-none-linux-gnu-gcc -Iinclude/ -Isrc/ -Wall -Wno-unused-result -Wno-unknown-pragmas -Wfatal-errors -static -Ofast -fno-tree-vectorize -DNNPACK -DNO_PREDICT -DFT8 -c ./examples/cifar.c -o obj/cifar.o\n",
      "aarch64-none-linux-gnu-gcc -Iinclude/ -Isrc/ -Wall -Wno-unused-result -Wno-unknown-pragmas -Wfatal-errors -static -Ofast -fno-tree-vectorize -DNNPACK -DNO_PREDICT -DFT8 -c ./examples/go.c -o obj/go.o\n",
      "aarch64-none-linux-gnu-gcc -Iinclude/ -Isrc/ -Wall -Wno-unused-result -Wno-unknown-pragmas -Wfatal-errors -static -Ofast -fno-tree-vectorize -DNNPACK -DNO_PREDICT -DFT8 -c ./examples/rnn.c -o obj/rnn.o\n",
      "aarch64-none-linux-gnu-gcc -Iinclude/ -Isrc/ -Wall -Wno-unused-result -Wno-unknown-pragmas -Wfatal-errors -static -Ofast -fno-tree-vectorize -DNNPACK -DNO_PREDICT -DFT8 -c ./examples/segmenter.c -o obj/segmenter.o\n",
      "aarch64-none-linux-gnu-gcc -Iinclude/ -Isrc/ -Wall -Wno-unused-result -Wno-unknown-pragmas -Wfatal-errors -static -Ofast -fno-tree-vectorize -DNNPACK -DNO_PREDICT -DFT8 -c ./examples/regressor.c -o obj/regressor.o\n",
      "aarch64-none-linux-gnu-gcc -Iinclude/ -Isrc/ -Wall -Wno-unused-result -Wno-unknown-pragmas -Wfatal-errors -static -Ofast -fno-tree-vectorize -DNNPACK -DNO_PREDICT -DFT8 -c ./examples/classifier.c -o obj/classifier.o\n",
      "aarch64-none-linux-gnu-gcc -Iinclude/ -Isrc/ -Wall -Wno-unused-result -Wno-unknown-pragmas -Wfatal-errors -static -Ofast -fno-tree-vectorize -DNNPACK -DNO_PREDICT -DFT8 -c ./examples/coco.c -o obj/coco.o\n",
      "aarch64-none-linux-gnu-gcc -Iinclude/ -Isrc/ -Wall -Wno-unused-result -Wno-unknown-pragmas -Wfatal-errors -static -Ofast -fno-tree-vectorize -DNNPACK -DNO_PREDICT -DFT8 -c ./examples/yolo.c -o obj/yolo.o\n",
      "aarch64-none-linux-gnu-gcc -Iinclude/ -Isrc/ -Wall -Wno-unused-result -Wno-unknown-pragmas -Wfatal-errors -static -Ofast -fno-tree-vectorize -DNNPACK -DNO_PREDICT -DFT8 -c ./examples/detector.c -o obj/detector.o\n",
      "aarch64-none-linux-gnu-gcc -Iinclude/ -Isrc/ -Wall -Wno-unused-result -Wno-unknown-pragmas -Wfatal-errors -static -Ofast -fno-tree-vectorize -DNNPACK -DNO_PREDICT -DFT8 -c ./examples/nightmare.c -o obj/nightmare.o\n",
      "aarch64-none-linux-gnu-gcc -Iinclude/ -Isrc/ -Wall -Wno-unused-result -Wno-unknown-pragmas -Wfatal-errors -static -Ofast -fno-tree-vectorize -DNNPACK -DNO_PREDICT -DFT8 -c ./examples/instance-segmenter.c -o obj/instance-segmenter.o\n",
      "aarch64-none-linux-gnu-gcc -Iinclude/ -Isrc/ -Wall -Wno-unused-result -Wno-unknown-pragmas -Wfatal-errors -static -Ofast -fno-tree-vectorize -DNNPACK -DNO_PREDICT -DFT8 -c ./examples/darknet.c -o obj/darknet.o\n",
      "aarch64-none-linux-gnu-gcc -Iinclude/ -Isrc/ -Wall -Wno-unused-result -Wno-unknown-pragmas -Wfatal-errors -static -Ofast -fno-tree-vectorize -DNNPACK -DNO_PREDICT -DFT8 -c ./examples/test.c -o obj/test.o\n",
      "aarch64-none-linux-gnu-gcc -Iinclude/ -Isrc/ -Wall -Wno-unused-result -Wno-unknown-pragmas -Wfatal-errors -static -Ofast -fno-tree-vectorize -DNNPACK -DNO_PREDICT -DFT8 obj/captcha.o obj/lsd.o obj/super.o obj/art.o obj/tag.o obj/cifar.o obj/go.o obj/rnn.o obj/segmenter.o obj/regressor.o obj/classifier.o obj/coco.o obj/yolo.o obj/detector.o obj/nightmare.o obj/instance-segmenter.o obj/darknet.o obj/test.o libdarknet.a -o darknet -lm -pthread -L/home/fft_vec/arm-deps/usr/local/lib -l:libnnpack.a -l:libpthreadpool.a -l:libcpuinfo.a -l:libclog.a libdarknet.a\n",
      "/home/fft_vec/gem5/build/ARM/gem5.opt --outdir=./bench/build-ARM-gem5-opt/bench_yolo-tiny/NO_PREDICT_NPP/8MB/ /home/fft_vec/gem5/configs/example/se.py --cpu-clock=2GHz --l1d_size=64kB --l1i_size=16kB --caches --output=stdout.txt  --errout=stderr.txt --l2_size=8MB --l2cache -c \"./darknet\" --options \"bench_yolo-tiny\"\n",
      "\n",
      "\n"
     ]
    },
    {
     "name": "stderr",
     "output_type": "stream",
     "text": [
      "warn: The `get_runtime_isa` function is deprecated. Please migrate away from using this function.\n",
      "warn: The `get_runtime_isa` function is deprecated. Please migrate away from using this function.\n",
      "warn: No dot file generated. Please install pydot to generate the dot file and pdf.\n",
      "build/ARM/mem/dram_interface.cc:690: warn: DRAM device capacity (8192 Mbytes) does not match the address range assigned (512 Mbytes)\n",
      "build/ARM/base/remote_gdb.cc:416: warn: Sockets disabled, not accepting gdb connections\n",
      "build/ARM/sim/simulate.cc:192: info: Entering event queue @ 0.  Starting simulation...\n",
      "build/ARM/sim/syscall_emul.cc:74: warn: ignoring syscall set_robust_list(...)\n",
      "build/ARM/sim/syscall_emul.cc:74: warn: ignoring syscall rt_sigaction(...)\n",
      "build/ARM/sim/syscall_emul.cc:74: warn: ignoring syscall rt_sigaction(...)\n",
      "build/ARM/sim/syscall_emul.cc:85: warn: ignoring syscall rt_sigprocmask(...)\n",
      "      (further warnings will be suppressed)\n",
      "build/ARM/arch/arm/insts/pseudo.cc:172: warn: \tinstruction 'bti' unimplemented\n",
      "build/ARM/sim/mem_state.cc:443: info: Increasing stack size by one page.\n",
      "build/ARM/sim/syscall_emul.cc:74: warn: ignoring syscall mprotect(...)\n",
      "build/ARM/sim/mem_state.cc:443: info: Increasing stack size by one page.\n"
     ]
    },
    {
     "name": "stdout",
     "output_type": "stream",
     "text": [
      "Global frequency set at 1000000000000 ticks per second\n",
      "gem5 Simulator System.  https://www.gem5.org\n",
      "gem5 is copyrighted software; use the --copyright option for details.\n",
      "\n",
      "gem5 version 22.1.0.0\n",
      "gem5 compiled Jan 26 2023 15:06:33\n",
      "gem5 started Feb 15 2023 17:43:06\n",
      "gem5 executing on aldy, pid 1217794\n",
      "command line: /home/fft_vec/gem5/build/ARM/gem5.opt --outdir=./bench/build-ARM-gem5-opt/bench_yolo-tiny/NO_PREDICT_NPP/8MB/ /home/fft_vec/gem5/configs/example/se.py --cpu-clock=2GHz --l1d_size=64kB --l1i_size=16kB --caches --output=stdout.txt --errout=stderr.txt --l2_size=8MB --l2cache -c ./darknet --options bench_yolo-tiny\n",
      "\n",
      "info: Standard input is not a terminal, disabling listeners.\n",
      "**** REAL SIMULATION ****\n"
     ]
    },
    {
     "name": "stderr",
     "output_type": "stream",
     "text": [
      "build/ARM/sim/mem_state.cc:443: info: Increasing stack size by one page.\n",
      "build/ARM/sim/mem_state.cc:443: info: Increasing stack size by one page.\n"
     ]
    },
    {
     "name": "stdout",
     "output_type": "stream",
     "text": [
      "Exiting @ tick 1207515387000 because exiting with last active thread context\n",
      "./bench/build-ARM-gem5-opt/bench_yolo-tiny/NO_PREDICT_NPP/8MB/\n",
      "reading data from file:  ./bench/build-ARM-gem5-opt/bench_yolo-tiny/NO_PREDICT_NPP/8MB/stats.txt \n",
      " \n",
      "[('simTicks', 1207515387000)]\n",
      "\n",
      " make clean; make NNPACK=1 NO_PREDICT=1 FT8=1 CC=aarch64-none-linux-gnu-gcc CPP=aarch64-none-linux-gnu-g++ \n",
      "\n",
      "rm -rf ./obj/gemm.o ./obj/utils.o ./obj/cuda.o ./obj/deconvolutional_layer.o ./obj/convolutional_layer.o ./obj/list.o ./obj/image.o ./obj/activations.o ./obj/im2col.o ./obj/col2im.o ./obj/blas.o ./obj/crop_layer.o ./obj/dropout_layer.o ./obj/maxpool_layer.o ./obj/softmax_layer.o ./obj/data.o ./obj/matrix.o ./obj/network.o ./obj/connected_layer.o ./obj/cost_layer.o ./obj/parser.o ./obj/option_list.o ./obj/detection_layer.o ./obj/route_layer.o ./obj/upsample_layer.o ./obj/box.o ./obj/normalization_layer.o ./obj/avgpool_layer.o ./obj/layer.o ./obj/local_layer.o ./obj/shortcut_layer.o ./obj/logistic_layer.o ./obj/activation_layer.o ./obj/rnn_layer.o ./obj/gru_layer.o ./obj/crnn_layer.o ./obj/demo.o ./obj/batchnorm_layer.o ./obj/region_layer.o ./obj/reorg_layer.o ./obj/tree.o ./obj/lstm_layer.o ./obj/l2norm_layer.o ./obj/yolo_layer.o ./obj/iseg_layer.o ./obj/image_opencv.o libdarknet.so libdarknet.a darknet ./obj/captcha.o ./obj/lsd.o ./obj/super.o ./obj/art.o ./obj/tag.o ./obj/cifar.o ./obj/go.o ./obj/rnn.o ./obj/segmenter.o ./obj/regressor.o ./obj/classifier.o ./obj/coco.o ./obj/yolo.o ./obj/detector.o ./obj/nightmare.o ./obj/instance-segmenter.o ./obj/darknet.o ./obj/test.o ./obj//*\n",
      "NNPACK=1\n",
      "NO_PREDICT=1\n",
      "FT8=1\n",
      "CPP=aarch64-none-linux-gnu-g++\n",
      "CC=aarch64-none-linux-gnu-gcc\n",
      "aarch64-none-linux-gnu-gcc -Iinclude/ -Isrc/ -Wall -Wno-unused-result -Wno-unknown-pragmas -Wfatal-errors -static -Ofast -fno-tree-vectorize -DNNPACK -DNO_PREDICT -DFT8 -c ./src/gemm.c -o obj/gemm.o\n",
      "aarch64-none-linux-gnu-gcc -Iinclude/ -Isrc/ -Wall -Wno-unused-result -Wno-unknown-pragmas -Wfatal-errors -static -Ofast -fno-tree-vectorize -DNNPACK -DNO_PREDICT -DFT8 -c ./src/utils.c -o obj/utils.o\n"
     ]
    },
    {
     "name": "stderr",
     "output_type": "stream",
     "text": [
      "In function ‘copy_string’,\n",
      "    inlined from ‘basecfg’ at ./src/utils.c:187:9:\n",
      "./src/utils.c:426:5: warning: ‘strncpy’ specified bound depends on the length of the source argument [-Wstringop-overflow=]\n",
      "  426 |     strncpy(copy, s, strlen(s)+1);\n",
      "      |     ^~~~~~~~~~~~~~~~~~~~~~~~~~~~~\n",
      "./src/utils.c: In function ‘basecfg’:\n",
      "./src/utils.c:426:22: note: length computed here\n",
      "  426 |     strncpy(copy, s, strlen(s)+1);\n",
      "      |                      ^~~~~~~~~\n",
      "./src/utils.c: In function ‘copy_string’:\n",
      "./src/utils.c:426:5: warning: ‘strncpy’ specified bound depends on the length of the source argument [-Wstringop-overflow=]\n",
      "  426 |     strncpy(copy, s, strlen(s)+1);\n",
      "      |     ^~~~~~~~~~~~~~~~~~~~~~~~~~~~~\n",
      "./src/utils.c:426:22: note: length computed here\n",
      "  426 |     strncpy(copy, s, strlen(s)+1);\n",
      "      |                      ^~~~~~~~~\n",
      "In function ‘copy_string’,\n",
      "    inlined from ‘parse_csv_line’ at ./src/utils.c:439:28:\n",
      "./src/utils.c:426:5: warning: ‘strncpy’ specified bound depends on the length of the source argument [-Wstringop-overflow=]\n",
      "  426 |     strncpy(copy, s, strlen(s)+1);\n",
      "      |     ^~~~~~~~~~~~~~~~~~~~~~~~~~~~~\n",
      "./src/utils.c: In function ‘parse_csv_line’:\n",
      "./src/utils.c:426:22: note: length computed here\n",
      "  426 |     strncpy(copy, s, strlen(s)+1);\n",
      "      |                      ^~~~~~~~~\n",
      "In function ‘copy_string’,\n",
      "    inlined from ‘parse_csv_line’ at ./src/utils.c:443:20:\n",
      "./src/utils.c:426:5: warning: ‘strncpy’ specified bound depends on the length of the source argument [-Wstringop-overflow=]\n",
      "  426 |     strncpy(copy, s, strlen(s)+1);\n",
      "      |     ^~~~~~~~~~~~~~~~~~~~~~~~~~~~~\n",
      "./src/utils.c: In function ‘parse_csv_line’:\n",
      "./src/utils.c:426:22: note: length computed here\n",
      "  426 |     strncpy(copy, s, strlen(s)+1);\n",
      "      |                      ^~~~~~~~~\n"
     ]
    },
    {
     "name": "stdout",
     "output_type": "stream",
     "text": [
      "aarch64-none-linux-gnu-gcc -Iinclude/ -Isrc/ -Wall -Wno-unused-result -Wno-unknown-pragmas -Wfatal-errors -static -Ofast -fno-tree-vectorize -DNNPACK -DNO_PREDICT -DFT8 -c ./src/cuda.c -o obj/cuda.o\n",
      "aarch64-none-linux-gnu-gcc -Iinclude/ -Isrc/ -Wall -Wno-unused-result -Wno-unknown-pragmas -Wfatal-errors -static -Ofast -fno-tree-vectorize -DNNPACK -DNO_PREDICT -DFT8 -c ./src/deconvolutional_layer.c -o obj/deconvolutional_layer.o\n",
      "aarch64-none-linux-gnu-gcc -Iinclude/ -Isrc/ -Wall -Wno-unused-result -Wno-unknown-pragmas -Wfatal-errors -static -Ofast -fno-tree-vectorize -DNNPACK -DNO_PREDICT -DFT8 -c ./src/convolutional_layer.c -o obj/convolutional_layer.o\n",
      "aarch64-none-linux-gnu-gcc -Iinclude/ -Isrc/ -Wall -Wno-unused-result -Wno-unknown-pragmas -Wfatal-errors -static -Ofast -fno-tree-vectorize -DNNPACK -DNO_PREDICT -DFT8 -c ./src/list.c -o obj/list.o\n",
      "aarch64-none-linux-gnu-gcc -Iinclude/ -Isrc/ -Wall -Wno-unused-result -Wno-unknown-pragmas -Wfatal-errors -static -Ofast -fno-tree-vectorize -DNNPACK -DNO_PREDICT -DFT8 -c ./src/image.c -o obj/image.o\n",
      "aarch64-none-linux-gnu-gcc -Iinclude/ -Isrc/ -Wall -Wno-unused-result -Wno-unknown-pragmas -Wfatal-errors -static -Ofast -fno-tree-vectorize -DNNPACK -DNO_PREDICT -DFT8 -c ./src/activations.c -o obj/activations.o\n",
      "aarch64-none-linux-gnu-gcc -Iinclude/ -Isrc/ -Wall -Wno-unused-result -Wno-unknown-pragmas -Wfatal-errors -static -Ofast -fno-tree-vectorize -DNNPACK -DNO_PREDICT -DFT8 -c ./src/im2col.c -o obj/im2col.o\n",
      "aarch64-none-linux-gnu-gcc -Iinclude/ -Isrc/ -Wall -Wno-unused-result -Wno-unknown-pragmas -Wfatal-errors -static -Ofast -fno-tree-vectorize -DNNPACK -DNO_PREDICT -DFT8 -c ./src/col2im.c -o obj/col2im.o\n",
      "aarch64-none-linux-gnu-gcc -Iinclude/ -Isrc/ -Wall -Wno-unused-result -Wno-unknown-pragmas -Wfatal-errors -static -Ofast -fno-tree-vectorize -DNNPACK -DNO_PREDICT -DFT8 -c ./src/blas.c -o obj/blas.o\n",
      "aarch64-none-linux-gnu-gcc -Iinclude/ -Isrc/ -Wall -Wno-unused-result -Wno-unknown-pragmas -Wfatal-errors -static -Ofast -fno-tree-vectorize -DNNPACK -DNO_PREDICT -DFT8 -c ./src/crop_layer.c -o obj/crop_layer.o\n",
      "aarch64-none-linux-gnu-gcc -Iinclude/ -Isrc/ -Wall -Wno-unused-result -Wno-unknown-pragmas -Wfatal-errors -static -Ofast -fno-tree-vectorize -DNNPACK -DNO_PREDICT -DFT8 -c ./src/dropout_layer.c -o obj/dropout_layer.o\n",
      "aarch64-none-linux-gnu-gcc -Iinclude/ -Isrc/ -Wall -Wno-unused-result -Wno-unknown-pragmas -Wfatal-errors -static -Ofast -fno-tree-vectorize -DNNPACK -DNO_PREDICT -DFT8 -c ./src/maxpool_layer.c -o obj/maxpool_layer.o\n",
      "aarch64-none-linux-gnu-gcc -Iinclude/ -Isrc/ -Wall -Wno-unused-result -Wno-unknown-pragmas -Wfatal-errors -static -Ofast -fno-tree-vectorize -DNNPACK -DNO_PREDICT -DFT8 -c ./src/softmax_layer.c -o obj/softmax_layer.o\n",
      "aarch64-none-linux-gnu-gcc -Iinclude/ -Isrc/ -Wall -Wno-unused-result -Wno-unknown-pragmas -Wfatal-errors -static -Ofast -fno-tree-vectorize -DNNPACK -DNO_PREDICT -DFT8 -c ./src/data.c -o obj/data.o\n",
      "aarch64-none-linux-gnu-gcc -Iinclude/ -Isrc/ -Wall -Wno-unused-result -Wno-unknown-pragmas -Wfatal-errors -static -Ofast -fno-tree-vectorize -DNNPACK -DNO_PREDICT -DFT8 -c ./src/matrix.c -o obj/matrix.o\n",
      "aarch64-none-linux-gnu-gcc -Iinclude/ -Isrc/ -Wall -Wno-unused-result -Wno-unknown-pragmas -Wfatal-errors -static -Ofast -fno-tree-vectorize -DNNPACK -DNO_PREDICT -DFT8 -c ./src/network.c -o obj/network.o\n",
      "aarch64-none-linux-gnu-gcc -Iinclude/ -Isrc/ -Wall -Wno-unused-result -Wno-unknown-pragmas -Wfatal-errors -static -Ofast -fno-tree-vectorize -DNNPACK -DNO_PREDICT -DFT8 -c ./src/connected_layer.c -o obj/connected_layer.o\n",
      "aarch64-none-linux-gnu-gcc -Iinclude/ -Isrc/ -Wall -Wno-unused-result -Wno-unknown-pragmas -Wfatal-errors -static -Ofast -fno-tree-vectorize -DNNPACK -DNO_PREDICT -DFT8 -c ./src/cost_layer.c -o obj/cost_layer.o\n",
      "aarch64-none-linux-gnu-gcc -Iinclude/ -Isrc/ -Wall -Wno-unused-result -Wno-unknown-pragmas -Wfatal-errors -static -Ofast -fno-tree-vectorize -DNNPACK -DNO_PREDICT -DFT8 -c ./src/parser.c -o obj/parser.o\n",
      "aarch64-none-linux-gnu-gcc -Iinclude/ -Isrc/ -Wall -Wno-unused-result -Wno-unknown-pragmas -Wfatal-errors -static -Ofast -fno-tree-vectorize -DNNPACK -DNO_PREDICT -DFT8 -c ./src/option_list.c -o obj/option_list.o\n",
      "aarch64-none-linux-gnu-gcc -Iinclude/ -Isrc/ -Wall -Wno-unused-result -Wno-unknown-pragmas -Wfatal-errors -static -Ofast -fno-tree-vectorize -DNNPACK -DNO_PREDICT -DFT8 -c ./src/detection_layer.c -o obj/detection_layer.o\n",
      "aarch64-none-linux-gnu-gcc -Iinclude/ -Isrc/ -Wall -Wno-unused-result -Wno-unknown-pragmas -Wfatal-errors -static -Ofast -fno-tree-vectorize -DNNPACK -DNO_PREDICT -DFT8 -c ./src/route_layer.c -o obj/route_layer.o\n",
      "aarch64-none-linux-gnu-gcc -Iinclude/ -Isrc/ -Wall -Wno-unused-result -Wno-unknown-pragmas -Wfatal-errors -static -Ofast -fno-tree-vectorize -DNNPACK -DNO_PREDICT -DFT8 -c ./src/upsample_layer.c -o obj/upsample_layer.o\n",
      "aarch64-none-linux-gnu-gcc -Iinclude/ -Isrc/ -Wall -Wno-unused-result -Wno-unknown-pragmas -Wfatal-errors -static -Ofast -fno-tree-vectorize -DNNPACK -DNO_PREDICT -DFT8 -c ./src/box.c -o obj/box.o\n",
      "aarch64-none-linux-gnu-gcc -Iinclude/ -Isrc/ -Wall -Wno-unused-result -Wno-unknown-pragmas -Wfatal-errors -static -Ofast -fno-tree-vectorize -DNNPACK -DNO_PREDICT -DFT8 -c ./src/normalization_layer.c -o obj/normalization_layer.o\n",
      "aarch64-none-linux-gnu-gcc -Iinclude/ -Isrc/ -Wall -Wno-unused-result -Wno-unknown-pragmas -Wfatal-errors -static -Ofast -fno-tree-vectorize -DNNPACK -DNO_PREDICT -DFT8 -c ./src/avgpool_layer.c -o obj/avgpool_layer.o\n",
      "aarch64-none-linux-gnu-gcc -Iinclude/ -Isrc/ -Wall -Wno-unused-result -Wno-unknown-pragmas -Wfatal-errors -static -Ofast -fno-tree-vectorize -DNNPACK -DNO_PREDICT -DFT8 -c ./src/layer.c -o obj/layer.o\n",
      "aarch64-none-linux-gnu-gcc -Iinclude/ -Isrc/ -Wall -Wno-unused-result -Wno-unknown-pragmas -Wfatal-errors -static -Ofast -fno-tree-vectorize -DNNPACK -DNO_PREDICT -DFT8 -c ./src/local_layer.c -o obj/local_layer.o\n",
      "aarch64-none-linux-gnu-gcc -Iinclude/ -Isrc/ -Wall -Wno-unused-result -Wno-unknown-pragmas -Wfatal-errors -static -Ofast -fno-tree-vectorize -DNNPACK -DNO_PREDICT -DFT8 -c ./src/shortcut_layer.c -o obj/shortcut_layer.o\n",
      "aarch64-none-linux-gnu-gcc -Iinclude/ -Isrc/ -Wall -Wno-unused-result -Wno-unknown-pragmas -Wfatal-errors -static -Ofast -fno-tree-vectorize -DNNPACK -DNO_PREDICT -DFT8 -c ./src/logistic_layer.c -o obj/logistic_layer.o\n",
      "aarch64-none-linux-gnu-gcc -Iinclude/ -Isrc/ -Wall -Wno-unused-result -Wno-unknown-pragmas -Wfatal-errors -static -Ofast -fno-tree-vectorize -DNNPACK -DNO_PREDICT -DFT8 -c ./src/activation_layer.c -o obj/activation_layer.o\n",
      "aarch64-none-linux-gnu-gcc -Iinclude/ -Isrc/ -Wall -Wno-unused-result -Wno-unknown-pragmas -Wfatal-errors -static -Ofast -fno-tree-vectorize -DNNPACK -DNO_PREDICT -DFT8 -c ./src/rnn_layer.c -o obj/rnn_layer.o\n",
      "aarch64-none-linux-gnu-gcc -Iinclude/ -Isrc/ -Wall -Wno-unused-result -Wno-unknown-pragmas -Wfatal-errors -static -Ofast -fno-tree-vectorize -DNNPACK -DNO_PREDICT -DFT8 -c ./src/gru_layer.c -o obj/gru_layer.o\n",
      "aarch64-none-linux-gnu-gcc -Iinclude/ -Isrc/ -Wall -Wno-unused-result -Wno-unknown-pragmas -Wfatal-errors -static -Ofast -fno-tree-vectorize -DNNPACK -DNO_PREDICT -DFT8 -c ./src/crnn_layer.c -o obj/crnn_layer.o\n",
      "aarch64-none-linux-gnu-gcc -Iinclude/ -Isrc/ -Wall -Wno-unused-result -Wno-unknown-pragmas -Wfatal-errors -static -Ofast -fno-tree-vectorize -DNNPACK -DNO_PREDICT -DFT8 -c ./src/demo.c -o obj/demo.o\n",
      "aarch64-none-linux-gnu-gcc -Iinclude/ -Isrc/ -Wall -Wno-unused-result -Wno-unknown-pragmas -Wfatal-errors -static -Ofast -fno-tree-vectorize -DNNPACK -DNO_PREDICT -DFT8 -c ./src/batchnorm_layer.c -o obj/batchnorm_layer.o\n",
      "aarch64-none-linux-gnu-gcc -Iinclude/ -Isrc/ -Wall -Wno-unused-result -Wno-unknown-pragmas -Wfatal-errors -static -Ofast -fno-tree-vectorize -DNNPACK -DNO_PREDICT -DFT8 -c ./src/region_layer.c -o obj/region_layer.o\n",
      "aarch64-none-linux-gnu-gcc -Iinclude/ -Isrc/ -Wall -Wno-unused-result -Wno-unknown-pragmas -Wfatal-errors -static -Ofast -fno-tree-vectorize -DNNPACK -DNO_PREDICT -DFT8 -c ./src/reorg_layer.c -o obj/reorg_layer.o\n",
      "aarch64-none-linux-gnu-gcc -Iinclude/ -Isrc/ -Wall -Wno-unused-result -Wno-unknown-pragmas -Wfatal-errors -static -Ofast -fno-tree-vectorize -DNNPACK -DNO_PREDICT -DFT8 -c ./src/tree.c -o obj/tree.o\n",
      "aarch64-none-linux-gnu-gcc -Iinclude/ -Isrc/ -Wall -Wno-unused-result -Wno-unknown-pragmas -Wfatal-errors -static -Ofast -fno-tree-vectorize -DNNPACK -DNO_PREDICT -DFT8 -c ./src/lstm_layer.c -o obj/lstm_layer.o\n"
     ]
    },
    {
     "name": "stdout",
     "output_type": "stream",
     "text": [
      "aarch64-none-linux-gnu-gcc -Iinclude/ -Isrc/ -Wall -Wno-unused-result -Wno-unknown-pragmas -Wfatal-errors -static -Ofast -fno-tree-vectorize -DNNPACK -DNO_PREDICT -DFT8 -c ./src/l2norm_layer.c -o obj/l2norm_layer.o\n",
      "aarch64-none-linux-gnu-gcc -Iinclude/ -Isrc/ -Wall -Wno-unused-result -Wno-unknown-pragmas -Wfatal-errors -static -Ofast -fno-tree-vectorize -DNNPACK -DNO_PREDICT -DFT8 -c ./src/yolo_layer.c -o obj/yolo_layer.o\n",
      "aarch64-none-linux-gnu-gcc -Iinclude/ -Isrc/ -Wall -Wno-unused-result -Wno-unknown-pragmas -Wfatal-errors -static -Ofast -fno-tree-vectorize -DNNPACK -DNO_PREDICT -DFT8 -c ./src/iseg_layer.c -o obj/iseg_layer.o\n",
      "aarch64-none-linux-gnu-g++ -Iinclude/ -Isrc/ -Wall -Wno-unused-result -Wno-unknown-pragmas -Wfatal-errors -static -Ofast -fno-tree-vectorize -DNNPACK -DNO_PREDICT -DFT8 -c ./src/image_opencv.cpp -o obj/image_opencv.o\n",
      "ar rcs libdarknet.a obj/gemm.o obj/utils.o obj/cuda.o obj/deconvolutional_layer.o obj/convolutional_layer.o obj/list.o obj/image.o obj/activations.o obj/im2col.o obj/col2im.o obj/blas.o obj/crop_layer.o obj/dropout_layer.o obj/maxpool_layer.o obj/softmax_layer.o obj/data.o obj/matrix.o obj/network.o obj/connected_layer.o obj/cost_layer.o obj/parser.o obj/option_list.o obj/detection_layer.o obj/route_layer.o obj/upsample_layer.o obj/box.o obj/normalization_layer.o obj/avgpool_layer.o obj/layer.o obj/local_layer.o obj/shortcut_layer.o obj/logistic_layer.o obj/activation_layer.o obj/rnn_layer.o obj/gru_layer.o obj/crnn_layer.o obj/demo.o obj/batchnorm_layer.o obj/region_layer.o obj/reorg_layer.o obj/tree.o obj/lstm_layer.o obj/l2norm_layer.o obj/yolo_layer.o obj/iseg_layer.o obj/image_opencv.o\n",
      "aarch64-none-linux-gnu-gcc -Iinclude/ -Isrc/ -Wall -Wno-unused-result -Wno-unknown-pragmas -Wfatal-errors -static -Ofast -fno-tree-vectorize -DNNPACK -DNO_PREDICT -DFT8 -c ./examples/captcha.c -o obj/captcha.o\n",
      "aarch64-none-linux-gnu-gcc -Iinclude/ -Isrc/ -Wall -Wno-unused-result -Wno-unknown-pragmas -Wfatal-errors -static -Ofast -fno-tree-vectorize -DNNPACK -DNO_PREDICT -DFT8 -c ./examples/lsd.c -o obj/lsd.o\n",
      "aarch64-none-linux-gnu-gcc -Iinclude/ -Isrc/ -Wall -Wno-unused-result -Wno-unknown-pragmas -Wfatal-errors -static -Ofast -fno-tree-vectorize -DNNPACK -DNO_PREDICT -DFT8 -c ./examples/super.c -o obj/super.o\n",
      "aarch64-none-linux-gnu-gcc -Iinclude/ -Isrc/ -Wall -Wno-unused-result -Wno-unknown-pragmas -Wfatal-errors -static -Ofast -fno-tree-vectorize -DNNPACK -DNO_PREDICT -DFT8 -c ./examples/art.c -o obj/art.o\n",
      "aarch64-none-linux-gnu-gcc -Iinclude/ -Isrc/ -Wall -Wno-unused-result -Wno-unknown-pragmas -Wfatal-errors -static -Ofast -fno-tree-vectorize -DNNPACK -DNO_PREDICT -DFT8 -c ./examples/tag.c -o obj/tag.o\n",
      "aarch64-none-linux-gnu-gcc -Iinclude/ -Isrc/ -Wall -Wno-unused-result -Wno-unknown-pragmas -Wfatal-errors -static -Ofast -fno-tree-vectorize -DNNPACK -DNO_PREDICT -DFT8 -c ./examples/cifar.c -o obj/cifar.o\n",
      "aarch64-none-linux-gnu-gcc -Iinclude/ -Isrc/ -Wall -Wno-unused-result -Wno-unknown-pragmas -Wfatal-errors -static -Ofast -fno-tree-vectorize -DNNPACK -DNO_PREDICT -DFT8 -c ./examples/go.c -o obj/go.o\n",
      "aarch64-none-linux-gnu-gcc -Iinclude/ -Isrc/ -Wall -Wno-unused-result -Wno-unknown-pragmas -Wfatal-errors -static -Ofast -fno-tree-vectorize -DNNPACK -DNO_PREDICT -DFT8 -c ./examples/rnn.c -o obj/rnn.o\n",
      "aarch64-none-linux-gnu-gcc -Iinclude/ -Isrc/ -Wall -Wno-unused-result -Wno-unknown-pragmas -Wfatal-errors -static -Ofast -fno-tree-vectorize -DNNPACK -DNO_PREDICT -DFT8 -c ./examples/segmenter.c -o obj/segmenter.o\n",
      "aarch64-none-linux-gnu-gcc -Iinclude/ -Isrc/ -Wall -Wno-unused-result -Wno-unknown-pragmas -Wfatal-errors -static -Ofast -fno-tree-vectorize -DNNPACK -DNO_PREDICT -DFT8 -c ./examples/regressor.c -o obj/regressor.o\n",
      "aarch64-none-linux-gnu-gcc -Iinclude/ -Isrc/ -Wall -Wno-unused-result -Wno-unknown-pragmas -Wfatal-errors -static -Ofast -fno-tree-vectorize -DNNPACK -DNO_PREDICT -DFT8 -c ./examples/classifier.c -o obj/classifier.o\n",
      "aarch64-none-linux-gnu-gcc -Iinclude/ -Isrc/ -Wall -Wno-unused-result -Wno-unknown-pragmas -Wfatal-errors -static -Ofast -fno-tree-vectorize -DNNPACK -DNO_PREDICT -DFT8 -c ./examples/coco.c -o obj/coco.o\n",
      "aarch64-none-linux-gnu-gcc -Iinclude/ -Isrc/ -Wall -Wno-unused-result -Wno-unknown-pragmas -Wfatal-errors -static -Ofast -fno-tree-vectorize -DNNPACK -DNO_PREDICT -DFT8 -c ./examples/yolo.c -o obj/yolo.o\n",
      "aarch64-none-linux-gnu-gcc -Iinclude/ -Isrc/ -Wall -Wno-unused-result -Wno-unknown-pragmas -Wfatal-errors -static -Ofast -fno-tree-vectorize -DNNPACK -DNO_PREDICT -DFT8 -c ./examples/detector.c -o obj/detector.o\n",
      "aarch64-none-linux-gnu-gcc -Iinclude/ -Isrc/ -Wall -Wno-unused-result -Wno-unknown-pragmas -Wfatal-errors -static -Ofast -fno-tree-vectorize -DNNPACK -DNO_PREDICT -DFT8 -c ./examples/nightmare.c -o obj/nightmare.o\n",
      "aarch64-none-linux-gnu-gcc -Iinclude/ -Isrc/ -Wall -Wno-unused-result -Wno-unknown-pragmas -Wfatal-errors -static -Ofast -fno-tree-vectorize -DNNPACK -DNO_PREDICT -DFT8 -c ./examples/instance-segmenter.c -o obj/instance-segmenter.o\n",
      "aarch64-none-linux-gnu-gcc -Iinclude/ -Isrc/ -Wall -Wno-unused-result -Wno-unknown-pragmas -Wfatal-errors -static -Ofast -fno-tree-vectorize -DNNPACK -DNO_PREDICT -DFT8 -c ./examples/darknet.c -o obj/darknet.o\n",
      "aarch64-none-linux-gnu-gcc -Iinclude/ -Isrc/ -Wall -Wno-unused-result -Wno-unknown-pragmas -Wfatal-errors -static -Ofast -fno-tree-vectorize -DNNPACK -DNO_PREDICT -DFT8 -c ./examples/test.c -o obj/test.o\n",
      "aarch64-none-linux-gnu-gcc -Iinclude/ -Isrc/ -Wall -Wno-unused-result -Wno-unknown-pragmas -Wfatal-errors -static -Ofast -fno-tree-vectorize -DNNPACK -DNO_PREDICT -DFT8 obj/captcha.o obj/lsd.o obj/super.o obj/art.o obj/tag.o obj/cifar.o obj/go.o obj/rnn.o obj/segmenter.o obj/regressor.o obj/classifier.o obj/coco.o obj/yolo.o obj/detector.o obj/nightmare.o obj/instance-segmenter.o obj/darknet.o obj/test.o libdarknet.a -o darknet -lm -pthread -L/home/fft_vec/arm-deps/usr/local/lib -l:libnnpack.a -l:libpthreadpool.a -l:libcpuinfo.a -l:libclog.a libdarknet.a\n",
      "/home/fft_vec/gem5/build/ARM/gem5.opt --outdir=./bench/build-ARM-gem5-opt/bench_yolo-tiny/NO_PREDICT_NPP/1MB/ /home/fft_vec/gem5/configs/example/se.py --cpu-clock=2GHz --l1d_size=64kB --l1i_size=16kB --caches --output=stdout.txt  --errout=stderr.txt --l2_size=1MB --l2cache -c \"./darknet\" --options \"bench_yolo-tiny\"\n",
      "\n",
      "\n"
     ]
    },
    {
     "name": "stderr",
     "output_type": "stream",
     "text": [
      "warn: The `get_runtime_isa` function is deprecated. Please migrate away from using this function.\n",
      "warn: The `get_runtime_isa` function is deprecated. Please migrate away from using this function.\n",
      "warn: No dot file generated. Please install pydot to generate the dot file and pdf.\n",
      "build/ARM/mem/dram_interface.cc:690: warn: DRAM device capacity (8192 Mbytes) does not match the address range assigned (512 Mbytes)\n",
      "build/ARM/base/remote_gdb.cc:416: warn: Sockets disabled, not accepting gdb connections\n",
      "build/ARM/sim/simulate.cc:192: info: Entering event queue @ 0.  Starting simulation...\n",
      "build/ARM/sim/syscall_emul.cc:74: warn: ignoring syscall set_robust_list(...)\n",
      "build/ARM/sim/syscall_emul.cc:74: warn: ignoring syscall rt_sigaction(...)\n",
      "build/ARM/sim/syscall_emul.cc:74: warn: ignoring syscall rt_sigaction(...)\n",
      "build/ARM/sim/syscall_emul.cc:85: warn: ignoring syscall rt_sigprocmask(...)\n",
      "      (further warnings will be suppressed)\n",
      "build/ARM/arch/arm/insts/pseudo.cc:172: warn: \tinstruction 'bti' unimplemented\n",
      "build/ARM/sim/mem_state.cc:443: info: Increasing stack size by one page.\n",
      "build/ARM/sim/syscall_emul.cc:74: warn: ignoring syscall mprotect(...)\n",
      "build/ARM/sim/mem_state.cc:443: info: Increasing stack size by one page.\n"
     ]
    },
    {
     "name": "stdout",
     "output_type": "stream",
     "text": [
      "Global frequency set at 1000000000000 ticks per second\n",
      "gem5 Simulator System.  https://www.gem5.org\n",
      "gem5 is copyrighted software; use the --copyright option for details.\n",
      "\n",
      "gem5 version 22.1.0.0\n",
      "gem5 compiled Jan 26 2023 15:06:33\n",
      "gem5 started Feb 15 2023 17:58:30\n",
      "gem5 executing on aldy, pid 1271920\n",
      "command line: /home/fft_vec/gem5/build/ARM/gem5.opt --outdir=./bench/build-ARM-gem5-opt/bench_yolo-tiny/NO_PREDICT_NPP/1MB/ /home/fft_vec/gem5/configs/example/se.py --cpu-clock=2GHz --l1d_size=64kB --l1i_size=16kB --caches --output=stdout.txt --errout=stderr.txt --l2_size=1MB --l2cache -c ./darknet --options bench_yolo-tiny\n",
      "\n",
      "info: Standard input is not a terminal, disabling listeners.\n",
      "**** REAL SIMULATION ****\n"
     ]
    },
    {
     "name": "stderr",
     "output_type": "stream",
     "text": [
      "build/ARM/sim/mem_state.cc:443: info: Increasing stack size by one page.\n",
      "build/ARM/sim/mem_state.cc:443: info: Increasing stack size by one page.\n"
     ]
    },
    {
     "name": "stdout",
     "output_type": "stream",
     "text": [
      "Exiting @ tick 1207515387000 because exiting with last active thread context\n",
      "./bench/build-ARM-gem5-opt/bench_yolo-tiny/NO_PREDICT_NPP/1MB/\n",
      "reading data from file:  ./bench/build-ARM-gem5-opt/bench_yolo-tiny/NO_PREDICT_NPP/1MB/stats.txt \n",
      " \n",
      "[('simTicks', 1207515387000)]\n"
     ]
    },
    {
     "data": {
      "text/plain": [
       "([[('simTicks', 1207515398000)],\n",
       "  [('simTicks', 1207515392500)],\n",
       "  [('simTicks', 1207515387000)],\n",
       "  [('simTicks', 1207515387000)]],\n",
       " ['./bench/build-ARM-gem5-opt/bench_yolo-tiny/NO_PREDICT_NPP/256MB/',\n",
       "  './bench/build-ARM-gem5-opt/bench_yolo-tiny/NO_PREDICT_NPP/64MB/',\n",
       "  './bench/build-ARM-gem5-opt/bench_yolo-tiny/NO_PREDICT_NPP/8MB/',\n",
       "  './bench/build-ARM-gem5-opt/bench_yolo-tiny/NO_PREDICT_NPP/1MB/'])"
      ]
     },
     "execution_count": 25,
     "metadata": {},
     "output_type": "execute_result"
    }
   ],
   "source": [
    "setupnppticks_npp = cyclesToSetup_npp(yolo, chaceOptions,chaceSizes)\n",
    "setupnppticks_npp "
   ]
  },
  {
   "cell_type": "code",
   "execution_count": null,
   "id": "948d2c6c",
   "metadata": {},
   "outputs": [],
   "source": []
  },
  {
   "cell_type": "markdown",
   "id": "6b050d5b",
   "metadata": {},
   "source": [
    "# FT8"
   ]
  },
  {
   "cell_type": "code",
   "execution_count": 22,
   "id": "faf4f748",
   "metadata": {
    "scrolled": false
   },
   "outputs": [
    {
     "name": "stdout",
     "output_type": "stream",
     "text": [
      "\n",
      " make clean; make NNPACK=1 FT8=1 CC=aarch64-none-linux-gnu-gcc CPP=aarch64-none-linux-gnu-g++ \n",
      "\n",
      "rm -rf ./obj/gemm.o ./obj/utils.o ./obj/cuda.o ./obj/deconvolutional_layer.o ./obj/convolutional_layer.o ./obj/list.o ./obj/image.o ./obj/activations.o ./obj/im2col.o ./obj/col2im.o ./obj/blas.o ./obj/crop_layer.o ./obj/dropout_layer.o ./obj/maxpool_layer.o ./obj/softmax_layer.o ./obj/data.o ./obj/matrix.o ./obj/network.o ./obj/connected_layer.o ./obj/cost_layer.o ./obj/parser.o ./obj/option_list.o ./obj/detection_layer.o ./obj/route_layer.o ./obj/upsample_layer.o ./obj/box.o ./obj/normalization_layer.o ./obj/avgpool_layer.o ./obj/layer.o ./obj/local_layer.o ./obj/shortcut_layer.o ./obj/logistic_layer.o ./obj/activation_layer.o ./obj/rnn_layer.o ./obj/gru_layer.o ./obj/crnn_layer.o ./obj/demo.o ./obj/batchnorm_layer.o ./obj/region_layer.o ./obj/reorg_layer.o ./obj/tree.o ./obj/lstm_layer.o ./obj/l2norm_layer.o ./obj/yolo_layer.o ./obj/iseg_layer.o ./obj/image_opencv.o libdarknet.so libdarknet.a darknet ./obj/captcha.o ./obj/lsd.o ./obj/super.o ./obj/art.o ./obj/tag.o ./obj/cifar.o ./obj/go.o ./obj/rnn.o ./obj/segmenter.o ./obj/regressor.o ./obj/classifier.o ./obj/coco.o ./obj/yolo.o ./obj/detector.o ./obj/nightmare.o ./obj/instance-segmenter.o ./obj/darknet.o ./obj/test.o ./obj//*\n",
      "NNPACK=1\n",
      "FT8=1\n",
      "CPP=aarch64-none-linux-gnu-g++\n",
      "CC=aarch64-none-linux-gnu-gcc\n",
      "aarch64-none-linux-gnu-gcc -Iinclude/ -Isrc/ -Wall -Wno-unused-result -Wno-unknown-pragmas -Wfatal-errors -static -Ofast -fno-tree-vectorize -DNNPACK -DFT8 -c ./src/gemm.c -o obj/gemm.o\n",
      "aarch64-none-linux-gnu-gcc -Iinclude/ -Isrc/ -Wall -Wno-unused-result -Wno-unknown-pragmas -Wfatal-errors -static -Ofast -fno-tree-vectorize -DNNPACK -DFT8 -c ./src/utils.c -o obj/utils.o\n"
     ]
    },
    {
     "name": "stderr",
     "output_type": "stream",
     "text": [
      "In function ‘copy_string’,\n",
      "    inlined from ‘basecfg’ at ./src/utils.c:187:9:\n",
      "./src/utils.c:426:5: warning: ‘strncpy’ specified bound depends on the length of the source argument [-Wstringop-overflow=]\n",
      "  426 |     strncpy(copy, s, strlen(s)+1);\n",
      "      |     ^~~~~~~~~~~~~~~~~~~~~~~~~~~~~\n",
      "./src/utils.c: In function ‘basecfg’:\n",
      "./src/utils.c:426:22: note: length computed here\n",
      "  426 |     strncpy(copy, s, strlen(s)+1);\n",
      "      |                      ^~~~~~~~~\n",
      "./src/utils.c: In function ‘copy_string’:\n",
      "./src/utils.c:426:5: warning: ‘strncpy’ specified bound depends on the length of the source argument [-Wstringop-overflow=]\n",
      "  426 |     strncpy(copy, s, strlen(s)+1);\n",
      "      |     ^~~~~~~~~~~~~~~~~~~~~~~~~~~~~\n",
      "./src/utils.c:426:22: note: length computed here\n",
      "  426 |     strncpy(copy, s, strlen(s)+1);\n",
      "      |                      ^~~~~~~~~\n",
      "In function ‘copy_string’,\n",
      "    inlined from ‘parse_csv_line’ at ./src/utils.c:439:28:\n",
      "./src/utils.c:426:5: warning: ‘strncpy’ specified bound depends on the length of the source argument [-Wstringop-overflow=]\n",
      "  426 |     strncpy(copy, s, strlen(s)+1);\n",
      "      |     ^~~~~~~~~~~~~~~~~~~~~~~~~~~~~\n",
      "./src/utils.c: In function ‘parse_csv_line’:\n",
      "./src/utils.c:426:22: note: length computed here\n",
      "  426 |     strncpy(copy, s, strlen(s)+1);\n",
      "      |                      ^~~~~~~~~\n",
      "In function ‘copy_string’,\n",
      "    inlined from ‘parse_csv_line’ at ./src/utils.c:443:20:\n",
      "./src/utils.c:426:5: warning: ‘strncpy’ specified bound depends on the length of the source argument [-Wstringop-overflow=]\n",
      "  426 |     strncpy(copy, s, strlen(s)+1);\n",
      "      |     ^~~~~~~~~~~~~~~~~~~~~~~~~~~~~\n",
      "./src/utils.c: In function ‘parse_csv_line’:\n",
      "./src/utils.c:426:22: note: length computed here\n",
      "  426 |     strncpy(copy, s, strlen(s)+1);\n",
      "      |                      ^~~~~~~~~\n"
     ]
    },
    {
     "name": "stdout",
     "output_type": "stream",
     "text": [
      "aarch64-none-linux-gnu-gcc -Iinclude/ -Isrc/ -Wall -Wno-unused-result -Wno-unknown-pragmas -Wfatal-errors -static -Ofast -fno-tree-vectorize -DNNPACK -DFT8 -c ./src/cuda.c -o obj/cuda.o\n",
      "aarch64-none-linux-gnu-gcc -Iinclude/ -Isrc/ -Wall -Wno-unused-result -Wno-unknown-pragmas -Wfatal-errors -static -Ofast -fno-tree-vectorize -DNNPACK -DFT8 -c ./src/deconvolutional_layer.c -o obj/deconvolutional_layer.o\n",
      "aarch64-none-linux-gnu-gcc -Iinclude/ -Isrc/ -Wall -Wno-unused-result -Wno-unknown-pragmas -Wfatal-errors -static -Ofast -fno-tree-vectorize -DNNPACK -DFT8 -c ./src/convolutional_layer.c -o obj/convolutional_layer.o\n",
      "aarch64-none-linux-gnu-gcc -Iinclude/ -Isrc/ -Wall -Wno-unused-result -Wno-unknown-pragmas -Wfatal-errors -static -Ofast -fno-tree-vectorize -DNNPACK -DFT8 -c ./src/list.c -o obj/list.o\n",
      "aarch64-none-linux-gnu-gcc -Iinclude/ -Isrc/ -Wall -Wno-unused-result -Wno-unknown-pragmas -Wfatal-errors -static -Ofast -fno-tree-vectorize -DNNPACK -DFT8 -c ./src/image.c -o obj/image.o\n",
      "aarch64-none-linux-gnu-gcc -Iinclude/ -Isrc/ -Wall -Wno-unused-result -Wno-unknown-pragmas -Wfatal-errors -static -Ofast -fno-tree-vectorize -DNNPACK -DFT8 -c ./src/activations.c -o obj/activations.o\n",
      "aarch64-none-linux-gnu-gcc -Iinclude/ -Isrc/ -Wall -Wno-unused-result -Wno-unknown-pragmas -Wfatal-errors -static -Ofast -fno-tree-vectorize -DNNPACK -DFT8 -c ./src/im2col.c -o obj/im2col.o\n",
      "aarch64-none-linux-gnu-gcc -Iinclude/ -Isrc/ -Wall -Wno-unused-result -Wno-unknown-pragmas -Wfatal-errors -static -Ofast -fno-tree-vectorize -DNNPACK -DFT8 -c ./src/col2im.c -o obj/col2im.o\n",
      "aarch64-none-linux-gnu-gcc -Iinclude/ -Isrc/ -Wall -Wno-unused-result -Wno-unknown-pragmas -Wfatal-errors -static -Ofast -fno-tree-vectorize -DNNPACK -DFT8 -c ./src/blas.c -o obj/blas.o\n",
      "aarch64-none-linux-gnu-gcc -Iinclude/ -Isrc/ -Wall -Wno-unused-result -Wno-unknown-pragmas -Wfatal-errors -static -Ofast -fno-tree-vectorize -DNNPACK -DFT8 -c ./src/crop_layer.c -o obj/crop_layer.o\n",
      "aarch64-none-linux-gnu-gcc -Iinclude/ -Isrc/ -Wall -Wno-unused-result -Wno-unknown-pragmas -Wfatal-errors -static -Ofast -fno-tree-vectorize -DNNPACK -DFT8 -c ./src/dropout_layer.c -o obj/dropout_layer.o\n",
      "aarch64-none-linux-gnu-gcc -Iinclude/ -Isrc/ -Wall -Wno-unused-result -Wno-unknown-pragmas -Wfatal-errors -static -Ofast -fno-tree-vectorize -DNNPACK -DFT8 -c ./src/maxpool_layer.c -o obj/maxpool_layer.o\n",
      "aarch64-none-linux-gnu-gcc -Iinclude/ -Isrc/ -Wall -Wno-unused-result -Wno-unknown-pragmas -Wfatal-errors -static -Ofast -fno-tree-vectorize -DNNPACK -DFT8 -c ./src/softmax_layer.c -o obj/softmax_layer.o\n",
      "aarch64-none-linux-gnu-gcc -Iinclude/ -Isrc/ -Wall -Wno-unused-result -Wno-unknown-pragmas -Wfatal-errors -static -Ofast -fno-tree-vectorize -DNNPACK -DFT8 -c ./src/data.c -o obj/data.o\n",
      "aarch64-none-linux-gnu-gcc -Iinclude/ -Isrc/ -Wall -Wno-unused-result -Wno-unknown-pragmas -Wfatal-errors -static -Ofast -fno-tree-vectorize -DNNPACK -DFT8 -c ./src/matrix.c -o obj/matrix.o\n",
      "aarch64-none-linux-gnu-gcc -Iinclude/ -Isrc/ -Wall -Wno-unused-result -Wno-unknown-pragmas -Wfatal-errors -static -Ofast -fno-tree-vectorize -DNNPACK -DFT8 -c ./src/network.c -o obj/network.o\n",
      "aarch64-none-linux-gnu-gcc -Iinclude/ -Isrc/ -Wall -Wno-unused-result -Wno-unknown-pragmas -Wfatal-errors -static -Ofast -fno-tree-vectorize -DNNPACK -DFT8 -c ./src/connected_layer.c -o obj/connected_layer.o\n",
      "aarch64-none-linux-gnu-gcc -Iinclude/ -Isrc/ -Wall -Wno-unused-result -Wno-unknown-pragmas -Wfatal-errors -static -Ofast -fno-tree-vectorize -DNNPACK -DFT8 -c ./src/cost_layer.c -o obj/cost_layer.o\n",
      "aarch64-none-linux-gnu-gcc -Iinclude/ -Isrc/ -Wall -Wno-unused-result -Wno-unknown-pragmas -Wfatal-errors -static -Ofast -fno-tree-vectorize -DNNPACK -DFT8 -c ./src/parser.c -o obj/parser.o\n",
      "aarch64-none-linux-gnu-gcc -Iinclude/ -Isrc/ -Wall -Wno-unused-result -Wno-unknown-pragmas -Wfatal-errors -static -Ofast -fno-tree-vectorize -DNNPACK -DFT8 -c ./src/option_list.c -o obj/option_list.o\n",
      "aarch64-none-linux-gnu-gcc -Iinclude/ -Isrc/ -Wall -Wno-unused-result -Wno-unknown-pragmas -Wfatal-errors -static -Ofast -fno-tree-vectorize -DNNPACK -DFT8 -c ./src/detection_layer.c -o obj/detection_layer.o\n",
      "aarch64-none-linux-gnu-gcc -Iinclude/ -Isrc/ -Wall -Wno-unused-result -Wno-unknown-pragmas -Wfatal-errors -static -Ofast -fno-tree-vectorize -DNNPACK -DFT8 -c ./src/route_layer.c -o obj/route_layer.o\n",
      "aarch64-none-linux-gnu-gcc -Iinclude/ -Isrc/ -Wall -Wno-unused-result -Wno-unknown-pragmas -Wfatal-errors -static -Ofast -fno-tree-vectorize -DNNPACK -DFT8 -c ./src/upsample_layer.c -o obj/upsample_layer.o\n",
      "aarch64-none-linux-gnu-gcc -Iinclude/ -Isrc/ -Wall -Wno-unused-result -Wno-unknown-pragmas -Wfatal-errors -static -Ofast -fno-tree-vectorize -DNNPACK -DFT8 -c ./src/box.c -o obj/box.o\n",
      "aarch64-none-linux-gnu-gcc -Iinclude/ -Isrc/ -Wall -Wno-unused-result -Wno-unknown-pragmas -Wfatal-errors -static -Ofast -fno-tree-vectorize -DNNPACK -DFT8 -c ./src/normalization_layer.c -o obj/normalization_layer.o\n",
      "aarch64-none-linux-gnu-gcc -Iinclude/ -Isrc/ -Wall -Wno-unused-result -Wno-unknown-pragmas -Wfatal-errors -static -Ofast -fno-tree-vectorize -DNNPACK -DFT8 -c ./src/avgpool_layer.c -o obj/avgpool_layer.o\n",
      "aarch64-none-linux-gnu-gcc -Iinclude/ -Isrc/ -Wall -Wno-unused-result -Wno-unknown-pragmas -Wfatal-errors -static -Ofast -fno-tree-vectorize -DNNPACK -DFT8 -c ./src/layer.c -o obj/layer.o\n",
      "aarch64-none-linux-gnu-gcc -Iinclude/ -Isrc/ -Wall -Wno-unused-result -Wno-unknown-pragmas -Wfatal-errors -static -Ofast -fno-tree-vectorize -DNNPACK -DFT8 -c ./src/local_layer.c -o obj/local_layer.o\n",
      "aarch64-none-linux-gnu-gcc -Iinclude/ -Isrc/ -Wall -Wno-unused-result -Wno-unknown-pragmas -Wfatal-errors -static -Ofast -fno-tree-vectorize -DNNPACK -DFT8 -c ./src/shortcut_layer.c -o obj/shortcut_layer.o\n",
      "aarch64-none-linux-gnu-gcc -Iinclude/ -Isrc/ -Wall -Wno-unused-result -Wno-unknown-pragmas -Wfatal-errors -static -Ofast -fno-tree-vectorize -DNNPACK -DFT8 -c ./src/logistic_layer.c -o obj/logistic_layer.o\n",
      "aarch64-none-linux-gnu-gcc -Iinclude/ -Isrc/ -Wall -Wno-unused-result -Wno-unknown-pragmas -Wfatal-errors -static -Ofast -fno-tree-vectorize -DNNPACK -DFT8 -c ./src/activation_layer.c -o obj/activation_layer.o\n",
      "aarch64-none-linux-gnu-gcc -Iinclude/ -Isrc/ -Wall -Wno-unused-result -Wno-unknown-pragmas -Wfatal-errors -static -Ofast -fno-tree-vectorize -DNNPACK -DFT8 -c ./src/rnn_layer.c -o obj/rnn_layer.o\n",
      "aarch64-none-linux-gnu-gcc -Iinclude/ -Isrc/ -Wall -Wno-unused-result -Wno-unknown-pragmas -Wfatal-errors -static -Ofast -fno-tree-vectorize -DNNPACK -DFT8 -c ./src/gru_layer.c -o obj/gru_layer.o\n",
      "aarch64-none-linux-gnu-gcc -Iinclude/ -Isrc/ -Wall -Wno-unused-result -Wno-unknown-pragmas -Wfatal-errors -static -Ofast -fno-tree-vectorize -DNNPACK -DFT8 -c ./src/crnn_layer.c -o obj/crnn_layer.o\n",
      "aarch64-none-linux-gnu-gcc -Iinclude/ -Isrc/ -Wall -Wno-unused-result -Wno-unknown-pragmas -Wfatal-errors -static -Ofast -fno-tree-vectorize -DNNPACK -DFT8 -c ./src/demo.c -o obj/demo.o\n",
      "aarch64-none-linux-gnu-gcc -Iinclude/ -Isrc/ -Wall -Wno-unused-result -Wno-unknown-pragmas -Wfatal-errors -static -Ofast -fno-tree-vectorize -DNNPACK -DFT8 -c ./src/batchnorm_layer.c -o obj/batchnorm_layer.o\n",
      "aarch64-none-linux-gnu-gcc -Iinclude/ -Isrc/ -Wall -Wno-unused-result -Wno-unknown-pragmas -Wfatal-errors -static -Ofast -fno-tree-vectorize -DNNPACK -DFT8 -c ./src/region_layer.c -o obj/region_layer.o\n",
      "aarch64-none-linux-gnu-gcc -Iinclude/ -Isrc/ -Wall -Wno-unused-result -Wno-unknown-pragmas -Wfatal-errors -static -Ofast -fno-tree-vectorize -DNNPACK -DFT8 -c ./src/reorg_layer.c -o obj/reorg_layer.o\n",
      "aarch64-none-linux-gnu-gcc -Iinclude/ -Isrc/ -Wall -Wno-unused-result -Wno-unknown-pragmas -Wfatal-errors -static -Ofast -fno-tree-vectorize -DNNPACK -DFT8 -c ./src/tree.c -o obj/tree.o\n",
      "aarch64-none-linux-gnu-gcc -Iinclude/ -Isrc/ -Wall -Wno-unused-result -Wno-unknown-pragmas -Wfatal-errors -static -Ofast -fno-tree-vectorize -DNNPACK -DFT8 -c ./src/lstm_layer.c -o obj/lstm_layer.o\n",
      "aarch64-none-linux-gnu-gcc -Iinclude/ -Isrc/ -Wall -Wno-unused-result -Wno-unknown-pragmas -Wfatal-errors -static -Ofast -fno-tree-vectorize -DNNPACK -DFT8 -c ./src/l2norm_layer.c -o obj/l2norm_layer.o\n",
      "aarch64-none-linux-gnu-gcc -Iinclude/ -Isrc/ -Wall -Wno-unused-result -Wno-unknown-pragmas -Wfatal-errors -static -Ofast -fno-tree-vectorize -DNNPACK -DFT8 -c ./src/yolo_layer.c -o obj/yolo_layer.o\n"
     ]
    },
    {
     "name": "stdout",
     "output_type": "stream",
     "text": [
      "aarch64-none-linux-gnu-gcc -Iinclude/ -Isrc/ -Wall -Wno-unused-result -Wno-unknown-pragmas -Wfatal-errors -static -Ofast -fno-tree-vectorize -DNNPACK -DFT8 -c ./src/iseg_layer.c -o obj/iseg_layer.o\n",
      "aarch64-none-linux-gnu-g++ -Iinclude/ -Isrc/ -Wall -Wno-unused-result -Wno-unknown-pragmas -Wfatal-errors -static -Ofast -fno-tree-vectorize -DNNPACK -DFT8 -c ./src/image_opencv.cpp -o obj/image_opencv.o\n",
      "ar rcs libdarknet.a obj/gemm.o obj/utils.o obj/cuda.o obj/deconvolutional_layer.o obj/convolutional_layer.o obj/list.o obj/image.o obj/activations.o obj/im2col.o obj/col2im.o obj/blas.o obj/crop_layer.o obj/dropout_layer.o obj/maxpool_layer.o obj/softmax_layer.o obj/data.o obj/matrix.o obj/network.o obj/connected_layer.o obj/cost_layer.o obj/parser.o obj/option_list.o obj/detection_layer.o obj/route_layer.o obj/upsample_layer.o obj/box.o obj/normalization_layer.o obj/avgpool_layer.o obj/layer.o obj/local_layer.o obj/shortcut_layer.o obj/logistic_layer.o obj/activation_layer.o obj/rnn_layer.o obj/gru_layer.o obj/crnn_layer.o obj/demo.o obj/batchnorm_layer.o obj/region_layer.o obj/reorg_layer.o obj/tree.o obj/lstm_layer.o obj/l2norm_layer.o obj/yolo_layer.o obj/iseg_layer.o obj/image_opencv.o\n",
      "aarch64-none-linux-gnu-gcc -Iinclude/ -Isrc/ -Wall -Wno-unused-result -Wno-unknown-pragmas -Wfatal-errors -static -Ofast -fno-tree-vectorize -DNNPACK -DFT8 -c ./examples/captcha.c -o obj/captcha.o\n",
      "aarch64-none-linux-gnu-gcc -Iinclude/ -Isrc/ -Wall -Wno-unused-result -Wno-unknown-pragmas -Wfatal-errors -static -Ofast -fno-tree-vectorize -DNNPACK -DFT8 -c ./examples/lsd.c -o obj/lsd.o\n",
      "aarch64-none-linux-gnu-gcc -Iinclude/ -Isrc/ -Wall -Wno-unused-result -Wno-unknown-pragmas -Wfatal-errors -static -Ofast -fno-tree-vectorize -DNNPACK -DFT8 -c ./examples/super.c -o obj/super.o\n",
      "aarch64-none-linux-gnu-gcc -Iinclude/ -Isrc/ -Wall -Wno-unused-result -Wno-unknown-pragmas -Wfatal-errors -static -Ofast -fno-tree-vectorize -DNNPACK -DFT8 -c ./examples/art.c -o obj/art.o\n",
      "aarch64-none-linux-gnu-gcc -Iinclude/ -Isrc/ -Wall -Wno-unused-result -Wno-unknown-pragmas -Wfatal-errors -static -Ofast -fno-tree-vectorize -DNNPACK -DFT8 -c ./examples/tag.c -o obj/tag.o\n",
      "aarch64-none-linux-gnu-gcc -Iinclude/ -Isrc/ -Wall -Wno-unused-result -Wno-unknown-pragmas -Wfatal-errors -static -Ofast -fno-tree-vectorize -DNNPACK -DFT8 -c ./examples/cifar.c -o obj/cifar.o\n",
      "aarch64-none-linux-gnu-gcc -Iinclude/ -Isrc/ -Wall -Wno-unused-result -Wno-unknown-pragmas -Wfatal-errors -static -Ofast -fno-tree-vectorize -DNNPACK -DFT8 -c ./examples/go.c -o obj/go.o\n",
      "aarch64-none-linux-gnu-gcc -Iinclude/ -Isrc/ -Wall -Wno-unused-result -Wno-unknown-pragmas -Wfatal-errors -static -Ofast -fno-tree-vectorize -DNNPACK -DFT8 -c ./examples/rnn.c -o obj/rnn.o\n",
      "aarch64-none-linux-gnu-gcc -Iinclude/ -Isrc/ -Wall -Wno-unused-result -Wno-unknown-pragmas -Wfatal-errors -static -Ofast -fno-tree-vectorize -DNNPACK -DFT8 -c ./examples/segmenter.c -o obj/segmenter.o\n",
      "aarch64-none-linux-gnu-gcc -Iinclude/ -Isrc/ -Wall -Wno-unused-result -Wno-unknown-pragmas -Wfatal-errors -static -Ofast -fno-tree-vectorize -DNNPACK -DFT8 -c ./examples/regressor.c -o obj/regressor.o\n",
      "aarch64-none-linux-gnu-gcc -Iinclude/ -Isrc/ -Wall -Wno-unused-result -Wno-unknown-pragmas -Wfatal-errors -static -Ofast -fno-tree-vectorize -DNNPACK -DFT8 -c ./examples/classifier.c -o obj/classifier.o\n",
      "aarch64-none-linux-gnu-gcc -Iinclude/ -Isrc/ -Wall -Wno-unused-result -Wno-unknown-pragmas -Wfatal-errors -static -Ofast -fno-tree-vectorize -DNNPACK -DFT8 -c ./examples/coco.c -o obj/coco.o\n",
      "aarch64-none-linux-gnu-gcc -Iinclude/ -Isrc/ -Wall -Wno-unused-result -Wno-unknown-pragmas -Wfatal-errors -static -Ofast -fno-tree-vectorize -DNNPACK -DFT8 -c ./examples/yolo.c -o obj/yolo.o\n",
      "aarch64-none-linux-gnu-gcc -Iinclude/ -Isrc/ -Wall -Wno-unused-result -Wno-unknown-pragmas -Wfatal-errors -static -Ofast -fno-tree-vectorize -DNNPACK -DFT8 -c ./examples/detector.c -o obj/detector.o\n",
      "aarch64-none-linux-gnu-gcc -Iinclude/ -Isrc/ -Wall -Wno-unused-result -Wno-unknown-pragmas -Wfatal-errors -static -Ofast -fno-tree-vectorize -DNNPACK -DFT8 -c ./examples/nightmare.c -o obj/nightmare.o\n",
      "aarch64-none-linux-gnu-gcc -Iinclude/ -Isrc/ -Wall -Wno-unused-result -Wno-unknown-pragmas -Wfatal-errors -static -Ofast -fno-tree-vectorize -DNNPACK -DFT8 -c ./examples/instance-segmenter.c -o obj/instance-segmenter.o\n",
      "aarch64-none-linux-gnu-gcc -Iinclude/ -Isrc/ -Wall -Wno-unused-result -Wno-unknown-pragmas -Wfatal-errors -static -Ofast -fno-tree-vectorize -DNNPACK -DFT8 -c ./examples/darknet.c -o obj/darknet.o\n",
      "aarch64-none-linux-gnu-gcc -Iinclude/ -Isrc/ -Wall -Wno-unused-result -Wno-unknown-pragmas -Wfatal-errors -static -Ofast -fno-tree-vectorize -DNNPACK -DFT8 -c ./examples/test.c -o obj/test.o\n",
      "aarch64-none-linux-gnu-gcc -Iinclude/ -Isrc/ -Wall -Wno-unused-result -Wno-unknown-pragmas -Wfatal-errors -static -Ofast -fno-tree-vectorize -DNNPACK -DFT8 obj/captcha.o obj/lsd.o obj/super.o obj/art.o obj/tag.o obj/cifar.o obj/go.o obj/rnn.o obj/segmenter.o obj/regressor.o obj/classifier.o obj/coco.o obj/yolo.o obj/detector.o obj/nightmare.o obj/instance-segmenter.o obj/darknet.o obj/test.o libdarknet.a -o darknet -lm -pthread -L/home/fft_vec/arm-deps/usr/local/lib -l:libnnpack.a -l:libpthreadpool.a -l:libcpuinfo.a -l:libclog.a libdarknet.a\n",
      "/home/fft_vec/gem5/build/ARM/gem5.opt --outdir=./bench/build-ARM-gem5-opt/bench_yolo-tiny/FT8/256MB/ /home/fft_vec/gem5/configs/example/se.py --cpu-clock=2GHz --l1d_size=64kB --l1i_size=16kB --caches --output=stdout.txt  --errout=stderr.txt --l2_size=256MB --l2cache -c \"./darknet\" --options \"bench_yolo-tiny\"\n",
      "\n",
      "\n"
     ]
    },
    {
     "name": "stderr",
     "output_type": "stream",
     "text": [
      "warn: The `get_runtime_isa` function is deprecated. Please migrate away from using this function.\n",
      "warn: The `get_runtime_isa` function is deprecated. Please migrate away from using this function.\n",
      "warn: No dot file generated. Please install pydot to generate the dot file and pdf.\n",
      "build/ARM/mem/dram_interface.cc:690: warn: DRAM device capacity (8192 Mbytes) does not match the address range assigned (512 Mbytes)\n"
     ]
    },
    {
     "name": "stdout",
     "output_type": "stream",
     "text": [
      "Global frequency set at 1000000000000 ticks per second\n"
     ]
    },
    {
     "name": "stderr",
     "output_type": "stream",
     "text": [
      "build/ARM/base/remote_gdb.cc:416: warn: Sockets disabled, not accepting gdb connections\n",
      "build/ARM/sim/simulate.cc:192: info: Entering event queue @ 0.  Starting simulation...\n",
      "build/ARM/sim/syscall_emul.cc:74: warn: ignoring syscall set_robust_list(...)\n",
      "build/ARM/sim/syscall_emul.cc:74: warn: ignoring syscall rt_sigaction(...)\n",
      "build/ARM/sim/syscall_emul.cc:74: warn: ignoring syscall rt_sigaction(...)\n",
      "build/ARM/sim/syscall_emul.cc:85: warn: ignoring syscall rt_sigprocmask(...)\n",
      "      (further warnings will be suppressed)\n",
      "build/ARM/arch/arm/insts/pseudo.cc:172: warn: \tinstruction 'bti' unimplemented\n",
      "build/ARM/sim/mem_state.cc:443: info: Increasing stack size by one page.\n",
      "build/ARM/sim/syscall_emul.cc:74: warn: ignoring syscall mprotect(...)\n",
      "build/ARM/sim/mem_state.cc:443: info: Increasing stack size by one page.\n"
     ]
    },
    {
     "name": "stdout",
     "output_type": "stream",
     "text": [
      "gem5 Simulator System.  https://www.gem5.org\n",
      "gem5 is copyrighted software; use the --copyright option for details.\n",
      "\n",
      "gem5 version 22.1.0.0\n",
      "gem5 compiled Jan 26 2023 15:06:33\n",
      "gem5 started Feb 15 2023 14:45:22\n",
      "gem5 executing on aldy, pid 685902\n",
      "command line: /home/fft_vec/gem5/build/ARM/gem5.opt --outdir=./bench/build-ARM-gem5-opt/bench_yolo-tiny/FT8/256MB/ /home/fft_vec/gem5/configs/example/se.py --cpu-clock=2GHz --l1d_size=64kB --l1i_size=16kB --caches --output=stdout.txt --errout=stderr.txt --l2_size=256MB --l2cache -c ./darknet --options bench_yolo-tiny\n",
      "\n",
      "info: Standard input is not a terminal, disabling listeners.\n",
      "**** REAL SIMULATION ****\n"
     ]
    },
    {
     "name": "stderr",
     "output_type": "stream",
     "text": [
      "build/ARM/sim/mem_state.cc:443: info: Increasing stack size by one page.\n",
      "build/ARM/sim/mem_state.cc:443: info: Increasing stack size by one page.\n"
     ]
    },
    {
     "name": "stdout",
     "output_type": "stream",
     "text": [
      "Exiting @ tick 2453541003500 because exiting with last active thread context\n",
      "/home/fft_vec/gem5/build/ARM/gem5.opt --outdir=./bench/build-ARM-gem5-opt/bench_yolo-tiny/FT8/64MB/ /home/fft_vec/gem5/configs/example/se.py --cpu-clock=2GHz --l1d_size=64kB --l1i_size=16kB --caches --output=stdout.txt  --errout=stderr.txt --l2_size=64MB --l2cache -c \"./darknet\" --options \"bench_yolo-tiny\"\n",
      "\n",
      "\n"
     ]
    },
    {
     "name": "stderr",
     "output_type": "stream",
     "text": [
      "warn: The `get_runtime_isa` function is deprecated. Please migrate away from using this function.\n",
      "warn: The `get_runtime_isa` function is deprecated. Please migrate away from using this function.\n",
      "warn: No dot file generated. Please install pydot to generate the dot file and pdf.\n",
      "build/ARM/mem/dram_interface.cc:690: warn: DRAM device capacity (8192 Mbytes) does not match the address range assigned (512 Mbytes)\n",
      "build/ARM/base/remote_gdb.cc:416: warn: Sockets disabled, not accepting gdb connections\n",
      "build/ARM/sim/simulate.cc:192: info: Entering event queue @ 0.  Starting simulation...\n",
      "build/ARM/sim/syscall_emul.cc:74: warn: ignoring syscall set_robust_list(...)\n",
      "build/ARM/sim/syscall_emul.cc:74: warn: ignoring syscall rt_sigaction(...)\n",
      "build/ARM/sim/syscall_emul.cc:74: warn: ignoring syscall rt_sigaction(...)\n",
      "build/ARM/sim/syscall_emul.cc:85: warn: ignoring syscall rt_sigprocmask(...)\n",
      "      (further warnings will be suppressed)\n",
      "build/ARM/arch/arm/insts/pseudo.cc:172: warn: \tinstruction 'bti' unimplemented\n",
      "build/ARM/sim/mem_state.cc:443: info: Increasing stack size by one page.\n",
      "build/ARM/sim/syscall_emul.cc:74: warn: ignoring syscall mprotect(...)\n"
     ]
    },
    {
     "name": "stdout",
     "output_type": "stream",
     "text": [
      "Global frequency set at 1000000000000 ticks per second\n",
      "gem5 Simulator System.  https://www.gem5.org\n",
      "gem5 is copyrighted software; use the --copyright option for details.\n",
      "\n",
      "gem5 version 22.1.0.0\n",
      "gem5 compiled Jan 26 2023 15:06:33\n",
      "gem5 started Feb 15 2023 15:20:13\n",
      "gem5 executing on aldy, pid 753493\n",
      "command line: /home/fft_vec/gem5/build/ARM/gem5.opt --outdir=./bench/build-ARM-gem5-opt/bench_yolo-tiny/FT8/64MB/ /home/fft_vec/gem5/configs/example/se.py --cpu-clock=2GHz --l1d_size=64kB --l1i_size=16kB --caches --output=stdout.txt --errout=stderr.txt --l2_size=64MB --l2cache -c ./darknet --options bench_yolo-tiny\n",
      "\n",
      "info: Standard input is not a terminal, disabling listeners.\n",
      "**** REAL SIMULATION ****\n"
     ]
    },
    {
     "name": "stderr",
     "output_type": "stream",
     "text": [
      "build/ARM/sim/mem_state.cc:443: info: Increasing stack size by one page.\n",
      "build/ARM/sim/mem_state.cc:443: info: Increasing stack size by one page.\n",
      "build/ARM/sim/mem_state.cc:443: info: Increasing stack size by one page.\n"
     ]
    },
    {
     "name": "stdout",
     "output_type": "stream",
     "text": [
      "Exiting @ tick 2453540998000 because exiting with last active thread context\n",
      "/home/fft_vec/gem5/build/ARM/gem5.opt --outdir=./bench/build-ARM-gem5-opt/bench_yolo-tiny/FT8/8MB/ /home/fft_vec/gem5/configs/example/se.py --cpu-clock=2GHz --l1d_size=64kB --l1i_size=16kB --caches --output=stdout.txt  --errout=stderr.txt --l2_size=8MB --l2cache -c \"./darknet\" --options \"bench_yolo-tiny\"\n",
      "\n",
      "\n"
     ]
    },
    {
     "name": "stderr",
     "output_type": "stream",
     "text": [
      "warn: The `get_runtime_isa` function is deprecated. Please migrate away from using this function.\n",
      "warn: The `get_runtime_isa` function is deprecated. Please migrate away from using this function.\n",
      "warn: No dot file generated. Please install pydot to generate the dot file and pdf.\n",
      "build/ARM/mem/dram_interface.cc:690: warn: DRAM device capacity (8192 Mbytes) does not match the address range assigned (512 Mbytes)\n",
      "build/ARM/base/remote_gdb.cc:416: warn: Sockets disabled, not accepting gdb connections\n",
      "build/ARM/sim/simulate.cc:192: info: Entering event queue @ 0.  Starting simulation...\n",
      "build/ARM/sim/syscall_emul.cc:74: warn: ignoring syscall set_robust_list(...)\n",
      "build/ARM/sim/syscall_emul.cc:74: warn: ignoring syscall rt_sigaction(...)\n",
      "build/ARM/sim/syscall_emul.cc:74: warn: ignoring syscall rt_sigaction(...)\n",
      "build/ARM/sim/syscall_emul.cc:85: warn: ignoring syscall rt_sigprocmask(...)\n",
      "      (further warnings will be suppressed)\n",
      "build/ARM/arch/arm/insts/pseudo.cc:172: warn: \tinstruction 'bti' unimplemented\n",
      "build/ARM/sim/mem_state.cc:443: info: Increasing stack size by one page.\n",
      "build/ARM/sim/syscall_emul.cc:74: warn: ignoring syscall mprotect(...)\n",
      "build/ARM/sim/mem_state.cc:443: info: Increasing stack size by one page.\n"
     ]
    },
    {
     "name": "stdout",
     "output_type": "stream",
     "text": [
      "Global frequency set at 1000000000000 ticks per second\n",
      "gem5 Simulator System.  https://www.gem5.org\n",
      "gem5 is copyrighted software; use the --copyright option for details.\n",
      "\n",
      "gem5 version 22.1.0.0\n",
      "gem5 compiled Jan 26 2023 15:06:33\n",
      "gem5 started Feb 15 2023 15:55:15\n",
      "gem5 executing on aldy, pid 847548\n",
      "command line: /home/fft_vec/gem5/build/ARM/gem5.opt --outdir=./bench/build-ARM-gem5-opt/bench_yolo-tiny/FT8/8MB/ /home/fft_vec/gem5/configs/example/se.py --cpu-clock=2GHz --l1d_size=64kB --l1i_size=16kB --caches --output=stdout.txt --errout=stderr.txt --l2_size=8MB --l2cache -c ./darknet --options bench_yolo-tiny\n",
      "\n",
      "info: Standard input is not a terminal, disabling listeners.\n",
      "**** REAL SIMULATION ****\n"
     ]
    },
    {
     "name": "stderr",
     "output_type": "stream",
     "text": [
      "build/ARM/sim/mem_state.cc:443: info: Increasing stack size by one page.\n",
      "build/ARM/sim/mem_state.cc:443: info: Increasing stack size by one page.\n"
     ]
    },
    {
     "name": "stdout",
     "output_type": "stream",
     "text": [
      "Exiting @ tick 2453540992500 because exiting with last active thread context\n",
      "/home/fft_vec/gem5/build/ARM/gem5.opt --outdir=./bench/build-ARM-gem5-opt/bench_yolo-tiny/FT8/1MB/ /home/fft_vec/gem5/configs/example/se.py --cpu-clock=2GHz --l1d_size=64kB --l1i_size=16kB --caches --output=stdout.txt  --errout=stderr.txt --l2_size=1MB --l2cache -c \"./darknet\" --options \"bench_yolo-tiny\"\n",
      "\n",
      "\n"
     ]
    },
    {
     "name": "stderr",
     "output_type": "stream",
     "text": [
      "warn: The `get_runtime_isa` function is deprecated. Please migrate away from using this function.\n",
      "warn: The `get_runtime_isa` function is deprecated. Please migrate away from using this function.\n",
      "warn: No dot file generated. Please install pydot to generate the dot file and pdf.\n",
      "build/ARM/mem/dram_interface.cc:690: warn: DRAM device capacity (8192 Mbytes) does not match the address range assigned (512 Mbytes)\n",
      "build/ARM/base/remote_gdb.cc:416: warn: Sockets disabled, not accepting gdb connections\n",
      "build/ARM/sim/simulate.cc:192: info: Entering event queue @ 0.  Starting simulation...\n",
      "build/ARM/sim/syscall_emul.cc:74: warn: ignoring syscall set_robust_list(...)\n",
      "build/ARM/sim/syscall_emul.cc:74: warn: ignoring syscall rt_sigaction(...)\n",
      "build/ARM/sim/syscall_emul.cc:74: warn: ignoring syscall rt_sigaction(...)\n",
      "build/ARM/sim/syscall_emul.cc:85: warn: ignoring syscall rt_sigprocmask(...)\n",
      "      (further warnings will be suppressed)\n",
      "build/ARM/arch/arm/insts/pseudo.cc:172: warn: \tinstruction 'bti' unimplemented\n",
      "build/ARM/sim/mem_state.cc:443: info: Increasing stack size by one page.\n",
      "build/ARM/sim/syscall_emul.cc:74: warn: ignoring syscall mprotect(...)\n",
      "build/ARM/sim/mem_state.cc:443: info: Increasing stack size by one page.\n"
     ]
    },
    {
     "name": "stdout",
     "output_type": "stream",
     "text": [
      "Global frequency set at 1000000000000 ticks per second\n",
      "gem5 Simulator System.  https://www.gem5.org\n",
      "gem5 is copyrighted software; use the --copyright option for details.\n",
      "\n",
      "gem5 version 22.1.0.0\n",
      "gem5 compiled Jan 26 2023 15:06:33\n",
      "gem5 started Feb 15 2023 16:30:19\n",
      "gem5 executing on aldy, pid 962329\n",
      "command line: /home/fft_vec/gem5/build/ARM/gem5.opt --outdir=./bench/build-ARM-gem5-opt/bench_yolo-tiny/FT8/1MB/ /home/fft_vec/gem5/configs/example/se.py --cpu-clock=2GHz --l1d_size=64kB --l1i_size=16kB --caches --output=stdout.txt --errout=stderr.txt --l2_size=1MB --l2cache -c ./darknet --options bench_yolo-tiny\n",
      "\n",
      "info: Standard input is not a terminal, disabling listeners.\n",
      "**** REAL SIMULATION ****\n"
     ]
    },
    {
     "name": "stderr",
     "output_type": "stream",
     "text": [
      "build/ARM/sim/mem_state.cc:443: info: Increasing stack size by one page.\n",
      "build/ARM/sim/mem_state.cc:443: info: Increasing stack size by one page.\n"
     ]
    },
    {
     "name": "stdout",
     "output_type": "stream",
     "text": [
      "Exiting @ tick 2453540992500 because exiting with last active thread context\n",
      "['./bench/build-ARM-gem5-opt/bench_yolo-tiny/FT8/256MB/', './bench/build-ARM-gem5-opt/bench_yolo-tiny/FT8/64MB/', './bench/build-ARM-gem5-opt/bench_yolo-tiny/FT8/8MB/', './bench/build-ARM-gem5-opt/bench_yolo-tiny/FT8/1MB/']\n",
      "reading data from file:  ./bench/build-ARM-gem5-opt/bench_yolo-tiny/FT8/256MB/stats.txt \n",
      " \n",
      "reading data from file:  ./bench/build-ARM-gem5-opt/bench_yolo-tiny/FT8/64MB/stats.txt \n",
      " \n",
      "reading data from file:  ./bench/build-ARM-gem5-opt/bench_yolo-tiny/FT8/8MB/stats.txt \n",
      " \n",
      "reading data from file:  ./bench/build-ARM-gem5-opt/bench_yolo-tiny/FT8/1MB/stats.txt \n",
      " \n",
      "[[('simTicks', 2453541003500)], [('simTicks', 2453540998000)], [('simTicks', 2453540992500)], [('simTicks', 2453540992500)]]\n",
      "([[('simTicks', 1191124292000)], [('simTicks', 1191124286500)], [('simTicks', 1191124281000)], [('simTicks', 1191124281000)]], ['./bench/build-ARM-gem5-opt/bench_yolo-tiny/NO_PREDICT_NPP/256MB/', './bench/build-ARM-gem5-opt/bench_yolo-tiny/NO_PREDICT_NPP/64MB/', './bench/build-ARM-gem5-opt/bench_yolo-tiny/NO_PREDICT_NPP/8MB/', './bench/build-ARM-gem5-opt/bench_yolo-tiny/NO_PREDICT_NPP/1MB/'])\n",
      "run whitout prediction--..:  [[('simTicks', 1191124281000)], [('simTicks', 1191124281000)], [('simTicks', 1191124286500)], [('simTicks', 1191124292000)]]\n",
      "complete run--..:  [[('simTicks', 2453540992500)], [('simTicks', 2453540992500)], [('simTicks', 2453540998000)], [('simTicks', 2453541003500)]]\n",
      "[1262416711500, 1262416711500, 1262416711500, 1262416711500]\n",
      "['1MB', '8MB', '64MB', '256MB']\n"
     ]
    },
    {
     "data": {
      "image/png": "[encoded data removed]",
      "text/plain": [
       "<Figure size 640x480 with 1 Axes>"
      ]
     },
     "metadata": {},
     "output_type": "display_data"
    }
   ],
   "source": [
    "ft8Result = runandPlot(Program.NNPACK_FT8,yolo ,chaceOptions, chaceSizes, setupnppticks_npp)"
   ]
  },
  {
   "cell_type": "code",
   "execution_count": 26,
   "id": "c7560ea6",
   "metadata": {
    "scrolled": false
   },
   "outputs": [
    {
     "name": "stdout",
     "output_type": "stream",
     "text": [
      "reading data from file:  ./bench/build-ARM-gem5-opt/bench_yolo-tiny/FT8/256MB/stats.txt \n",
      " \n",
      "reading data from file:  ./bench/build-ARM-gem5-opt/bench_yolo-tiny/FT8/64MB/stats.txt \n",
      " \n",
      "reading data from file:  ./bench/build-ARM-gem5-opt/bench_yolo-tiny/FT8/8MB/stats.txt \n",
      " \n",
      "reading data from file:  ./bench/build-ARM-gem5-opt/bench_yolo-tiny/FT8/1MB/stats.txt \n",
      " \n",
      "reading data from file:  ./bench/build-ARM-gem5-opt/bench_yolo-tiny/NO_PREDICT_NPP/256MB/stats.txt \n",
      " \n",
      "reading data from file:  ./bench/build-ARM-gem5-opt/bench_yolo-tiny/NO_PREDICT_NPP/64MB/stats.txt \n",
      " \n",
      "reading data from file:  ./bench/build-ARM-gem5-opt/bench_yolo-tiny/NO_PREDICT_NPP/8MB/stats.txt \n",
      " \n",
      "reading data from file:  ./bench/build-ARM-gem5-opt/bench_yolo-tiny/NO_PREDICT_NPP/1MB/stats.txt \n",
      " \n",
      "run whitout prediction--..:  [[('simTicks', 1207515387000)], [('simTicks', 1207515387000)], [('simTicks', 1207515392500)], [('simTicks', 1207515398000)]]\n",
      "complete run--..:  [[('simTicks', 2453540992500)], [('simTicks', 2453540992500)], [('simTicks', 2453540998000)], [('simTicks', 2453541003500)]]\n",
      "[1246025605500, 1246025605500, 1246025605500, 1246025605500]\n",
      "['1MB', '8MB', '64MB', '256MB']\n"
     ]
    },
    {
     "data": {
      "image/png": "[encoded data removed]",
      "text/plain": [
       "<Figure size 640x480 with 1 Axes>"
      ]
     },
     "metadata": {},
     "output_type": "display_data"
    }
   ],
   "source": [
    "readandplot(ft8Result[0],chaceSizes,setupnppticks_npp)"
   ]
  },
  {
   "cell_type": "markdown",
   "id": "4b3ede89",
   "metadata": {},
   "source": [
    "# WT"
   ]
  },
  {
   "cell_type": "code",
   "execution_count": 28,
   "id": "2e3de02a",
   "metadata": {},
   "outputs": [
    {
     "name": "stdout",
     "output_type": "stream",
     "text": [
      "\n",
      " make clean; make NNPACK=1 WT=1 CC=aarch64-none-linux-gnu-gcc CPP=aarch64-none-linux-gnu-g++ \n",
      "\n",
      "rm -rf ./obj/gemm.o ./obj/utils.o ./obj/cuda.o ./obj/deconvolutional_layer.o ./obj/convolutional_layer.o ./obj/list.o ./obj/image.o ./obj/activations.o ./obj/im2col.o ./obj/col2im.o ./obj/blas.o ./obj/crop_layer.o ./obj/dropout_layer.o ./obj/maxpool_layer.o ./obj/softmax_layer.o ./obj/data.o ./obj/matrix.o ./obj/network.o ./obj/connected_layer.o ./obj/cost_layer.o ./obj/parser.o ./obj/option_list.o ./obj/detection_layer.o ./obj/route_layer.o ./obj/upsample_layer.o ./obj/box.o ./obj/normalization_layer.o ./obj/avgpool_layer.o ./obj/layer.o ./obj/local_layer.o ./obj/shortcut_layer.o ./obj/logistic_layer.o ./obj/activation_layer.o ./obj/rnn_layer.o ./obj/gru_layer.o ./obj/crnn_layer.o ./obj/demo.o ./obj/batchnorm_layer.o ./obj/region_layer.o ./obj/reorg_layer.o ./obj/tree.o ./obj/lstm_layer.o ./obj/l2norm_layer.o ./obj/yolo_layer.o ./obj/iseg_layer.o ./obj/image_opencv.o libdarknet.so libdarknet.a darknet ./obj/captcha.o ./obj/lsd.o ./obj/super.o ./obj/art.o ./obj/tag.o ./obj/cifar.o ./obj/go.o ./obj/rnn.o ./obj/segmenter.o ./obj/regressor.o ./obj/classifier.o ./obj/coco.o ./obj/yolo.o ./obj/detector.o ./obj/nightmare.o ./obj/instance-segmenter.o ./obj/darknet.o ./obj/test.o ./obj//*\n",
      "NNPACK=1\n",
      "CPP=aarch64-none-linux-gnu-g++\n",
      "WT=1\n",
      "CC=aarch64-none-linux-gnu-gcc\n",
      "aarch64-none-linux-gnu-gcc -Iinclude/ -Isrc/ -Wall -Wno-unused-result -Wno-unknown-pragmas -Wfatal-errors -static -Ofast -fno-tree-vectorize -DNNPACK -DWT -c ./src/gemm.c -o obj/gemm.o\n",
      "aarch64-none-linux-gnu-gcc -Iinclude/ -Isrc/ -Wall -Wno-unused-result -Wno-unknown-pragmas -Wfatal-errors -static -Ofast -fno-tree-vectorize -DNNPACK -DWT -c ./src/utils.c -o obj/utils.o\n"
     ]
    },
    {
     "name": "stderr",
     "output_type": "stream",
     "text": [
      "In function ‘copy_string’,\n",
      "    inlined from ‘basecfg’ at ./src/utils.c:187:9:\n",
      "./src/utils.c:426:5: warning: ‘strncpy’ specified bound depends on the length of the source argument [-Wstringop-overflow=]\n",
      "  426 |     strncpy(copy, s, strlen(s)+1);\n",
      "      |     ^~~~~~~~~~~~~~~~~~~~~~~~~~~~~\n",
      "./src/utils.c: In function ‘basecfg’:\n",
      "./src/utils.c:426:22: note: length computed here\n",
      "  426 |     strncpy(copy, s, strlen(s)+1);\n",
      "      |                      ^~~~~~~~~\n",
      "./src/utils.c: In function ‘copy_string’:\n",
      "./src/utils.c:426:5: warning: ‘strncpy’ specified bound depends on the length of the source argument [-Wstringop-overflow=]\n",
      "  426 |     strncpy(copy, s, strlen(s)+1);\n",
      "      |     ^~~~~~~~~~~~~~~~~~~~~~~~~~~~~\n",
      "./src/utils.c:426:22: note: length computed here\n",
      "  426 |     strncpy(copy, s, strlen(s)+1);\n",
      "      |                      ^~~~~~~~~\n",
      "In function ‘copy_string’,\n",
      "    inlined from ‘parse_csv_line’ at ./src/utils.c:439:28:\n",
      "./src/utils.c:426:5: warning: ‘strncpy’ specified bound depends on the length of the source argument [-Wstringop-overflow=]\n",
      "  426 |     strncpy(copy, s, strlen(s)+1);\n",
      "      |     ^~~~~~~~~~~~~~~~~~~~~~~~~~~~~\n",
      "./src/utils.c: In function ‘parse_csv_line’:\n",
      "./src/utils.c:426:22: note: length computed here\n",
      "  426 |     strncpy(copy, s, strlen(s)+1);\n",
      "      |                      ^~~~~~~~~\n",
      "In function ‘copy_string’,\n",
      "    inlined from ‘parse_csv_line’ at ./src/utils.c:443:20:\n",
      "./src/utils.c:426:5: warning: ‘strncpy’ specified bound depends on the length of the source argument [-Wstringop-overflow=]\n",
      "  426 |     strncpy(copy, s, strlen(s)+1);\n",
      "      |     ^~~~~~~~~~~~~~~~~~~~~~~~~~~~~\n",
      "./src/utils.c: In function ‘parse_csv_line’:\n",
      "./src/utils.c:426:22: note: length computed here\n",
      "  426 |     strncpy(copy, s, strlen(s)+1);\n",
      "      |                      ^~~~~~~~~\n"
     ]
    },
    {
     "name": "stdout",
     "output_type": "stream",
     "text": [
      "aarch64-none-linux-gnu-gcc -Iinclude/ -Isrc/ -Wall -Wno-unused-result -Wno-unknown-pragmas -Wfatal-errors -static -Ofast -fno-tree-vectorize -DNNPACK -DWT -c ./src/cuda.c -o obj/cuda.o\n",
      "aarch64-none-linux-gnu-gcc -Iinclude/ -Isrc/ -Wall -Wno-unused-result -Wno-unknown-pragmas -Wfatal-errors -static -Ofast -fno-tree-vectorize -DNNPACK -DWT -c ./src/deconvolutional_layer.c -o obj/deconvolutional_layer.o\n",
      "aarch64-none-linux-gnu-gcc -Iinclude/ -Isrc/ -Wall -Wno-unused-result -Wno-unknown-pragmas -Wfatal-errors -static -Ofast -fno-tree-vectorize -DNNPACK -DWT -c ./src/convolutional_layer.c -o obj/convolutional_layer.o\n",
      "aarch64-none-linux-gnu-gcc -Iinclude/ -Isrc/ -Wall -Wno-unused-result -Wno-unknown-pragmas -Wfatal-errors -static -Ofast -fno-tree-vectorize -DNNPACK -DWT -c ./src/list.c -o obj/list.o\n",
      "aarch64-none-linux-gnu-gcc -Iinclude/ -Isrc/ -Wall -Wno-unused-result -Wno-unknown-pragmas -Wfatal-errors -static -Ofast -fno-tree-vectorize -DNNPACK -DWT -c ./src/image.c -o obj/image.o\n",
      "aarch64-none-linux-gnu-gcc -Iinclude/ -Isrc/ -Wall -Wno-unused-result -Wno-unknown-pragmas -Wfatal-errors -static -Ofast -fno-tree-vectorize -DNNPACK -DWT -c ./src/activations.c -o obj/activations.o\n",
      "aarch64-none-linux-gnu-gcc -Iinclude/ -Isrc/ -Wall -Wno-unused-result -Wno-unknown-pragmas -Wfatal-errors -static -Ofast -fno-tree-vectorize -DNNPACK -DWT -c ./src/im2col.c -o obj/im2col.o\n",
      "aarch64-none-linux-gnu-gcc -Iinclude/ -Isrc/ -Wall -Wno-unused-result -Wno-unknown-pragmas -Wfatal-errors -static -Ofast -fno-tree-vectorize -DNNPACK -DWT -c ./src/col2im.c -o obj/col2im.o\n",
      "aarch64-none-linux-gnu-gcc -Iinclude/ -Isrc/ -Wall -Wno-unused-result -Wno-unknown-pragmas -Wfatal-errors -static -Ofast -fno-tree-vectorize -DNNPACK -DWT -c ./src/blas.c -o obj/blas.o\n",
      "aarch64-none-linux-gnu-gcc -Iinclude/ -Isrc/ -Wall -Wno-unused-result -Wno-unknown-pragmas -Wfatal-errors -static -Ofast -fno-tree-vectorize -DNNPACK -DWT -c ./src/crop_layer.c -o obj/crop_layer.o\n",
      "aarch64-none-linux-gnu-gcc -Iinclude/ -Isrc/ -Wall -Wno-unused-result -Wno-unknown-pragmas -Wfatal-errors -static -Ofast -fno-tree-vectorize -DNNPACK -DWT -c ./src/dropout_layer.c -o obj/dropout_layer.o\n",
      "aarch64-none-linux-gnu-gcc -Iinclude/ -Isrc/ -Wall -Wno-unused-result -Wno-unknown-pragmas -Wfatal-errors -static -Ofast -fno-tree-vectorize -DNNPACK -DWT -c ./src/maxpool_layer.c -o obj/maxpool_layer.o\n",
      "aarch64-none-linux-gnu-gcc -Iinclude/ -Isrc/ -Wall -Wno-unused-result -Wno-unknown-pragmas -Wfatal-errors -static -Ofast -fno-tree-vectorize -DNNPACK -DWT -c ./src/softmax_layer.c -o obj/softmax_layer.o\n",
      "aarch64-none-linux-gnu-gcc -Iinclude/ -Isrc/ -Wall -Wno-unused-result -Wno-unknown-pragmas -Wfatal-errors -static -Ofast -fno-tree-vectorize -DNNPACK -DWT -c ./src/data.c -o obj/data.o\n",
      "aarch64-none-linux-gnu-gcc -Iinclude/ -Isrc/ -Wall -Wno-unused-result -Wno-unknown-pragmas -Wfatal-errors -static -Ofast -fno-tree-vectorize -DNNPACK -DWT -c ./src/matrix.c -o obj/matrix.o\n",
      "aarch64-none-linux-gnu-gcc -Iinclude/ -Isrc/ -Wall -Wno-unused-result -Wno-unknown-pragmas -Wfatal-errors -static -Ofast -fno-tree-vectorize -DNNPACK -DWT -c ./src/network.c -o obj/network.o\n",
      "aarch64-none-linux-gnu-gcc -Iinclude/ -Isrc/ -Wall -Wno-unused-result -Wno-unknown-pragmas -Wfatal-errors -static -Ofast -fno-tree-vectorize -DNNPACK -DWT -c ./src/connected_layer.c -o obj/connected_layer.o\n",
      "aarch64-none-linux-gnu-gcc -Iinclude/ -Isrc/ -Wall -Wno-unused-result -Wno-unknown-pragmas -Wfatal-errors -static -Ofast -fno-tree-vectorize -DNNPACK -DWT -c ./src/cost_layer.c -o obj/cost_layer.o\n",
      "aarch64-none-linux-gnu-gcc -Iinclude/ -Isrc/ -Wall -Wno-unused-result -Wno-unknown-pragmas -Wfatal-errors -static -Ofast -fno-tree-vectorize -DNNPACK -DWT -c ./src/parser.c -o obj/parser.o\n",
      "aarch64-none-linux-gnu-gcc -Iinclude/ -Isrc/ -Wall -Wno-unused-result -Wno-unknown-pragmas -Wfatal-errors -static -Ofast -fno-tree-vectorize -DNNPACK -DWT -c ./src/option_list.c -o obj/option_list.o\n",
      "aarch64-none-linux-gnu-gcc -Iinclude/ -Isrc/ -Wall -Wno-unused-result -Wno-unknown-pragmas -Wfatal-errors -static -Ofast -fno-tree-vectorize -DNNPACK -DWT -c ./src/detection_layer.c -o obj/detection_layer.o\n",
      "aarch64-none-linux-gnu-gcc -Iinclude/ -Isrc/ -Wall -Wno-unused-result -Wno-unknown-pragmas -Wfatal-errors -static -Ofast -fno-tree-vectorize -DNNPACK -DWT -c ./src/route_layer.c -o obj/route_layer.o\n",
      "aarch64-none-linux-gnu-gcc -Iinclude/ -Isrc/ -Wall -Wno-unused-result -Wno-unknown-pragmas -Wfatal-errors -static -Ofast -fno-tree-vectorize -DNNPACK -DWT -c ./src/upsample_layer.c -o obj/upsample_layer.o\n",
      "aarch64-none-linux-gnu-gcc -Iinclude/ -Isrc/ -Wall -Wno-unused-result -Wno-unknown-pragmas -Wfatal-errors -static -Ofast -fno-tree-vectorize -DNNPACK -DWT -c ./src/box.c -o obj/box.o\n",
      "aarch64-none-linux-gnu-gcc -Iinclude/ -Isrc/ -Wall -Wno-unused-result -Wno-unknown-pragmas -Wfatal-errors -static -Ofast -fno-tree-vectorize -DNNPACK -DWT -c ./src/normalization_layer.c -o obj/normalization_layer.o\n",
      "aarch64-none-linux-gnu-gcc -Iinclude/ -Isrc/ -Wall -Wno-unused-result -Wno-unknown-pragmas -Wfatal-errors -static -Ofast -fno-tree-vectorize -DNNPACK -DWT -c ./src/avgpool_layer.c -o obj/avgpool_layer.o\n",
      "aarch64-none-linux-gnu-gcc -Iinclude/ -Isrc/ -Wall -Wno-unused-result -Wno-unknown-pragmas -Wfatal-errors -static -Ofast -fno-tree-vectorize -DNNPACK -DWT -c ./src/layer.c -o obj/layer.o\n",
      "aarch64-none-linux-gnu-gcc -Iinclude/ -Isrc/ -Wall -Wno-unused-result -Wno-unknown-pragmas -Wfatal-errors -static -Ofast -fno-tree-vectorize -DNNPACK -DWT -c ./src/local_layer.c -o obj/local_layer.o\n",
      "aarch64-none-linux-gnu-gcc -Iinclude/ -Isrc/ -Wall -Wno-unused-result -Wno-unknown-pragmas -Wfatal-errors -static -Ofast -fno-tree-vectorize -DNNPACK -DWT -c ./src/shortcut_layer.c -o obj/shortcut_layer.o\n",
      "aarch64-none-linux-gnu-gcc -Iinclude/ -Isrc/ -Wall -Wno-unused-result -Wno-unknown-pragmas -Wfatal-errors -static -Ofast -fno-tree-vectorize -DNNPACK -DWT -c ./src/logistic_layer.c -o obj/logistic_layer.o\n",
      "aarch64-none-linux-gnu-gcc -Iinclude/ -Isrc/ -Wall -Wno-unused-result -Wno-unknown-pragmas -Wfatal-errors -static -Ofast -fno-tree-vectorize -DNNPACK -DWT -c ./src/activation_layer.c -o obj/activation_layer.o\n",
      "aarch64-none-linux-gnu-gcc -Iinclude/ -Isrc/ -Wall -Wno-unused-result -Wno-unknown-pragmas -Wfatal-errors -static -Ofast -fno-tree-vectorize -DNNPACK -DWT -c ./src/rnn_layer.c -o obj/rnn_layer.o\n",
      "aarch64-none-linux-gnu-gcc -Iinclude/ -Isrc/ -Wall -Wno-unused-result -Wno-unknown-pragmas -Wfatal-errors -static -Ofast -fno-tree-vectorize -DNNPACK -DWT -c ./src/gru_layer.c -o obj/gru_layer.o\n",
      "aarch64-none-linux-gnu-gcc -Iinclude/ -Isrc/ -Wall -Wno-unused-result -Wno-unknown-pragmas -Wfatal-errors -static -Ofast -fno-tree-vectorize -DNNPACK -DWT -c ./src/crnn_layer.c -o obj/crnn_layer.o\n",
      "aarch64-none-linux-gnu-gcc -Iinclude/ -Isrc/ -Wall -Wno-unused-result -Wno-unknown-pragmas -Wfatal-errors -static -Ofast -fno-tree-vectorize -DNNPACK -DWT -c ./src/demo.c -o obj/demo.o\n",
      "aarch64-none-linux-gnu-gcc -Iinclude/ -Isrc/ -Wall -Wno-unused-result -Wno-unknown-pragmas -Wfatal-errors -static -Ofast -fno-tree-vectorize -DNNPACK -DWT -c ./src/batchnorm_layer.c -o obj/batchnorm_layer.o\n",
      "aarch64-none-linux-gnu-gcc -Iinclude/ -Isrc/ -Wall -Wno-unused-result -Wno-unknown-pragmas -Wfatal-errors -static -Ofast -fno-tree-vectorize -DNNPACK -DWT -c ./src/region_layer.c -o obj/region_layer.o\n",
      "aarch64-none-linux-gnu-gcc -Iinclude/ -Isrc/ -Wall -Wno-unused-result -Wno-unknown-pragmas -Wfatal-errors -static -Ofast -fno-tree-vectorize -DNNPACK -DWT -c ./src/reorg_layer.c -o obj/reorg_layer.o\n",
      "aarch64-none-linux-gnu-gcc -Iinclude/ -Isrc/ -Wall -Wno-unused-result -Wno-unknown-pragmas -Wfatal-errors -static -Ofast -fno-tree-vectorize -DNNPACK -DWT -c ./src/tree.c -o obj/tree.o\n",
      "aarch64-none-linux-gnu-gcc -Iinclude/ -Isrc/ -Wall -Wno-unused-result -Wno-unknown-pragmas -Wfatal-errors -static -Ofast -fno-tree-vectorize -DNNPACK -DWT -c ./src/lstm_layer.c -o obj/lstm_layer.o\n",
      "aarch64-none-linux-gnu-gcc -Iinclude/ -Isrc/ -Wall -Wno-unused-result -Wno-unknown-pragmas -Wfatal-errors -static -Ofast -fno-tree-vectorize -DNNPACK -DWT -c ./src/l2norm_layer.c -o obj/l2norm_layer.o\n",
      "aarch64-none-linux-gnu-gcc -Iinclude/ -Isrc/ -Wall -Wno-unused-result -Wno-unknown-pragmas -Wfatal-errors -static -Ofast -fno-tree-vectorize -DNNPACK -DWT -c ./src/yolo_layer.c -o obj/yolo_layer.o\n"
     ]
    },
    {
     "name": "stdout",
     "output_type": "stream",
     "text": [
      "aarch64-none-linux-gnu-gcc -Iinclude/ -Isrc/ -Wall -Wno-unused-result -Wno-unknown-pragmas -Wfatal-errors -static -Ofast -fno-tree-vectorize -DNNPACK -DWT -c ./src/iseg_layer.c -o obj/iseg_layer.o\n",
      "aarch64-none-linux-gnu-g++ -Iinclude/ -Isrc/ -Wall -Wno-unused-result -Wno-unknown-pragmas -Wfatal-errors -static -Ofast -fno-tree-vectorize -DNNPACK -DWT -c ./src/image_opencv.cpp -o obj/image_opencv.o\n",
      "ar rcs libdarknet.a obj/gemm.o obj/utils.o obj/cuda.o obj/deconvolutional_layer.o obj/convolutional_layer.o obj/list.o obj/image.o obj/activations.o obj/im2col.o obj/col2im.o obj/blas.o obj/crop_layer.o obj/dropout_layer.o obj/maxpool_layer.o obj/softmax_layer.o obj/data.o obj/matrix.o obj/network.o obj/connected_layer.o obj/cost_layer.o obj/parser.o obj/option_list.o obj/detection_layer.o obj/route_layer.o obj/upsample_layer.o obj/box.o obj/normalization_layer.o obj/avgpool_layer.o obj/layer.o obj/local_layer.o obj/shortcut_layer.o obj/logistic_layer.o obj/activation_layer.o obj/rnn_layer.o obj/gru_layer.o obj/crnn_layer.o obj/demo.o obj/batchnorm_layer.o obj/region_layer.o obj/reorg_layer.o obj/tree.o obj/lstm_layer.o obj/l2norm_layer.o obj/yolo_layer.o obj/iseg_layer.o obj/image_opencv.o\n",
      "aarch64-none-linux-gnu-gcc -Iinclude/ -Isrc/ -Wall -Wno-unused-result -Wno-unknown-pragmas -Wfatal-errors -static -Ofast -fno-tree-vectorize -DNNPACK -DWT -c ./examples/captcha.c -o obj/captcha.o\n",
      "aarch64-none-linux-gnu-gcc -Iinclude/ -Isrc/ -Wall -Wno-unused-result -Wno-unknown-pragmas -Wfatal-errors -static -Ofast -fno-tree-vectorize -DNNPACK -DWT -c ./examples/lsd.c -o obj/lsd.o\n",
      "aarch64-none-linux-gnu-gcc -Iinclude/ -Isrc/ -Wall -Wno-unused-result -Wno-unknown-pragmas -Wfatal-errors -static -Ofast -fno-tree-vectorize -DNNPACK -DWT -c ./examples/super.c -o obj/super.o\n",
      "aarch64-none-linux-gnu-gcc -Iinclude/ -Isrc/ -Wall -Wno-unused-result -Wno-unknown-pragmas -Wfatal-errors -static -Ofast -fno-tree-vectorize -DNNPACK -DWT -c ./examples/art.c -o obj/art.o\n",
      "aarch64-none-linux-gnu-gcc -Iinclude/ -Isrc/ -Wall -Wno-unused-result -Wno-unknown-pragmas -Wfatal-errors -static -Ofast -fno-tree-vectorize -DNNPACK -DWT -c ./examples/tag.c -o obj/tag.o\n",
      "aarch64-none-linux-gnu-gcc -Iinclude/ -Isrc/ -Wall -Wno-unused-result -Wno-unknown-pragmas -Wfatal-errors -static -Ofast -fno-tree-vectorize -DNNPACK -DWT -c ./examples/cifar.c -o obj/cifar.o\n",
      "aarch64-none-linux-gnu-gcc -Iinclude/ -Isrc/ -Wall -Wno-unused-result -Wno-unknown-pragmas -Wfatal-errors -static -Ofast -fno-tree-vectorize -DNNPACK -DWT -c ./examples/go.c -o obj/go.o\n",
      "aarch64-none-linux-gnu-gcc -Iinclude/ -Isrc/ -Wall -Wno-unused-result -Wno-unknown-pragmas -Wfatal-errors -static -Ofast -fno-tree-vectorize -DNNPACK -DWT -c ./examples/rnn.c -o obj/rnn.o\n",
      "aarch64-none-linux-gnu-gcc -Iinclude/ -Isrc/ -Wall -Wno-unused-result -Wno-unknown-pragmas -Wfatal-errors -static -Ofast -fno-tree-vectorize -DNNPACK -DWT -c ./examples/segmenter.c -o obj/segmenter.o\n",
      "aarch64-none-linux-gnu-gcc -Iinclude/ -Isrc/ -Wall -Wno-unused-result -Wno-unknown-pragmas -Wfatal-errors -static -Ofast -fno-tree-vectorize -DNNPACK -DWT -c ./examples/regressor.c -o obj/regressor.o\n",
      "aarch64-none-linux-gnu-gcc -Iinclude/ -Isrc/ -Wall -Wno-unused-result -Wno-unknown-pragmas -Wfatal-errors -static -Ofast -fno-tree-vectorize -DNNPACK -DWT -c ./examples/classifier.c -o obj/classifier.o\n",
      "aarch64-none-linux-gnu-gcc -Iinclude/ -Isrc/ -Wall -Wno-unused-result -Wno-unknown-pragmas -Wfatal-errors -static -Ofast -fno-tree-vectorize -DNNPACK -DWT -c ./examples/coco.c -o obj/coco.o\n",
      "aarch64-none-linux-gnu-gcc -Iinclude/ -Isrc/ -Wall -Wno-unused-result -Wno-unknown-pragmas -Wfatal-errors -static -Ofast -fno-tree-vectorize -DNNPACK -DWT -c ./examples/yolo.c -o obj/yolo.o\n",
      "aarch64-none-linux-gnu-gcc -Iinclude/ -Isrc/ -Wall -Wno-unused-result -Wno-unknown-pragmas -Wfatal-errors -static -Ofast -fno-tree-vectorize -DNNPACK -DWT -c ./examples/detector.c -o obj/detector.o\n",
      "aarch64-none-linux-gnu-gcc -Iinclude/ -Isrc/ -Wall -Wno-unused-result -Wno-unknown-pragmas -Wfatal-errors -static -Ofast -fno-tree-vectorize -DNNPACK -DWT -c ./examples/nightmare.c -o obj/nightmare.o\n",
      "aarch64-none-linux-gnu-gcc -Iinclude/ -Isrc/ -Wall -Wno-unused-result -Wno-unknown-pragmas -Wfatal-errors -static -Ofast -fno-tree-vectorize -DNNPACK -DWT -c ./examples/instance-segmenter.c -o obj/instance-segmenter.o\n",
      "aarch64-none-linux-gnu-gcc -Iinclude/ -Isrc/ -Wall -Wno-unused-result -Wno-unknown-pragmas -Wfatal-errors -static -Ofast -fno-tree-vectorize -DNNPACK -DWT -c ./examples/darknet.c -o obj/darknet.o\n",
      "aarch64-none-linux-gnu-gcc -Iinclude/ -Isrc/ -Wall -Wno-unused-result -Wno-unknown-pragmas -Wfatal-errors -static -Ofast -fno-tree-vectorize -DNNPACK -DWT -c ./examples/test.c -o obj/test.o\n",
      "aarch64-none-linux-gnu-gcc -Iinclude/ -Isrc/ -Wall -Wno-unused-result -Wno-unknown-pragmas -Wfatal-errors -static -Ofast -fno-tree-vectorize -DNNPACK -DWT obj/captcha.o obj/lsd.o obj/super.o obj/art.o obj/tag.o obj/cifar.o obj/go.o obj/rnn.o obj/segmenter.o obj/regressor.o obj/classifier.o obj/coco.o obj/yolo.o obj/detector.o obj/nightmare.o obj/instance-segmenter.o obj/darknet.o obj/test.o libdarknet.a -o darknet -lm -pthread -L/home/fft_vec/arm-deps/usr/local/lib -l:libnnpack.a -l:libpthreadpool.a -l:libcpuinfo.a -l:libclog.a libdarknet.a\n",
      "/home/fft_vec/gem5/build/ARM/gem5.opt --outdir=./bench/build-ARM-gem5-opt/bench_yolo-tiny/WT/64MB/ /home/fft_vec/gem5/configs/example/se.py --cpu-clock=2GHz --l1d_size=64kB --l1i_size=16kB --caches --output=stdout.txt  --errout=stderr.txt --l2_size=64MB --l2cache -c \"./darknet\" --options \"bench_yolo-tiny\"\n",
      "\n",
      "\n"
     ]
    },
    {
     "name": "stderr",
     "output_type": "stream",
     "text": [
      "warn: The `get_runtime_isa` function is deprecated. Please migrate away from using this function.\n",
      "warn: The `get_runtime_isa` function is deprecated. Please migrate away from using this function.\n",
      "warn: No dot file generated. Please install pydot to generate the dot file and pdf.\n",
      "build/ARM/mem/dram_interface.cc:690: warn: DRAM device capacity (8192 Mbytes) does not match the address range assigned (512 Mbytes)\n",
      "build/ARM/base/remote_gdb.cc:416: warn: Sockets disabled, not accepting gdb connections\n",
      "build/ARM/sim/simulate.cc:192: info: Entering event queue @ 0.  Starting simulation...\n",
      "build/ARM/sim/syscall_emul.cc:74: warn: ignoring syscall set_robust_list(...)\n",
      "build/ARM/sim/syscall_emul.cc:74: warn: ignoring syscall rt_sigaction(...)\n",
      "build/ARM/sim/syscall_emul.cc:74: warn: ignoring syscall rt_sigaction(...)\n",
      "build/ARM/sim/syscall_emul.cc:85: warn: ignoring syscall rt_sigprocmask(...)\n",
      "      (further warnings will be suppressed)\n",
      "build/ARM/arch/arm/insts/pseudo.cc:172: warn: \tinstruction 'bti' unimplemented\n",
      "build/ARM/sim/mem_state.cc:443: info: Increasing stack size by one page.\n",
      "build/ARM/sim/syscall_emul.cc:74: warn: ignoring syscall mprotect(...)\n",
      "build/ARM/sim/mem_state.cc:443: info: Increasing stack size by one page.\n"
     ]
    },
    {
     "name": "stdout",
     "output_type": "stream",
     "text": [
      "Global frequency set at 1000000000000 ticks per second\n",
      "gem5 Simulator System.  https://www.gem5.org\n",
      "gem5 is copyrighted software; use the --copyright option for details.\n",
      "\n",
      "gem5 version 22.1.0.0\n",
      "gem5 compiled Jan 26 2023 15:06:33\n",
      "gem5 started Feb 16 2023 12:58:42\n",
      "gem5 executing on aldy, pid 3626148\n",
      "command line: /home/fft_vec/gem5/build/ARM/gem5.opt --outdir=./bench/build-ARM-gem5-opt/bench_yolo-tiny/WT/64MB/ /home/fft_vec/gem5/configs/example/se.py --cpu-clock=2GHz --l1d_size=64kB --l1i_size=16kB --caches --output=stdout.txt --errout=stderr.txt --l2_size=64MB --l2cache -c ./darknet --options bench_yolo-tiny\n",
      "\n",
      "info: Standard input is not a terminal, disabling listeners.\n",
      "**** REAL SIMULATION ****\n"
     ]
    },
    {
     "name": "stderr",
     "output_type": "stream",
     "text": [
      "build/ARM/sim/mem_state.cc:443: info: Increasing stack size by one page.\n",
      "build/ARM/sim/mem_state.cc:443: info: Increasing stack size by one page.\n"
     ]
    },
    {
     "name": "stdout",
     "output_type": "stream",
     "text": [
      "Exiting @ tick 1873947379500 because exiting with last active thread context\n",
      "['./bench/build-ARM-gem5-opt/bench_yolo-tiny/WT/64MB/']\n",
      "reading data from file:  ./bench/build-ARM-gem5-opt/bench_yolo-tiny/WT/64MB/stats.txt \n",
      " \n",
      "[[('simTicks', 1873947379500)]]\n",
      "([[('simTicks', 1207515398000)], [('simTicks', 1207515392500)], [('simTicks', 1207515387000)], [('simTicks', 1207515387000)]], ['./bench/build-ARM-gem5-opt/bench_yolo-tiny/NO_PREDICT_NPP/256MB/', './bench/build-ARM-gem5-opt/bench_yolo-tiny/NO_PREDICT_NPP/64MB/', './bench/build-ARM-gem5-opt/bench_yolo-tiny/NO_PREDICT_NPP/8MB/', './bench/build-ARM-gem5-opt/bench_yolo-tiny/NO_PREDICT_NPP/1MB/'])\n",
      "run whitout prediction--..:  [[('simTicks', 1207515387000)], [('simTicks', 1207515387000)], [('simTicks', 1207515392500)], [('simTicks', 1207515398000)]]\n",
      "complete run--..:  [[('simTicks', 1873947379500)]]\n",
      "[666431992500]\n",
      "['64MB']\n"
     ]
    },
    {
     "data": {
      "image/png": "[encoded data removed]",
      "text/plain": [
       "<Figure size 640x480 with 1 Axes>"
      ]
     },
     "metadata": {},
     "output_type": "display_data"
    }
   ],
   "source": [
    "wtResult = runandPlot(Program.NNPACK_WT,yolo ,chaceOptions, chaceSizes, setupnppticks_npp)"
   ]
  },
  {
   "cell_type": "code",
   "execution_count": 29,
   "id": "8315b54a",
   "metadata": {},
   "outputs": [
    {
     "name": "stdout",
     "output_type": "stream",
     "text": [
      "reading data from file:  ./bench/build-ARM-gem5-opt/bench_yolo-tiny/WT/64MB/stats.txt \n",
      " \n",
      "reading data from file:  ./bench/build-ARM-gem5-opt/bench_yolo-tiny/NO_PREDICT_NPP/256MB/stats.txt \n",
      " \n",
      "reading data from file:  ./bench/build-ARM-gem5-opt/bench_yolo-tiny/NO_PREDICT_NPP/64MB/stats.txt \n",
      " \n",
      "reading data from file:  ./bench/build-ARM-gem5-opt/bench_yolo-tiny/NO_PREDICT_NPP/8MB/stats.txt \n",
      " \n",
      "reading data from file:  ./bench/build-ARM-gem5-opt/bench_yolo-tiny/NO_PREDICT_NPP/1MB/stats.txt \n",
      " \n",
      "run whitout prediction--..:  [[('simTicks', 1207515387000)], [('simTicks', 1207515387000)], [('simTicks', 1207515392500)], [('simTicks', 1207515398000)]]\n",
      "complete run--..:  [[('simTicks', 1873947379500)]]\n",
      "[666431992500]\n",
      "['64MB']\n"
     ]
    },
    {
     "data": {
      "image/png": "[encoded data removed]",
      "text/plain": [
       "<Figure size 640x480 with 1 Axes>"
      ]
     },
     "metadata": {},
     "output_type": "display_data"
    }
   ],
   "source": [
    "readandplot(wtResult[0],chaceSizes,setupnppticks_npp)"
   ]
  },
  {
   "cell_type": "markdown",
   "id": "25c09a1f",
   "metadata": {},
   "source": [
    "# FT16"
   ]
  },
  {
   "cell_type": "code",
   "execution_count": null,
   "id": "0c40e544",
   "metadata": {
    "scrolled": false
   },
   "outputs": [],
   "source": [
    "ft16Result = runandPlot(Program.NNPACK_FT16,yolo ,chaceOptions, chaceSizes, setupnppticks_npp)"
   ]
  },
  {
   "cell_type": "code",
   "execution_count": null,
   "id": "931e818f",
   "metadata": {
    "scrolled": false
   },
   "outputs": [],
   "source": [
    "readandplot(ft16Result[0],chaceSizes,setupnppticks_npp)"
   ]
  },
  {
   "cell_type": "markdown",
   "id": "c360ed52",
   "metadata": {},
   "source": [
    "## baseline"
   ]
  },
  {
   "cell_type": "code",
   "execution_count": null,
   "id": "a7a70aea",
   "metadata": {},
   "outputs": [],
   "source": [
    "#setupticks = cyclesToSetup_baseline(yolo)\n",
    "#setupticks"
   ]
  },
  {
   "cell_type": "code",
   "execution_count": null,
   "id": "8715745f",
   "metadata": {},
   "outputs": [],
   "source": [
    "#baslineResult = runandPlot(Program.BASELINE,yolo ,chaceOptions, chaceSizes, setupticks)"
   ]
  },
  {
   "cell_type": "code",
   "execution_count": null,
   "id": "cedd3292",
   "metadata": {
    "scrolled": true
   },
   "outputs": [],
   "source": [
    "#readandplot(baslineResult[0],chaceSizes,setupticks)"
   ]
  },
  {
   "cell_type": "markdown",
   "id": "0870483e",
   "metadata": {},
   "source": [
    "# GEMM"
   ]
  },
  {
   "cell_type": "code",
   "execution_count": null,
   "id": "2c2b9960",
   "metadata": {
    "scrolled": false
   },
   "outputs": [],
   "source": [
    "gemmResult = runandPlot(Program.NNPACK_GEMM,yolo ,chaceOptions, chaceSizes, setupnppticks_npp)"
   ]
  },
  {
   "cell_type": "code",
   "execution_count": null,
   "id": "614fc483",
   "metadata": {
    "scrolled": true
   },
   "outputs": [],
   "source": [
    "readandplot(gemmResult[0],chaceSizes,setupnppticks_npp)"
   ]
  },
  {
   "cell_type": "code",
   "execution_count": null,
   "id": "990c3dc5",
   "metadata": {},
   "outputs": [],
   "source": []
  },
  {
   "cell_type": "markdown",
   "id": "795804d9",
   "metadata": {},
   "source": [
    "# FT8,FT16, WT, GEMM"
   ]
  },
  {
   "cell_type": "code",
   "execution_count": 30,
   "id": "ef12ee0b",
   "metadata": {},
   "outputs": [
    {
     "name": "stdout",
     "output_type": "stream",
     "text": [
      "\n",
      " make clean; make NNPACK=1 NO_PREDICT=1 FT8=1 CC=aarch64-none-linux-gnu-gcc CPP=aarch64-none-linux-gnu-g++ \n",
      "\n",
      "rm -rf ./obj/gemm.o ./obj/utils.o ./obj/cuda.o ./obj/deconvolutional_layer.o ./obj/convolutional_layer.o ./obj/list.o ./obj/image.o ./obj/activations.o ./obj/im2col.o ./obj/col2im.o ./obj/blas.o ./obj/crop_layer.o ./obj/dropout_layer.o ./obj/maxpool_layer.o ./obj/softmax_layer.o ./obj/data.o ./obj/matrix.o ./obj/network.o ./obj/connected_layer.o ./obj/cost_layer.o ./obj/parser.o ./obj/option_list.o ./obj/detection_layer.o ./obj/route_layer.o ./obj/upsample_layer.o ./obj/box.o ./obj/normalization_layer.o ./obj/avgpool_layer.o ./obj/layer.o ./obj/local_layer.o ./obj/shortcut_layer.o ./obj/logistic_layer.o ./obj/activation_layer.o ./obj/rnn_layer.o ./obj/gru_layer.o ./obj/crnn_layer.o ./obj/demo.o ./obj/batchnorm_layer.o ./obj/region_layer.o ./obj/reorg_layer.o ./obj/tree.o ./obj/lstm_layer.o ./obj/l2norm_layer.o ./obj/yolo_layer.o ./obj/iseg_layer.o ./obj/image_opencv.o libdarknet.so libdarknet.a darknet ./obj/captcha.o ./obj/lsd.o ./obj/super.o ./obj/art.o ./obj/tag.o ./obj/cifar.o ./obj/go.o ./obj/rnn.o ./obj/segmenter.o ./obj/regressor.o ./obj/classifier.o ./obj/coco.o ./obj/yolo.o ./obj/detector.o ./obj/nightmare.o ./obj/instance-segmenter.o ./obj/darknet.o ./obj/test.o ./obj//*\n",
      "NNPACK=1\n",
      "NO_PREDICT=1\n",
      "FT8=1\n",
      "CPP=aarch64-none-linux-gnu-g++\n",
      "CC=aarch64-none-linux-gnu-gcc\n",
      "aarch64-none-linux-gnu-gcc -Iinclude/ -Isrc/ -Wall -Wno-unused-result -Wno-unknown-pragmas -Wfatal-errors -static -Ofast -fno-tree-vectorize -DNNPACK -DNO_PREDICT -DFT8 -c ./src/gemm.c -o obj/gemm.o\n",
      "aarch64-none-linux-gnu-gcc -Iinclude/ -Isrc/ -Wall -Wno-unused-result -Wno-unknown-pragmas -Wfatal-errors -static -Ofast -fno-tree-vectorize -DNNPACK -DNO_PREDICT -DFT8 -c ./src/utils.c -o obj/utils.o\n"
     ]
    },
    {
     "name": "stderr",
     "output_type": "stream",
     "text": [
      "In function ‘copy_string’,\n",
      "    inlined from ‘basecfg’ at ./src/utils.c:187:9:\n",
      "./src/utils.c:426:5: warning: ‘strncpy’ specified bound depends on the length of the source argument [-Wstringop-overflow=]\n",
      "  426 |     strncpy(copy, s, strlen(s)+1);\n",
      "      |     ^~~~~~~~~~~~~~~~~~~~~~~~~~~~~\n",
      "./src/utils.c: In function ‘basecfg’:\n",
      "./src/utils.c:426:22: note: length computed here\n",
      "  426 |     strncpy(copy, s, strlen(s)+1);\n",
      "      |                      ^~~~~~~~~\n",
      "./src/utils.c: In function ‘copy_string’:\n",
      "./src/utils.c:426:5: warning: ‘strncpy’ specified bound depends on the length of the source argument [-Wstringop-overflow=]\n",
      "  426 |     strncpy(copy, s, strlen(s)+1);\n",
      "      |     ^~~~~~~~~~~~~~~~~~~~~~~~~~~~~\n",
      "./src/utils.c:426:22: note: length computed here\n",
      "  426 |     strncpy(copy, s, strlen(s)+1);\n",
      "      |                      ^~~~~~~~~\n",
      "In function ‘copy_string’,\n",
      "    inlined from ‘parse_csv_line’ at ./src/utils.c:439:28:\n",
      "./src/utils.c:426:5: warning: ‘strncpy’ specified bound depends on the length of the source argument [-Wstringop-overflow=]\n",
      "  426 |     strncpy(copy, s, strlen(s)+1);\n",
      "      |     ^~~~~~~~~~~~~~~~~~~~~~~~~~~~~\n",
      "./src/utils.c: In function ‘parse_csv_line’:\n",
      "./src/utils.c:426:22: note: length computed here\n",
      "  426 |     strncpy(copy, s, strlen(s)+1);\n",
      "      |                      ^~~~~~~~~\n",
      "In function ‘copy_string’,\n",
      "    inlined from ‘parse_csv_line’ at ./src/utils.c:443:20:\n",
      "./src/utils.c:426:5: warning: ‘strncpy’ specified bound depends on the length of the source argument [-Wstringop-overflow=]\n",
      "  426 |     strncpy(copy, s, strlen(s)+1);\n",
      "      |     ^~~~~~~~~~~~~~~~~~~~~~~~~~~~~\n",
      "./src/utils.c: In function ‘parse_csv_line’:\n",
      "./src/utils.c:426:22: note: length computed here\n",
      "  426 |     strncpy(copy, s, strlen(s)+1);\n",
      "      |                      ^~~~~~~~~\n"
     ]
    },
    {
     "name": "stdout",
     "output_type": "stream",
     "text": [
      "aarch64-none-linux-gnu-gcc -Iinclude/ -Isrc/ -Wall -Wno-unused-result -Wno-unknown-pragmas -Wfatal-errors -static -Ofast -fno-tree-vectorize -DNNPACK -DNO_PREDICT -DFT8 -c ./src/cuda.c -o obj/cuda.o\n",
      "aarch64-none-linux-gnu-gcc -Iinclude/ -Isrc/ -Wall -Wno-unused-result -Wno-unknown-pragmas -Wfatal-errors -static -Ofast -fno-tree-vectorize -DNNPACK -DNO_PREDICT -DFT8 -c ./src/deconvolutional_layer.c -o obj/deconvolutional_layer.o\n",
      "aarch64-none-linux-gnu-gcc -Iinclude/ -Isrc/ -Wall -Wno-unused-result -Wno-unknown-pragmas -Wfatal-errors -static -Ofast -fno-tree-vectorize -DNNPACK -DNO_PREDICT -DFT8 -c ./src/convolutional_layer.c -o obj/convolutional_layer.o\n",
      "aarch64-none-linux-gnu-gcc -Iinclude/ -Isrc/ -Wall -Wno-unused-result -Wno-unknown-pragmas -Wfatal-errors -static -Ofast -fno-tree-vectorize -DNNPACK -DNO_PREDICT -DFT8 -c ./src/list.c -o obj/list.o\n",
      "aarch64-none-linux-gnu-gcc -Iinclude/ -Isrc/ -Wall -Wno-unused-result -Wno-unknown-pragmas -Wfatal-errors -static -Ofast -fno-tree-vectorize -DNNPACK -DNO_PREDICT -DFT8 -c ./src/image.c -o obj/image.o\n",
      "aarch64-none-linux-gnu-gcc -Iinclude/ -Isrc/ -Wall -Wno-unused-result -Wno-unknown-pragmas -Wfatal-errors -static -Ofast -fno-tree-vectorize -DNNPACK -DNO_PREDICT -DFT8 -c ./src/activations.c -o obj/activations.o\n",
      "aarch64-none-linux-gnu-gcc -Iinclude/ -Isrc/ -Wall -Wno-unused-result -Wno-unknown-pragmas -Wfatal-errors -static -Ofast -fno-tree-vectorize -DNNPACK -DNO_PREDICT -DFT8 -c ./src/im2col.c -o obj/im2col.o\n",
      "aarch64-none-linux-gnu-gcc -Iinclude/ -Isrc/ -Wall -Wno-unused-result -Wno-unknown-pragmas -Wfatal-errors -static -Ofast -fno-tree-vectorize -DNNPACK -DNO_PREDICT -DFT8 -c ./src/col2im.c -o obj/col2im.o\n",
      "aarch64-none-linux-gnu-gcc -Iinclude/ -Isrc/ -Wall -Wno-unused-result -Wno-unknown-pragmas -Wfatal-errors -static -Ofast -fno-tree-vectorize -DNNPACK -DNO_PREDICT -DFT8 -c ./src/blas.c -o obj/blas.o\n",
      "aarch64-none-linux-gnu-gcc -Iinclude/ -Isrc/ -Wall -Wno-unused-result -Wno-unknown-pragmas -Wfatal-errors -static -Ofast -fno-tree-vectorize -DNNPACK -DNO_PREDICT -DFT8 -c ./src/crop_layer.c -o obj/crop_layer.o\n",
      "aarch64-none-linux-gnu-gcc -Iinclude/ -Isrc/ -Wall -Wno-unused-result -Wno-unknown-pragmas -Wfatal-errors -static -Ofast -fno-tree-vectorize -DNNPACK -DNO_PREDICT -DFT8 -c ./src/dropout_layer.c -o obj/dropout_layer.o\n",
      "aarch64-none-linux-gnu-gcc -Iinclude/ -Isrc/ -Wall -Wno-unused-result -Wno-unknown-pragmas -Wfatal-errors -static -Ofast -fno-tree-vectorize -DNNPACK -DNO_PREDICT -DFT8 -c ./src/maxpool_layer.c -o obj/maxpool_layer.o\n",
      "aarch64-none-linux-gnu-gcc -Iinclude/ -Isrc/ -Wall -Wno-unused-result -Wno-unknown-pragmas -Wfatal-errors -static -Ofast -fno-tree-vectorize -DNNPACK -DNO_PREDICT -DFT8 -c ./src/softmax_layer.c -o obj/softmax_layer.o\n",
      "aarch64-none-linux-gnu-gcc -Iinclude/ -Isrc/ -Wall -Wno-unused-result -Wno-unknown-pragmas -Wfatal-errors -static -Ofast -fno-tree-vectorize -DNNPACK -DNO_PREDICT -DFT8 -c ./src/data.c -o obj/data.o\n",
      "aarch64-none-linux-gnu-gcc -Iinclude/ -Isrc/ -Wall -Wno-unused-result -Wno-unknown-pragmas -Wfatal-errors -static -Ofast -fno-tree-vectorize -DNNPACK -DNO_PREDICT -DFT8 -c ./src/matrix.c -o obj/matrix.o\n",
      "aarch64-none-linux-gnu-gcc -Iinclude/ -Isrc/ -Wall -Wno-unused-result -Wno-unknown-pragmas -Wfatal-errors -static -Ofast -fno-tree-vectorize -DNNPACK -DNO_PREDICT -DFT8 -c ./src/network.c -o obj/network.o\n",
      "aarch64-none-linux-gnu-gcc -Iinclude/ -Isrc/ -Wall -Wno-unused-result -Wno-unknown-pragmas -Wfatal-errors -static -Ofast -fno-tree-vectorize -DNNPACK -DNO_PREDICT -DFT8 -c ./src/connected_layer.c -o obj/connected_layer.o\n",
      "aarch64-none-linux-gnu-gcc -Iinclude/ -Isrc/ -Wall -Wno-unused-result -Wno-unknown-pragmas -Wfatal-errors -static -Ofast -fno-tree-vectorize -DNNPACK -DNO_PREDICT -DFT8 -c ./src/cost_layer.c -o obj/cost_layer.o\n",
      "aarch64-none-linux-gnu-gcc -Iinclude/ -Isrc/ -Wall -Wno-unused-result -Wno-unknown-pragmas -Wfatal-errors -static -Ofast -fno-tree-vectorize -DNNPACK -DNO_PREDICT -DFT8 -c ./src/parser.c -o obj/parser.o\n",
      "aarch64-none-linux-gnu-gcc -Iinclude/ -Isrc/ -Wall -Wno-unused-result -Wno-unknown-pragmas -Wfatal-errors -static -Ofast -fno-tree-vectorize -DNNPACK -DNO_PREDICT -DFT8 -c ./src/option_list.c -o obj/option_list.o\n",
      "aarch64-none-linux-gnu-gcc -Iinclude/ -Isrc/ -Wall -Wno-unused-result -Wno-unknown-pragmas -Wfatal-errors -static -Ofast -fno-tree-vectorize -DNNPACK -DNO_PREDICT -DFT8 -c ./src/detection_layer.c -o obj/detection_layer.o\n",
      "aarch64-none-linux-gnu-gcc -Iinclude/ -Isrc/ -Wall -Wno-unused-result -Wno-unknown-pragmas -Wfatal-errors -static -Ofast -fno-tree-vectorize -DNNPACK -DNO_PREDICT -DFT8 -c ./src/route_layer.c -o obj/route_layer.o\n",
      "aarch64-none-linux-gnu-gcc -Iinclude/ -Isrc/ -Wall -Wno-unused-result -Wno-unknown-pragmas -Wfatal-errors -static -Ofast -fno-tree-vectorize -DNNPACK -DNO_PREDICT -DFT8 -c ./src/upsample_layer.c -o obj/upsample_layer.o\n",
      "aarch64-none-linux-gnu-gcc -Iinclude/ -Isrc/ -Wall -Wno-unused-result -Wno-unknown-pragmas -Wfatal-errors -static -Ofast -fno-tree-vectorize -DNNPACK -DNO_PREDICT -DFT8 -c ./src/box.c -o obj/box.o\n",
      "aarch64-none-linux-gnu-gcc -Iinclude/ -Isrc/ -Wall -Wno-unused-result -Wno-unknown-pragmas -Wfatal-errors -static -Ofast -fno-tree-vectorize -DNNPACK -DNO_PREDICT -DFT8 -c ./src/normalization_layer.c -o obj/normalization_layer.o\n",
      "aarch64-none-linux-gnu-gcc -Iinclude/ -Isrc/ -Wall -Wno-unused-result -Wno-unknown-pragmas -Wfatal-errors -static -Ofast -fno-tree-vectorize -DNNPACK -DNO_PREDICT -DFT8 -c ./src/avgpool_layer.c -o obj/avgpool_layer.o\n",
      "aarch64-none-linux-gnu-gcc -Iinclude/ -Isrc/ -Wall -Wno-unused-result -Wno-unknown-pragmas -Wfatal-errors -static -Ofast -fno-tree-vectorize -DNNPACK -DNO_PREDICT -DFT8 -c ./src/layer.c -o obj/layer.o\n",
      "aarch64-none-linux-gnu-gcc -Iinclude/ -Isrc/ -Wall -Wno-unused-result -Wno-unknown-pragmas -Wfatal-errors -static -Ofast -fno-tree-vectorize -DNNPACK -DNO_PREDICT -DFT8 -c ./src/local_layer.c -o obj/local_layer.o\n",
      "aarch64-none-linux-gnu-gcc -Iinclude/ -Isrc/ -Wall -Wno-unused-result -Wno-unknown-pragmas -Wfatal-errors -static -Ofast -fno-tree-vectorize -DNNPACK -DNO_PREDICT -DFT8 -c ./src/shortcut_layer.c -o obj/shortcut_layer.o\n",
      "aarch64-none-linux-gnu-gcc -Iinclude/ -Isrc/ -Wall -Wno-unused-result -Wno-unknown-pragmas -Wfatal-errors -static -Ofast -fno-tree-vectorize -DNNPACK -DNO_PREDICT -DFT8 -c ./src/logistic_layer.c -o obj/logistic_layer.o\n",
      "aarch64-none-linux-gnu-gcc -Iinclude/ -Isrc/ -Wall -Wno-unused-result -Wno-unknown-pragmas -Wfatal-errors -static -Ofast -fno-tree-vectorize -DNNPACK -DNO_PREDICT -DFT8 -c ./src/activation_layer.c -o obj/activation_layer.o\n",
      "aarch64-none-linux-gnu-gcc -Iinclude/ -Isrc/ -Wall -Wno-unused-result -Wno-unknown-pragmas -Wfatal-errors -static -Ofast -fno-tree-vectorize -DNNPACK -DNO_PREDICT -DFT8 -c ./src/rnn_layer.c -o obj/rnn_layer.o\n",
      "aarch64-none-linux-gnu-gcc -Iinclude/ -Isrc/ -Wall -Wno-unused-result -Wno-unknown-pragmas -Wfatal-errors -static -Ofast -fno-tree-vectorize -DNNPACK -DNO_PREDICT -DFT8 -c ./src/gru_layer.c -o obj/gru_layer.o\n",
      "aarch64-none-linux-gnu-gcc -Iinclude/ -Isrc/ -Wall -Wno-unused-result -Wno-unknown-pragmas -Wfatal-errors -static -Ofast -fno-tree-vectorize -DNNPACK -DNO_PREDICT -DFT8 -c ./src/crnn_layer.c -o obj/crnn_layer.o\n",
      "aarch64-none-linux-gnu-gcc -Iinclude/ -Isrc/ -Wall -Wno-unused-result -Wno-unknown-pragmas -Wfatal-errors -static -Ofast -fno-tree-vectorize -DNNPACK -DNO_PREDICT -DFT8 -c ./src/demo.c -o obj/demo.o\n",
      "aarch64-none-linux-gnu-gcc -Iinclude/ -Isrc/ -Wall -Wno-unused-result -Wno-unknown-pragmas -Wfatal-errors -static -Ofast -fno-tree-vectorize -DNNPACK -DNO_PREDICT -DFT8 -c ./src/batchnorm_layer.c -o obj/batchnorm_layer.o\n",
      "aarch64-none-linux-gnu-gcc -Iinclude/ -Isrc/ -Wall -Wno-unused-result -Wno-unknown-pragmas -Wfatal-errors -static -Ofast -fno-tree-vectorize -DNNPACK -DNO_PREDICT -DFT8 -c ./src/region_layer.c -o obj/region_layer.o\n",
      "aarch64-none-linux-gnu-gcc -Iinclude/ -Isrc/ -Wall -Wno-unused-result -Wno-unknown-pragmas -Wfatal-errors -static -Ofast -fno-tree-vectorize -DNNPACK -DNO_PREDICT -DFT8 -c ./src/reorg_layer.c -o obj/reorg_layer.o\n",
      "aarch64-none-linux-gnu-gcc -Iinclude/ -Isrc/ -Wall -Wno-unused-result -Wno-unknown-pragmas -Wfatal-errors -static -Ofast -fno-tree-vectorize -DNNPACK -DNO_PREDICT -DFT8 -c ./src/tree.c -o obj/tree.o\n",
      "aarch64-none-linux-gnu-gcc -Iinclude/ -Isrc/ -Wall -Wno-unused-result -Wno-unknown-pragmas -Wfatal-errors -static -Ofast -fno-tree-vectorize -DNNPACK -DNO_PREDICT -DFT8 -c ./src/lstm_layer.c -o obj/lstm_layer.o\n"
     ]
    },
    {
     "name": "stdout",
     "output_type": "stream",
     "text": [
      "aarch64-none-linux-gnu-gcc -Iinclude/ -Isrc/ -Wall -Wno-unused-result -Wno-unknown-pragmas -Wfatal-errors -static -Ofast -fno-tree-vectorize -DNNPACK -DNO_PREDICT -DFT8 -c ./src/l2norm_layer.c -o obj/l2norm_layer.o\n",
      "aarch64-none-linux-gnu-gcc -Iinclude/ -Isrc/ -Wall -Wno-unused-result -Wno-unknown-pragmas -Wfatal-errors -static -Ofast -fno-tree-vectorize -DNNPACK -DNO_PREDICT -DFT8 -c ./src/yolo_layer.c -o obj/yolo_layer.o\n",
      "aarch64-none-linux-gnu-gcc -Iinclude/ -Isrc/ -Wall -Wno-unused-result -Wno-unknown-pragmas -Wfatal-errors -static -Ofast -fno-tree-vectorize -DNNPACK -DNO_PREDICT -DFT8 -c ./src/iseg_layer.c -o obj/iseg_layer.o\n",
      "aarch64-none-linux-gnu-g++ -Iinclude/ -Isrc/ -Wall -Wno-unused-result -Wno-unknown-pragmas -Wfatal-errors -static -Ofast -fno-tree-vectorize -DNNPACK -DNO_PREDICT -DFT8 -c ./src/image_opencv.cpp -o obj/image_opencv.o\n",
      "ar rcs libdarknet.a obj/gemm.o obj/utils.o obj/cuda.o obj/deconvolutional_layer.o obj/convolutional_layer.o obj/list.o obj/image.o obj/activations.o obj/im2col.o obj/col2im.o obj/blas.o obj/crop_layer.o obj/dropout_layer.o obj/maxpool_layer.o obj/softmax_layer.o obj/data.o obj/matrix.o obj/network.o obj/connected_layer.o obj/cost_layer.o obj/parser.o obj/option_list.o obj/detection_layer.o obj/route_layer.o obj/upsample_layer.o obj/box.o obj/normalization_layer.o obj/avgpool_layer.o obj/layer.o obj/local_layer.o obj/shortcut_layer.o obj/logistic_layer.o obj/activation_layer.o obj/rnn_layer.o obj/gru_layer.o obj/crnn_layer.o obj/demo.o obj/batchnorm_layer.o obj/region_layer.o obj/reorg_layer.o obj/tree.o obj/lstm_layer.o obj/l2norm_layer.o obj/yolo_layer.o obj/iseg_layer.o obj/image_opencv.o\n",
      "aarch64-none-linux-gnu-gcc -Iinclude/ -Isrc/ -Wall -Wno-unused-result -Wno-unknown-pragmas -Wfatal-errors -static -Ofast -fno-tree-vectorize -DNNPACK -DNO_PREDICT -DFT8 -c ./examples/captcha.c -o obj/captcha.o\n",
      "aarch64-none-linux-gnu-gcc -Iinclude/ -Isrc/ -Wall -Wno-unused-result -Wno-unknown-pragmas -Wfatal-errors -static -Ofast -fno-tree-vectorize -DNNPACK -DNO_PREDICT -DFT8 -c ./examples/lsd.c -o obj/lsd.o\n",
      "aarch64-none-linux-gnu-gcc -Iinclude/ -Isrc/ -Wall -Wno-unused-result -Wno-unknown-pragmas -Wfatal-errors -static -Ofast -fno-tree-vectorize -DNNPACK -DNO_PREDICT -DFT8 -c ./examples/super.c -o obj/super.o\n",
      "aarch64-none-linux-gnu-gcc -Iinclude/ -Isrc/ -Wall -Wno-unused-result -Wno-unknown-pragmas -Wfatal-errors -static -Ofast -fno-tree-vectorize -DNNPACK -DNO_PREDICT -DFT8 -c ./examples/art.c -o obj/art.o\n",
      "aarch64-none-linux-gnu-gcc -Iinclude/ -Isrc/ -Wall -Wno-unused-result -Wno-unknown-pragmas -Wfatal-errors -static -Ofast -fno-tree-vectorize -DNNPACK -DNO_PREDICT -DFT8 -c ./examples/tag.c -o obj/tag.o\n",
      "aarch64-none-linux-gnu-gcc -Iinclude/ -Isrc/ -Wall -Wno-unused-result -Wno-unknown-pragmas -Wfatal-errors -static -Ofast -fno-tree-vectorize -DNNPACK -DNO_PREDICT -DFT8 -c ./examples/cifar.c -o obj/cifar.o\n",
      "aarch64-none-linux-gnu-gcc -Iinclude/ -Isrc/ -Wall -Wno-unused-result -Wno-unknown-pragmas -Wfatal-errors -static -Ofast -fno-tree-vectorize -DNNPACK -DNO_PREDICT -DFT8 -c ./examples/go.c -o obj/go.o\n",
      "aarch64-none-linux-gnu-gcc -Iinclude/ -Isrc/ -Wall -Wno-unused-result -Wno-unknown-pragmas -Wfatal-errors -static -Ofast -fno-tree-vectorize -DNNPACK -DNO_PREDICT -DFT8 -c ./examples/rnn.c -o obj/rnn.o\n",
      "aarch64-none-linux-gnu-gcc -Iinclude/ -Isrc/ -Wall -Wno-unused-result -Wno-unknown-pragmas -Wfatal-errors -static -Ofast -fno-tree-vectorize -DNNPACK -DNO_PREDICT -DFT8 -c ./examples/segmenter.c -o obj/segmenter.o\n",
      "aarch64-none-linux-gnu-gcc -Iinclude/ -Isrc/ -Wall -Wno-unused-result -Wno-unknown-pragmas -Wfatal-errors -static -Ofast -fno-tree-vectorize -DNNPACK -DNO_PREDICT -DFT8 -c ./examples/regressor.c -o obj/regressor.o\n",
      "aarch64-none-linux-gnu-gcc -Iinclude/ -Isrc/ -Wall -Wno-unused-result -Wno-unknown-pragmas -Wfatal-errors -static -Ofast -fno-tree-vectorize -DNNPACK -DNO_PREDICT -DFT8 -c ./examples/classifier.c -o obj/classifier.o\n",
      "aarch64-none-linux-gnu-gcc -Iinclude/ -Isrc/ -Wall -Wno-unused-result -Wno-unknown-pragmas -Wfatal-errors -static -Ofast -fno-tree-vectorize -DNNPACK -DNO_PREDICT -DFT8 -c ./examples/coco.c -o obj/coco.o\n",
      "aarch64-none-linux-gnu-gcc -Iinclude/ -Isrc/ -Wall -Wno-unused-result -Wno-unknown-pragmas -Wfatal-errors -static -Ofast -fno-tree-vectorize -DNNPACK -DNO_PREDICT -DFT8 -c ./examples/yolo.c -o obj/yolo.o\n",
      "aarch64-none-linux-gnu-gcc -Iinclude/ -Isrc/ -Wall -Wno-unused-result -Wno-unknown-pragmas -Wfatal-errors -static -Ofast -fno-tree-vectorize -DNNPACK -DNO_PREDICT -DFT8 -c ./examples/detector.c -o obj/detector.o\n"
     ]
    },
    {
     "name": "stderr",
     "output_type": "stream",
     "text": [
      "./examples/detector.c: In function ‘test_detector’:\n",
      "./examples/detector.c:597:16: warning: unused variable ‘X’ [-Wunused-variable]\n",
      "  597 |         float *X = sized.data;\n",
      "      |                ^\n"
     ]
    },
    {
     "name": "stdout",
     "output_type": "stream",
     "text": [
      "aarch64-none-linux-gnu-gcc -Iinclude/ -Isrc/ -Wall -Wno-unused-result -Wno-unknown-pragmas -Wfatal-errors -static -Ofast -fno-tree-vectorize -DNNPACK -DNO_PREDICT -DFT8 -c ./examples/nightmare.c -o obj/nightmare.o\n",
      "aarch64-none-linux-gnu-gcc -Iinclude/ -Isrc/ -Wall -Wno-unused-result -Wno-unknown-pragmas -Wfatal-errors -static -Ofast -fno-tree-vectorize -DNNPACK -DNO_PREDICT -DFT8 -c ./examples/instance-segmenter.c -o obj/instance-segmenter.o\n",
      "aarch64-none-linux-gnu-gcc -Iinclude/ -Isrc/ -Wall -Wno-unused-result -Wno-unknown-pragmas -Wfatal-errors -static -Ofast -fno-tree-vectorize -DNNPACK -DNO_PREDICT -DFT8 -c ./examples/darknet.c -o obj/darknet.o\n",
      "aarch64-none-linux-gnu-gcc -Iinclude/ -Isrc/ -Wall -Wno-unused-result -Wno-unknown-pragmas -Wfatal-errors -static -Ofast -fno-tree-vectorize -DNNPACK -DNO_PREDICT -DFT8 -c ./examples/test.c -o obj/test.o\n",
      "aarch64-none-linux-gnu-gcc -Iinclude/ -Isrc/ -Wall -Wno-unused-result -Wno-unknown-pragmas -Wfatal-errors -static -Ofast -fno-tree-vectorize -DNNPACK -DNO_PREDICT -DFT8 obj/captcha.o obj/lsd.o obj/super.o obj/art.o obj/tag.o obj/cifar.o obj/go.o obj/rnn.o obj/segmenter.o obj/regressor.o obj/classifier.o obj/coco.o obj/yolo.o obj/detector.o obj/nightmare.o obj/instance-segmenter.o obj/darknet.o obj/test.o libdarknet.a -o darknet -lm -pthread -L/home/fft_vec/arm-deps/usr/local/lib -l:libnnpack.a -l:libpthreadpool.a -l:libcpuinfo.a -l:libclog.a libdarknet.a\n",
      "/home/fft_vec/gem5/build/ARM/gem5.opt --outdir=./bench/build-ARM-gem5-opt/bench_yolo-tiny/NO_PREDICT_NPP/64MB/ /home/fft_vec/gem5/configs/example/se.py --cpu-clock=2GHz --l1d_size=64kB --l1i_size=16kB --caches --output=stdout.txt  --errout=stderr.txt --l2_size=64MB --l2cache -c \"./darknet\" --options \"bench_yolo-tiny\"\n",
      "\n",
      "\n"
     ]
    },
    {
     "name": "stderr",
     "output_type": "stream",
     "text": [
      "warn: The `get_runtime_isa` function is deprecated. Please migrate away from using this function.\n",
      "warn: The `get_runtime_isa` function is deprecated. Please migrate away from using this function.\n",
      "warn: No dot file generated. Please install pydot to generate the dot file and pdf.\n",
      "build/ARM/mem/dram_interface.cc:690: warn: DRAM device capacity (8192 Mbytes) does not match the address range assigned (512 Mbytes)\n",
      "build/ARM/base/remote_gdb.cc:416: warn: Sockets disabled, not accepting gdb connections\n",
      "build/ARM/sim/simulate.cc:192: info: Entering event queue @ 0.  Starting simulation...\n",
      "build/ARM/sim/syscall_emul.cc:74: warn: ignoring syscall set_robust_list(...)\n",
      "build/ARM/sim/syscall_emul.cc:74: warn: ignoring syscall rt_sigaction(...)\n",
      "build/ARM/sim/syscall_emul.cc:74: warn: ignoring syscall rt_sigaction(...)\n",
      "build/ARM/sim/syscall_emul.cc:85: warn: ignoring syscall rt_sigprocmask(...)\n",
      "      (further warnings will be suppressed)\n",
      "build/ARM/arch/arm/insts/pseudo.cc:172: warn: \tinstruction 'bti' unimplemented\n",
      "build/ARM/sim/mem_state.cc:443: info: Increasing stack size by one page.\n",
      "build/ARM/sim/syscall_emul.cc:74: warn: ignoring syscall mprotect(...)\n",
      "build/ARM/sim/mem_state.cc:443: info: Increasing stack size by one page.\n"
     ]
    },
    {
     "name": "stdout",
     "output_type": "stream",
     "text": [
      "Global frequency set at 1000000000000 ticks per second\n",
      "gem5 Simulator System.  https://www.gem5.org\n",
      "gem5 is copyrighted software; use the --copyright option for details.\n",
      "\n",
      "gem5 version 22.1.0.0\n",
      "gem5 compiled Jan 26 2023 15:06:33\n",
      "gem5 started Feb 22 2023 23:40:39\n",
      "gem5 executing on aldy, pid 1191961\n",
      "command line: /home/fft_vec/gem5/build/ARM/gem5.opt --outdir=./bench/build-ARM-gem5-opt/bench_yolo-tiny/NO_PREDICT_NPP/64MB/ /home/fft_vec/gem5/configs/example/se.py --cpu-clock=2GHz --l1d_size=64kB --l1i_size=16kB --caches --output=stdout.txt --errout=stderr.txt --l2_size=64MB --l2cache -c ./darknet --options bench_yolo-tiny\n",
      "\n",
      "info: Standard input is not a terminal, disabling listeners.\n",
      "**** REAL SIMULATION ****\n"
     ]
    },
    {
     "name": "stderr",
     "output_type": "stream",
     "text": [
      "build/ARM/sim/mem_state.cc:443: info: Increasing stack size by one page.\n",
      "build/ARM/sim/mem_state.cc:443: info: Increasing stack size by one page.\n"
     ]
    },
    {
     "name": "stdout",
     "output_type": "stream",
     "text": [
      "Exiting @ tick 1191142848500 because exiting with last active thread context\n",
      "./bench/build-ARM-gem5-opt/bench_yolo-tiny/NO_PREDICT_NPP/64MB/\n",
      "reading data from file:  ./bench/build-ARM-gem5-opt/bench_yolo-tiny/NO_PREDICT_NPP/64MB/stats.txt \n",
      " \n",
      "[('simTicks', 1191142848500)]\n"
     ]
    },
    {
     "data": {
      "text/plain": [
       "([[('simTicks', 1191142848500)]],\n",
       " ['./bench/build-ARM-gem5-opt/bench_yolo-tiny/NO_PREDICT_NPP/64MB/'])"
      ]
     },
     "execution_count": 30,
     "metadata": {},
     "output_type": "execute_result"
    }
   ],
   "source": [
    "setup_s = cyclesToSetup_npp(yolo, chaceOptions,chaceSizes)\n",
    "setup_s "
   ]
  },
  {
   "cell_type": "code",
   "execution_count": 31,
   "id": "72617643",
   "metadata": {},
   "outputs": [
    {
     "name": "stdout",
     "output_type": "stream",
     "text": [
      "\n",
      " make clean; make NNPACK=1 GEMM=1 CC=aarch64-none-linux-gnu-gcc CPP=aarch64-none-linux-gnu-g++ \n",
      "\n",
      "rm -rf ./obj/gemm.o ./obj/utils.o ./obj/cuda.o ./obj/deconvolutional_layer.o ./obj/convolutional_layer.o ./obj/list.o ./obj/image.o ./obj/activations.o ./obj/im2col.o ./obj/col2im.o ./obj/blas.o ./obj/crop_layer.o ./obj/dropout_layer.o ./obj/maxpool_layer.o ./obj/softmax_layer.o ./obj/data.o ./obj/matrix.o ./obj/network.o ./obj/connected_layer.o ./obj/cost_layer.o ./obj/parser.o ./obj/option_list.o ./obj/detection_layer.o ./obj/route_layer.o ./obj/upsample_layer.o ./obj/box.o ./obj/normalization_layer.o ./obj/avgpool_layer.o ./obj/layer.o ./obj/local_layer.o ./obj/shortcut_layer.o ./obj/logistic_layer.o ./obj/activation_layer.o ./obj/rnn_layer.o ./obj/gru_layer.o ./obj/crnn_layer.o ./obj/demo.o ./obj/batchnorm_layer.o ./obj/region_layer.o ./obj/reorg_layer.o ./obj/tree.o ./obj/lstm_layer.o ./obj/l2norm_layer.o ./obj/yolo_layer.o ./obj/iseg_layer.o ./obj/image_opencv.o libdarknet.so libdarknet.a darknet ./obj/captcha.o ./obj/lsd.o ./obj/super.o ./obj/art.o ./obj/tag.o ./obj/cifar.o ./obj/go.o ./obj/rnn.o ./obj/segmenter.o ./obj/regressor.o ./obj/classifier.o ./obj/coco.o ./obj/yolo.o ./obj/detector.o ./obj/nightmare.o ./obj/instance-segmenter.o ./obj/darknet.o ./obj/test.o ./obj//*\n",
      "NNPACK=1\n",
      "GEMM=1\n",
      "CPP=aarch64-none-linux-gnu-g++\n",
      "CC=aarch64-none-linux-gnu-gcc\n",
      "aarch64-none-linux-gnu-gcc -Iinclude/ -Isrc/ -Wall -Wno-unused-result -Wno-unknown-pragmas -Wfatal-errors -static -Ofast -fno-tree-vectorize -DNNPACK -DGEMM -c ./src/gemm.c -o obj/gemm.o\n",
      "aarch64-none-linux-gnu-gcc -Iinclude/ -Isrc/ -Wall -Wno-unused-result -Wno-unknown-pragmas -Wfatal-errors -static -Ofast -fno-tree-vectorize -DNNPACK -DGEMM -c ./src/utils.c -o obj/utils.o\n"
     ]
    },
    {
     "name": "stderr",
     "output_type": "stream",
     "text": [
      "In function ‘copy_string’,\n",
      "    inlined from ‘basecfg’ at ./src/utils.c:187:9:\n",
      "./src/utils.c:426:5: warning: ‘strncpy’ specified bound depends on the length of the source argument [-Wstringop-overflow=]\n",
      "  426 |     strncpy(copy, s, strlen(s)+1);\n",
      "      |     ^~~~~~~~~~~~~~~~~~~~~~~~~~~~~\n",
      "./src/utils.c: In function ‘basecfg’:\n",
      "./src/utils.c:426:22: note: length computed here\n",
      "  426 |     strncpy(copy, s, strlen(s)+1);\n",
      "      |                      ^~~~~~~~~\n",
      "./src/utils.c: In function ‘copy_string’:\n",
      "./src/utils.c:426:5: warning: ‘strncpy’ specified bound depends on the length of the source argument [-Wstringop-overflow=]\n",
      "  426 |     strncpy(copy, s, strlen(s)+1);\n",
      "      |     ^~~~~~~~~~~~~~~~~~~~~~~~~~~~~\n",
      "./src/utils.c:426:22: note: length computed here\n",
      "  426 |     strncpy(copy, s, strlen(s)+1);\n",
      "      |                      ^~~~~~~~~\n",
      "In function ‘copy_string’,\n",
      "    inlined from ‘parse_csv_line’ at ./src/utils.c:439:28:\n",
      "./src/utils.c:426:5: warning: ‘strncpy’ specified bound depends on the length of the source argument [-Wstringop-overflow=]\n",
      "  426 |     strncpy(copy, s, strlen(s)+1);\n",
      "      |     ^~~~~~~~~~~~~~~~~~~~~~~~~~~~~\n",
      "./src/utils.c: In function ‘parse_csv_line’:\n",
      "./src/utils.c:426:22: note: length computed here\n",
      "  426 |     strncpy(copy, s, strlen(s)+1);\n",
      "      |                      ^~~~~~~~~\n",
      "In function ‘copy_string’,\n",
      "    inlined from ‘parse_csv_line’ at ./src/utils.c:443:20:\n",
      "./src/utils.c:426:5: warning: ‘strncpy’ specified bound depends on the length of the source argument [-Wstringop-overflow=]\n",
      "  426 |     strncpy(copy, s, strlen(s)+1);\n",
      "      |     ^~~~~~~~~~~~~~~~~~~~~~~~~~~~~\n",
      "./src/utils.c: In function ‘parse_csv_line’:\n",
      "./src/utils.c:426:22: note: length computed here\n",
      "  426 |     strncpy(copy, s, strlen(s)+1);\n",
      "      |                      ^~~~~~~~~\n"
     ]
    },
    {
     "name": "stdout",
     "output_type": "stream",
     "text": [
      "aarch64-none-linux-gnu-gcc -Iinclude/ -Isrc/ -Wall -Wno-unused-result -Wno-unknown-pragmas -Wfatal-errors -static -Ofast -fno-tree-vectorize -DNNPACK -DGEMM -c ./src/cuda.c -o obj/cuda.o\n",
      "aarch64-none-linux-gnu-gcc -Iinclude/ -Isrc/ -Wall -Wno-unused-result -Wno-unknown-pragmas -Wfatal-errors -static -Ofast -fno-tree-vectorize -DNNPACK -DGEMM -c ./src/deconvolutional_layer.c -o obj/deconvolutional_layer.o\n",
      "aarch64-none-linux-gnu-gcc -Iinclude/ -Isrc/ -Wall -Wno-unused-result -Wno-unknown-pragmas -Wfatal-errors -static -Ofast -fno-tree-vectorize -DNNPACK -DGEMM -c ./src/convolutional_layer.c -o obj/convolutional_layer.o\n",
      "aarch64-none-linux-gnu-gcc -Iinclude/ -Isrc/ -Wall -Wno-unused-result -Wno-unknown-pragmas -Wfatal-errors -static -Ofast -fno-tree-vectorize -DNNPACK -DGEMM -c ./src/list.c -o obj/list.o\n",
      "aarch64-none-linux-gnu-gcc -Iinclude/ -Isrc/ -Wall -Wno-unused-result -Wno-unknown-pragmas -Wfatal-errors -static -Ofast -fno-tree-vectorize -DNNPACK -DGEMM -c ./src/image.c -o obj/image.o\n",
      "aarch64-none-linux-gnu-gcc -Iinclude/ -Isrc/ -Wall -Wno-unused-result -Wno-unknown-pragmas -Wfatal-errors -static -Ofast -fno-tree-vectorize -DNNPACK -DGEMM -c ./src/activations.c -o obj/activations.o\n",
      "aarch64-none-linux-gnu-gcc -Iinclude/ -Isrc/ -Wall -Wno-unused-result -Wno-unknown-pragmas -Wfatal-errors -static -Ofast -fno-tree-vectorize -DNNPACK -DGEMM -c ./src/im2col.c -o obj/im2col.o\n",
      "aarch64-none-linux-gnu-gcc -Iinclude/ -Isrc/ -Wall -Wno-unused-result -Wno-unknown-pragmas -Wfatal-errors -static -Ofast -fno-tree-vectorize -DNNPACK -DGEMM -c ./src/col2im.c -o obj/col2im.o\n",
      "aarch64-none-linux-gnu-gcc -Iinclude/ -Isrc/ -Wall -Wno-unused-result -Wno-unknown-pragmas -Wfatal-errors -static -Ofast -fno-tree-vectorize -DNNPACK -DGEMM -c ./src/blas.c -o obj/blas.o\n",
      "aarch64-none-linux-gnu-gcc -Iinclude/ -Isrc/ -Wall -Wno-unused-result -Wno-unknown-pragmas -Wfatal-errors -static -Ofast -fno-tree-vectorize -DNNPACK -DGEMM -c ./src/crop_layer.c -o obj/crop_layer.o\n",
      "aarch64-none-linux-gnu-gcc -Iinclude/ -Isrc/ -Wall -Wno-unused-result -Wno-unknown-pragmas -Wfatal-errors -static -Ofast -fno-tree-vectorize -DNNPACK -DGEMM -c ./src/dropout_layer.c -o obj/dropout_layer.o\n",
      "aarch64-none-linux-gnu-gcc -Iinclude/ -Isrc/ -Wall -Wno-unused-result -Wno-unknown-pragmas -Wfatal-errors -static -Ofast -fno-tree-vectorize -DNNPACK -DGEMM -c ./src/maxpool_layer.c -o obj/maxpool_layer.o\n",
      "aarch64-none-linux-gnu-gcc -Iinclude/ -Isrc/ -Wall -Wno-unused-result -Wno-unknown-pragmas -Wfatal-errors -static -Ofast -fno-tree-vectorize -DNNPACK -DGEMM -c ./src/softmax_layer.c -o obj/softmax_layer.o\n",
      "aarch64-none-linux-gnu-gcc -Iinclude/ -Isrc/ -Wall -Wno-unused-result -Wno-unknown-pragmas -Wfatal-errors -static -Ofast -fno-tree-vectorize -DNNPACK -DGEMM -c ./src/data.c -o obj/data.o\n",
      "aarch64-none-linux-gnu-gcc -Iinclude/ -Isrc/ -Wall -Wno-unused-result -Wno-unknown-pragmas -Wfatal-errors -static -Ofast -fno-tree-vectorize -DNNPACK -DGEMM -c ./src/matrix.c -o obj/matrix.o\n",
      "aarch64-none-linux-gnu-gcc -Iinclude/ -Isrc/ -Wall -Wno-unused-result -Wno-unknown-pragmas -Wfatal-errors -static -Ofast -fno-tree-vectorize -DNNPACK -DGEMM -c ./src/network.c -o obj/network.o\n",
      "aarch64-none-linux-gnu-gcc -Iinclude/ -Isrc/ -Wall -Wno-unused-result -Wno-unknown-pragmas -Wfatal-errors -static -Ofast -fno-tree-vectorize -DNNPACK -DGEMM -c ./src/connected_layer.c -o obj/connected_layer.o\n",
      "aarch64-none-linux-gnu-gcc -Iinclude/ -Isrc/ -Wall -Wno-unused-result -Wno-unknown-pragmas -Wfatal-errors -static -Ofast -fno-tree-vectorize -DNNPACK -DGEMM -c ./src/cost_layer.c -o obj/cost_layer.o\n",
      "aarch64-none-linux-gnu-gcc -Iinclude/ -Isrc/ -Wall -Wno-unused-result -Wno-unknown-pragmas -Wfatal-errors -static -Ofast -fno-tree-vectorize -DNNPACK -DGEMM -c ./src/parser.c -o obj/parser.o\n",
      "aarch64-none-linux-gnu-gcc -Iinclude/ -Isrc/ -Wall -Wno-unused-result -Wno-unknown-pragmas -Wfatal-errors -static -Ofast -fno-tree-vectorize -DNNPACK -DGEMM -c ./src/option_list.c -o obj/option_list.o\n",
      "aarch64-none-linux-gnu-gcc -Iinclude/ -Isrc/ -Wall -Wno-unused-result -Wno-unknown-pragmas -Wfatal-errors -static -Ofast -fno-tree-vectorize -DNNPACK -DGEMM -c ./src/detection_layer.c -o obj/detection_layer.o\n",
      "aarch64-none-linux-gnu-gcc -Iinclude/ -Isrc/ -Wall -Wno-unused-result -Wno-unknown-pragmas -Wfatal-errors -static -Ofast -fno-tree-vectorize -DNNPACK -DGEMM -c ./src/route_layer.c -o obj/route_layer.o\n",
      "aarch64-none-linux-gnu-gcc -Iinclude/ -Isrc/ -Wall -Wno-unused-result -Wno-unknown-pragmas -Wfatal-errors -static -Ofast -fno-tree-vectorize -DNNPACK -DGEMM -c ./src/upsample_layer.c -o obj/upsample_layer.o\n",
      "aarch64-none-linux-gnu-gcc -Iinclude/ -Isrc/ -Wall -Wno-unused-result -Wno-unknown-pragmas -Wfatal-errors -static -Ofast -fno-tree-vectorize -DNNPACK -DGEMM -c ./src/box.c -o obj/box.o\n",
      "aarch64-none-linux-gnu-gcc -Iinclude/ -Isrc/ -Wall -Wno-unused-result -Wno-unknown-pragmas -Wfatal-errors -static -Ofast -fno-tree-vectorize -DNNPACK -DGEMM -c ./src/normalization_layer.c -o obj/normalization_layer.o\n",
      "aarch64-none-linux-gnu-gcc -Iinclude/ -Isrc/ -Wall -Wno-unused-result -Wno-unknown-pragmas -Wfatal-errors -static -Ofast -fno-tree-vectorize -DNNPACK -DGEMM -c ./src/avgpool_layer.c -o obj/avgpool_layer.o\n",
      "aarch64-none-linux-gnu-gcc -Iinclude/ -Isrc/ -Wall -Wno-unused-result -Wno-unknown-pragmas -Wfatal-errors -static -Ofast -fno-tree-vectorize -DNNPACK -DGEMM -c ./src/layer.c -o obj/layer.o\n",
      "aarch64-none-linux-gnu-gcc -Iinclude/ -Isrc/ -Wall -Wno-unused-result -Wno-unknown-pragmas -Wfatal-errors -static -Ofast -fno-tree-vectorize -DNNPACK -DGEMM -c ./src/local_layer.c -o obj/local_layer.o\n",
      "aarch64-none-linux-gnu-gcc -Iinclude/ -Isrc/ -Wall -Wno-unused-result -Wno-unknown-pragmas -Wfatal-errors -static -Ofast -fno-tree-vectorize -DNNPACK -DGEMM -c ./src/shortcut_layer.c -o obj/shortcut_layer.o\n",
      "aarch64-none-linux-gnu-gcc -Iinclude/ -Isrc/ -Wall -Wno-unused-result -Wno-unknown-pragmas -Wfatal-errors -static -Ofast -fno-tree-vectorize -DNNPACK -DGEMM -c ./src/logistic_layer.c -o obj/logistic_layer.o\n",
      "aarch64-none-linux-gnu-gcc -Iinclude/ -Isrc/ -Wall -Wno-unused-result -Wno-unknown-pragmas -Wfatal-errors -static -Ofast -fno-tree-vectorize -DNNPACK -DGEMM -c ./src/activation_layer.c -o obj/activation_layer.o\n",
      "aarch64-none-linux-gnu-gcc -Iinclude/ -Isrc/ -Wall -Wno-unused-result -Wno-unknown-pragmas -Wfatal-errors -static -Ofast -fno-tree-vectorize -DNNPACK -DGEMM -c ./src/rnn_layer.c -o obj/rnn_layer.o\n",
      "aarch64-none-linux-gnu-gcc -Iinclude/ -Isrc/ -Wall -Wno-unused-result -Wno-unknown-pragmas -Wfatal-errors -static -Ofast -fno-tree-vectorize -DNNPACK -DGEMM -c ./src/gru_layer.c -o obj/gru_layer.o\n",
      "aarch64-none-linux-gnu-gcc -Iinclude/ -Isrc/ -Wall -Wno-unused-result -Wno-unknown-pragmas -Wfatal-errors -static -Ofast -fno-tree-vectorize -DNNPACK -DGEMM -c ./src/crnn_layer.c -o obj/crnn_layer.o\n",
      "aarch64-none-linux-gnu-gcc -Iinclude/ -Isrc/ -Wall -Wno-unused-result -Wno-unknown-pragmas -Wfatal-errors -static -Ofast -fno-tree-vectorize -DNNPACK -DGEMM -c ./src/demo.c -o obj/demo.o\n",
      "aarch64-none-linux-gnu-gcc -Iinclude/ -Isrc/ -Wall -Wno-unused-result -Wno-unknown-pragmas -Wfatal-errors -static -Ofast -fno-tree-vectorize -DNNPACK -DGEMM -c ./src/batchnorm_layer.c -o obj/batchnorm_layer.o\n",
      "aarch64-none-linux-gnu-gcc -Iinclude/ -Isrc/ -Wall -Wno-unused-result -Wno-unknown-pragmas -Wfatal-errors -static -Ofast -fno-tree-vectorize -DNNPACK -DGEMM -c ./src/region_layer.c -o obj/region_layer.o\n",
      "aarch64-none-linux-gnu-gcc -Iinclude/ -Isrc/ -Wall -Wno-unused-result -Wno-unknown-pragmas -Wfatal-errors -static -Ofast -fno-tree-vectorize -DNNPACK -DGEMM -c ./src/reorg_layer.c -o obj/reorg_layer.o\n",
      "aarch64-none-linux-gnu-gcc -Iinclude/ -Isrc/ -Wall -Wno-unused-result -Wno-unknown-pragmas -Wfatal-errors -static -Ofast -fno-tree-vectorize -DNNPACK -DGEMM -c ./src/tree.c -o obj/tree.o\n",
      "aarch64-none-linux-gnu-gcc -Iinclude/ -Isrc/ -Wall -Wno-unused-result -Wno-unknown-pragmas -Wfatal-errors -static -Ofast -fno-tree-vectorize -DNNPACK -DGEMM -c ./src/lstm_layer.c -o obj/lstm_layer.o\n",
      "aarch64-none-linux-gnu-gcc -Iinclude/ -Isrc/ -Wall -Wno-unused-result -Wno-unknown-pragmas -Wfatal-errors -static -Ofast -fno-tree-vectorize -DNNPACK -DGEMM -c ./src/l2norm_layer.c -o obj/l2norm_layer.o\n",
      "aarch64-none-linux-gnu-gcc -Iinclude/ -Isrc/ -Wall -Wno-unused-result -Wno-unknown-pragmas -Wfatal-errors -static -Ofast -fno-tree-vectorize -DNNPACK -DGEMM -c ./src/yolo_layer.c -o obj/yolo_layer.o\n"
     ]
    },
    {
     "name": "stdout",
     "output_type": "stream",
     "text": [
      "aarch64-none-linux-gnu-gcc -Iinclude/ -Isrc/ -Wall -Wno-unused-result -Wno-unknown-pragmas -Wfatal-errors -static -Ofast -fno-tree-vectorize -DNNPACK -DGEMM -c ./src/iseg_layer.c -o obj/iseg_layer.o\n",
      "aarch64-none-linux-gnu-g++ -Iinclude/ -Isrc/ -Wall -Wno-unused-result -Wno-unknown-pragmas -Wfatal-errors -static -Ofast -fno-tree-vectorize -DNNPACK -DGEMM -c ./src/image_opencv.cpp -o obj/image_opencv.o\n",
      "ar rcs libdarknet.a obj/gemm.o obj/utils.o obj/cuda.o obj/deconvolutional_layer.o obj/convolutional_layer.o obj/list.o obj/image.o obj/activations.o obj/im2col.o obj/col2im.o obj/blas.o obj/crop_layer.o obj/dropout_layer.o obj/maxpool_layer.o obj/softmax_layer.o obj/data.o obj/matrix.o obj/network.o obj/connected_layer.o obj/cost_layer.o obj/parser.o obj/option_list.o obj/detection_layer.o obj/route_layer.o obj/upsample_layer.o obj/box.o obj/normalization_layer.o obj/avgpool_layer.o obj/layer.o obj/local_layer.o obj/shortcut_layer.o obj/logistic_layer.o obj/activation_layer.o obj/rnn_layer.o obj/gru_layer.o obj/crnn_layer.o obj/demo.o obj/batchnorm_layer.o obj/region_layer.o obj/reorg_layer.o obj/tree.o obj/lstm_layer.o obj/l2norm_layer.o obj/yolo_layer.o obj/iseg_layer.o obj/image_opencv.o\n",
      "aarch64-none-linux-gnu-gcc -Iinclude/ -Isrc/ -Wall -Wno-unused-result -Wno-unknown-pragmas -Wfatal-errors -static -Ofast -fno-tree-vectorize -DNNPACK -DGEMM -c ./examples/captcha.c -o obj/captcha.o\n",
      "aarch64-none-linux-gnu-gcc -Iinclude/ -Isrc/ -Wall -Wno-unused-result -Wno-unknown-pragmas -Wfatal-errors -static -Ofast -fno-tree-vectorize -DNNPACK -DGEMM -c ./examples/lsd.c -o obj/lsd.o\n",
      "aarch64-none-linux-gnu-gcc -Iinclude/ -Isrc/ -Wall -Wno-unused-result -Wno-unknown-pragmas -Wfatal-errors -static -Ofast -fno-tree-vectorize -DNNPACK -DGEMM -c ./examples/super.c -o obj/super.o\n",
      "aarch64-none-linux-gnu-gcc -Iinclude/ -Isrc/ -Wall -Wno-unused-result -Wno-unknown-pragmas -Wfatal-errors -static -Ofast -fno-tree-vectorize -DNNPACK -DGEMM -c ./examples/art.c -o obj/art.o\n",
      "aarch64-none-linux-gnu-gcc -Iinclude/ -Isrc/ -Wall -Wno-unused-result -Wno-unknown-pragmas -Wfatal-errors -static -Ofast -fno-tree-vectorize -DNNPACK -DGEMM -c ./examples/tag.c -o obj/tag.o\n",
      "aarch64-none-linux-gnu-gcc -Iinclude/ -Isrc/ -Wall -Wno-unused-result -Wno-unknown-pragmas -Wfatal-errors -static -Ofast -fno-tree-vectorize -DNNPACK -DGEMM -c ./examples/cifar.c -o obj/cifar.o\n",
      "aarch64-none-linux-gnu-gcc -Iinclude/ -Isrc/ -Wall -Wno-unused-result -Wno-unknown-pragmas -Wfatal-errors -static -Ofast -fno-tree-vectorize -DNNPACK -DGEMM -c ./examples/go.c -o obj/go.o\n",
      "aarch64-none-linux-gnu-gcc -Iinclude/ -Isrc/ -Wall -Wno-unused-result -Wno-unknown-pragmas -Wfatal-errors -static -Ofast -fno-tree-vectorize -DNNPACK -DGEMM -c ./examples/rnn.c -o obj/rnn.o\n",
      "aarch64-none-linux-gnu-gcc -Iinclude/ -Isrc/ -Wall -Wno-unused-result -Wno-unknown-pragmas -Wfatal-errors -static -Ofast -fno-tree-vectorize -DNNPACK -DGEMM -c ./examples/segmenter.c -o obj/segmenter.o\n",
      "aarch64-none-linux-gnu-gcc -Iinclude/ -Isrc/ -Wall -Wno-unused-result -Wno-unknown-pragmas -Wfatal-errors -static -Ofast -fno-tree-vectorize -DNNPACK -DGEMM -c ./examples/regressor.c -o obj/regressor.o\n",
      "aarch64-none-linux-gnu-gcc -Iinclude/ -Isrc/ -Wall -Wno-unused-result -Wno-unknown-pragmas -Wfatal-errors -static -Ofast -fno-tree-vectorize -DNNPACK -DGEMM -c ./examples/classifier.c -o obj/classifier.o\n",
      "aarch64-none-linux-gnu-gcc -Iinclude/ -Isrc/ -Wall -Wno-unused-result -Wno-unknown-pragmas -Wfatal-errors -static -Ofast -fno-tree-vectorize -DNNPACK -DGEMM -c ./examples/coco.c -o obj/coco.o\n",
      "aarch64-none-linux-gnu-gcc -Iinclude/ -Isrc/ -Wall -Wno-unused-result -Wno-unknown-pragmas -Wfatal-errors -static -Ofast -fno-tree-vectorize -DNNPACK -DGEMM -c ./examples/yolo.c -o obj/yolo.o\n",
      "aarch64-none-linux-gnu-gcc -Iinclude/ -Isrc/ -Wall -Wno-unused-result -Wno-unknown-pragmas -Wfatal-errors -static -Ofast -fno-tree-vectorize -DNNPACK -DGEMM -c ./examples/detector.c -o obj/detector.o\n",
      "aarch64-none-linux-gnu-gcc -Iinclude/ -Isrc/ -Wall -Wno-unused-result -Wno-unknown-pragmas -Wfatal-errors -static -Ofast -fno-tree-vectorize -DNNPACK -DGEMM -c ./examples/nightmare.c -o obj/nightmare.o\n",
      "aarch64-none-linux-gnu-gcc -Iinclude/ -Isrc/ -Wall -Wno-unused-result -Wno-unknown-pragmas -Wfatal-errors -static -Ofast -fno-tree-vectorize -DNNPACK -DGEMM -c ./examples/instance-segmenter.c -o obj/instance-segmenter.o\n",
      "aarch64-none-linux-gnu-gcc -Iinclude/ -Isrc/ -Wall -Wno-unused-result -Wno-unknown-pragmas -Wfatal-errors -static -Ofast -fno-tree-vectorize -DNNPACK -DGEMM -c ./examples/darknet.c -o obj/darknet.o\n",
      "aarch64-none-linux-gnu-gcc -Iinclude/ -Isrc/ -Wall -Wno-unused-result -Wno-unknown-pragmas -Wfatal-errors -static -Ofast -fno-tree-vectorize -DNNPACK -DGEMM -c ./examples/test.c -o obj/test.o\n",
      "aarch64-none-linux-gnu-gcc -Iinclude/ -Isrc/ -Wall -Wno-unused-result -Wno-unknown-pragmas -Wfatal-errors -static -Ofast -fno-tree-vectorize -DNNPACK -DGEMM obj/captcha.o obj/lsd.o obj/super.o obj/art.o obj/tag.o obj/cifar.o obj/go.o obj/rnn.o obj/segmenter.o obj/regressor.o obj/classifier.o obj/coco.o obj/yolo.o obj/detector.o obj/nightmare.o obj/instance-segmenter.o obj/darknet.o obj/test.o libdarknet.a -o darknet -lm -pthread -L/home/fft_vec/arm-deps/usr/local/lib -l:libnnpack.a -l:libpthreadpool.a -l:libcpuinfo.a -l:libclog.a libdarknet.a\n",
      "/home/fft_vec/gem5/build/ARM/gem5.opt --outdir=./bench/build-ARM-gem5-opt/bench_yolo-tiny/GEMM/64MB/ /home/fft_vec/gem5/configs/example/se.py --cpu-clock=2GHz --l1d_size=64kB --l1i_size=16kB --caches --output=stdout.txt  --errout=stderr.txt --l2_size=64MB --l2cache -c \"./darknet\" --options \"bench_yolo-tiny\"\n",
      "\n",
      "\n"
     ]
    },
    {
     "name": "stderr",
     "output_type": "stream",
     "text": [
      "warn: The `get_runtime_isa` function is deprecated. Please migrate away from using this function.\n",
      "warn: The `get_runtime_isa` function is deprecated. Please migrate away from using this function.\n",
      "warn: No dot file generated. Please install pydot to generate the dot file and pdf.\n",
      "build/ARM/mem/dram_interface.cc:690: warn: DRAM device capacity (8192 Mbytes) does not match the address range assigned (512 Mbytes)\n",
      "build/ARM/base/remote_gdb.cc:416: warn: Sockets disabled, not accepting gdb connections\n",
      "build/ARM/sim/simulate.cc:192: info: Entering event queue @ 0.  Starting simulation...\n",
      "build/ARM/sim/syscall_emul.cc:74: warn: ignoring syscall set_robust_list(...)\n",
      "build/ARM/sim/syscall_emul.cc:74: warn: ignoring syscall rt_sigaction(...)\n",
      "build/ARM/sim/syscall_emul.cc:74: warn: ignoring syscall rt_sigaction(...)\n",
      "build/ARM/sim/syscall_emul.cc:85: warn: ignoring syscall rt_sigprocmask(...)\n",
      "      (further warnings will be suppressed)\n",
      "build/ARM/arch/arm/insts/pseudo.cc:172: warn: \tinstruction 'bti' unimplemented\n",
      "build/ARM/sim/mem_state.cc:443: info: Increasing stack size by one page.\n",
      "build/ARM/sim/syscall_emul.cc:74: warn: ignoring syscall mprotect(...)\n",
      "build/ARM/sim/mem_state.cc:443: info: Increasing stack size by one page.\n"
     ]
    },
    {
     "name": "stdout",
     "output_type": "stream",
     "text": [
      "Global frequency set at 1000000000000 ticks per second\n",
      "gem5 Simulator System.  https://www.gem5.org\n",
      "gem5 is copyrighted software; use the --copyright option for details.\n",
      "\n",
      "gem5 version 22.1.0.0\n",
      "gem5 compiled Jan 26 2023 15:06:33\n",
      "gem5 started Feb 22 2023 23:55:41\n",
      "gem5 executing on aldy, pid 1244268\n",
      "command line: /home/fft_vec/gem5/build/ARM/gem5.opt --outdir=./bench/build-ARM-gem5-opt/bench_yolo-tiny/GEMM/64MB/ /home/fft_vec/gem5/configs/example/se.py --cpu-clock=2GHz --l1d_size=64kB --l1i_size=16kB --caches --output=stdout.txt --errout=stderr.txt --l2_size=64MB --l2cache -c ./darknet --options bench_yolo-tiny\n",
      "\n",
      "info: Standard input is not a terminal, disabling listeners.\n",
      "**** REAL SIMULATION ****\n"
     ]
    },
    {
     "name": "stderr",
     "output_type": "stream",
     "text": [
      "build/ARM/sim/mem_state.cc:443: info: Increasing stack size by one page.\n",
      "build/ARM/sim/mem_state.cc:443: info: Increasing stack size by one page.\n"
     ]
    },
    {
     "name": "stdout",
     "output_type": "stream",
     "text": [
      "Exiting @ tick 2614409150500 because exiting with last active thread context\n",
      "['./bench/build-ARM-gem5-opt/bench_yolo-tiny/GEMM/64MB/']\n",
      "reading data from file:  ./bench/build-ARM-gem5-opt/bench_yolo-tiny/GEMM/64MB/stats.txt \n",
      " \n",
      "[[('simTicks', 2614409150500)]]\n",
      "([[('simTicks', 1191142848500)]], ['./bench/build-ARM-gem5-opt/bench_yolo-tiny/NO_PREDICT_NPP/64MB/'])\n",
      "run whitout prediction--..:  [[('simTicks', 1191142848500)]]\n",
      "complete run--..:  [[('simTicks', 2614409150500)]]\n",
      "[1423266302000]\n",
      "['64MB']\n"
     ]
    },
    {
     "data": {
      "image/png": "[encoded data removed]",
      "text/plain": [
       "<Figure size 640x480 with 1 Axes>"
      ]
     },
     "metadata": {},
     "output_type": "display_data"
    },
    {
     "data": {
      "text/plain": [
       "(['./bench/build-ARM-gem5-opt/bench_yolo-tiny/GEMM/64MB/'],\n",
       " [[('simTicks', 2614409150500)]])"
      ]
     },
     "execution_count": 31,
     "metadata": {},
     "output_type": "execute_result"
    }
   ],
   "source": [
    "gemmR_s = runandPlot(Program.NNPACK_GEMM,yolo ,chaceOptions, chaceSizes, setup_s)\n",
    "gemmR_s"
   ]
  },
  {
   "cell_type": "code",
   "execution_count": 32,
   "id": "f913a419",
   "metadata": {},
   "outputs": [
    {
     "name": "stdout",
     "output_type": "stream",
     "text": [
      "\n",
      " make clean; make NNPACK=1 WT=1 CC=aarch64-none-linux-gnu-gcc CPP=aarch64-none-linux-gnu-g++ \n",
      "\n",
      "rm -rf ./obj/gemm.o ./obj/utils.o ./obj/cuda.o ./obj/deconvolutional_layer.o ./obj/convolutional_layer.o ./obj/list.o ./obj/image.o ./obj/activations.o ./obj/im2col.o ./obj/col2im.o ./obj/blas.o ./obj/crop_layer.o ./obj/dropout_layer.o ./obj/maxpool_layer.o ./obj/softmax_layer.o ./obj/data.o ./obj/matrix.o ./obj/network.o ./obj/connected_layer.o ./obj/cost_layer.o ./obj/parser.o ./obj/option_list.o ./obj/detection_layer.o ./obj/route_layer.o ./obj/upsample_layer.o ./obj/box.o ./obj/normalization_layer.o ./obj/avgpool_layer.o ./obj/layer.o ./obj/local_layer.o ./obj/shortcut_layer.o ./obj/logistic_layer.o ./obj/activation_layer.o ./obj/rnn_layer.o ./obj/gru_layer.o ./obj/crnn_layer.o ./obj/demo.o ./obj/batchnorm_layer.o ./obj/region_layer.o ./obj/reorg_layer.o ./obj/tree.o ./obj/lstm_layer.o ./obj/l2norm_layer.o ./obj/yolo_layer.o ./obj/iseg_layer.o ./obj/image_opencv.o libdarknet.so libdarknet.a darknet ./obj/captcha.o ./obj/lsd.o ./obj/super.o ./obj/art.o ./obj/tag.o ./obj/cifar.o ./obj/go.o ./obj/rnn.o ./obj/segmenter.o ./obj/regressor.o ./obj/classifier.o ./obj/coco.o ./obj/yolo.o ./obj/detector.o ./obj/nightmare.o ./obj/instance-segmenter.o ./obj/darknet.o ./obj/test.o ./obj//*\n",
      "NNPACK=1\n",
      "CPP=aarch64-none-linux-gnu-g++\n",
      "WT=1\n",
      "CC=aarch64-none-linux-gnu-gcc\n",
      "aarch64-none-linux-gnu-gcc -Iinclude/ -Isrc/ -Wall -Wno-unused-result -Wno-unknown-pragmas -Wfatal-errors -static -Ofast -fno-tree-vectorize -DNNPACK -DWT -c ./src/gemm.c -o obj/gemm.o\n",
      "aarch64-none-linux-gnu-gcc -Iinclude/ -Isrc/ -Wall -Wno-unused-result -Wno-unknown-pragmas -Wfatal-errors -static -Ofast -fno-tree-vectorize -DNNPACK -DWT -c ./src/utils.c -o obj/utils.o\n"
     ]
    },
    {
     "name": "stderr",
     "output_type": "stream",
     "text": [
      "In function ‘copy_string’,\n",
      "    inlined from ‘basecfg’ at ./src/utils.c:187:9:\n",
      "./src/utils.c:426:5: warning: ‘strncpy’ specified bound depends on the length of the source argument [-Wstringop-overflow=]\n",
      "  426 |     strncpy(copy, s, strlen(s)+1);\n",
      "      |     ^~~~~~~~~~~~~~~~~~~~~~~~~~~~~\n",
      "./src/utils.c: In function ‘basecfg’:\n",
      "./src/utils.c:426:22: note: length computed here\n",
      "  426 |     strncpy(copy, s, strlen(s)+1);\n",
      "      |                      ^~~~~~~~~\n",
      "./src/utils.c: In function ‘copy_string’:\n",
      "./src/utils.c:426:5: warning: ‘strncpy’ specified bound depends on the length of the source argument [-Wstringop-overflow=]\n",
      "  426 |     strncpy(copy, s, strlen(s)+1);\n",
      "      |     ^~~~~~~~~~~~~~~~~~~~~~~~~~~~~\n",
      "./src/utils.c:426:22: note: length computed here\n",
      "  426 |     strncpy(copy, s, strlen(s)+1);\n",
      "      |                      ^~~~~~~~~\n",
      "In function ‘copy_string’,\n",
      "    inlined from ‘parse_csv_line’ at ./src/utils.c:439:28:\n",
      "./src/utils.c:426:5: warning: ‘strncpy’ specified bound depends on the length of the source argument [-Wstringop-overflow=]\n",
      "  426 |     strncpy(copy, s, strlen(s)+1);\n",
      "      |     ^~~~~~~~~~~~~~~~~~~~~~~~~~~~~\n",
      "./src/utils.c: In function ‘parse_csv_line’:\n",
      "./src/utils.c:426:22: note: length computed here\n",
      "  426 |     strncpy(copy, s, strlen(s)+1);\n",
      "      |                      ^~~~~~~~~\n",
      "In function ‘copy_string’,\n",
      "    inlined from ‘parse_csv_line’ at ./src/utils.c:443:20:\n",
      "./src/utils.c:426:5: warning: ‘strncpy’ specified bound depends on the length of the source argument [-Wstringop-overflow=]\n",
      "  426 |     strncpy(copy, s, strlen(s)+1);\n",
      "      |     ^~~~~~~~~~~~~~~~~~~~~~~~~~~~~\n",
      "./src/utils.c: In function ‘parse_csv_line’:\n",
      "./src/utils.c:426:22: note: length computed here\n",
      "  426 |     strncpy(copy, s, strlen(s)+1);\n",
      "      |                      ^~~~~~~~~\n"
     ]
    },
    {
     "name": "stdout",
     "output_type": "stream",
     "text": [
      "aarch64-none-linux-gnu-gcc -Iinclude/ -Isrc/ -Wall -Wno-unused-result -Wno-unknown-pragmas -Wfatal-errors -static -Ofast -fno-tree-vectorize -DNNPACK -DWT -c ./src/cuda.c -o obj/cuda.o\n",
      "aarch64-none-linux-gnu-gcc -Iinclude/ -Isrc/ -Wall -Wno-unused-result -Wno-unknown-pragmas -Wfatal-errors -static -Ofast -fno-tree-vectorize -DNNPACK -DWT -c ./src/deconvolutional_layer.c -o obj/deconvolutional_layer.o\n",
      "aarch64-none-linux-gnu-gcc -Iinclude/ -Isrc/ -Wall -Wno-unused-result -Wno-unknown-pragmas -Wfatal-errors -static -Ofast -fno-tree-vectorize -DNNPACK -DWT -c ./src/convolutional_layer.c -o obj/convolutional_layer.o\n",
      "aarch64-none-linux-gnu-gcc -Iinclude/ -Isrc/ -Wall -Wno-unused-result -Wno-unknown-pragmas -Wfatal-errors -static -Ofast -fno-tree-vectorize -DNNPACK -DWT -c ./src/list.c -o obj/list.o\n",
      "aarch64-none-linux-gnu-gcc -Iinclude/ -Isrc/ -Wall -Wno-unused-result -Wno-unknown-pragmas -Wfatal-errors -static -Ofast -fno-tree-vectorize -DNNPACK -DWT -c ./src/image.c -o obj/image.o\n",
      "aarch64-none-linux-gnu-gcc -Iinclude/ -Isrc/ -Wall -Wno-unused-result -Wno-unknown-pragmas -Wfatal-errors -static -Ofast -fno-tree-vectorize -DNNPACK -DWT -c ./src/activations.c -o obj/activations.o\n",
      "aarch64-none-linux-gnu-gcc -Iinclude/ -Isrc/ -Wall -Wno-unused-result -Wno-unknown-pragmas -Wfatal-errors -static -Ofast -fno-tree-vectorize -DNNPACK -DWT -c ./src/im2col.c -o obj/im2col.o\n",
      "aarch64-none-linux-gnu-gcc -Iinclude/ -Isrc/ -Wall -Wno-unused-result -Wno-unknown-pragmas -Wfatal-errors -static -Ofast -fno-tree-vectorize -DNNPACK -DWT -c ./src/col2im.c -o obj/col2im.o\n",
      "aarch64-none-linux-gnu-gcc -Iinclude/ -Isrc/ -Wall -Wno-unused-result -Wno-unknown-pragmas -Wfatal-errors -static -Ofast -fno-tree-vectorize -DNNPACK -DWT -c ./src/blas.c -o obj/blas.o\n",
      "aarch64-none-linux-gnu-gcc -Iinclude/ -Isrc/ -Wall -Wno-unused-result -Wno-unknown-pragmas -Wfatal-errors -static -Ofast -fno-tree-vectorize -DNNPACK -DWT -c ./src/crop_layer.c -o obj/crop_layer.o\n",
      "aarch64-none-linux-gnu-gcc -Iinclude/ -Isrc/ -Wall -Wno-unused-result -Wno-unknown-pragmas -Wfatal-errors -static -Ofast -fno-tree-vectorize -DNNPACK -DWT -c ./src/dropout_layer.c -o obj/dropout_layer.o\n",
      "aarch64-none-linux-gnu-gcc -Iinclude/ -Isrc/ -Wall -Wno-unused-result -Wno-unknown-pragmas -Wfatal-errors -static -Ofast -fno-tree-vectorize -DNNPACK -DWT -c ./src/maxpool_layer.c -o obj/maxpool_layer.o\n",
      "aarch64-none-linux-gnu-gcc -Iinclude/ -Isrc/ -Wall -Wno-unused-result -Wno-unknown-pragmas -Wfatal-errors -static -Ofast -fno-tree-vectorize -DNNPACK -DWT -c ./src/softmax_layer.c -o obj/softmax_layer.o\n",
      "aarch64-none-linux-gnu-gcc -Iinclude/ -Isrc/ -Wall -Wno-unused-result -Wno-unknown-pragmas -Wfatal-errors -static -Ofast -fno-tree-vectorize -DNNPACK -DWT -c ./src/data.c -o obj/data.o\n",
      "aarch64-none-linux-gnu-gcc -Iinclude/ -Isrc/ -Wall -Wno-unused-result -Wno-unknown-pragmas -Wfatal-errors -static -Ofast -fno-tree-vectorize -DNNPACK -DWT -c ./src/matrix.c -o obj/matrix.o\n",
      "aarch64-none-linux-gnu-gcc -Iinclude/ -Isrc/ -Wall -Wno-unused-result -Wno-unknown-pragmas -Wfatal-errors -static -Ofast -fno-tree-vectorize -DNNPACK -DWT -c ./src/network.c -o obj/network.o\n",
      "aarch64-none-linux-gnu-gcc -Iinclude/ -Isrc/ -Wall -Wno-unused-result -Wno-unknown-pragmas -Wfatal-errors -static -Ofast -fno-tree-vectorize -DNNPACK -DWT -c ./src/connected_layer.c -o obj/connected_layer.o\n",
      "aarch64-none-linux-gnu-gcc -Iinclude/ -Isrc/ -Wall -Wno-unused-result -Wno-unknown-pragmas -Wfatal-errors -static -Ofast -fno-tree-vectorize -DNNPACK -DWT -c ./src/cost_layer.c -o obj/cost_layer.o\n",
      "aarch64-none-linux-gnu-gcc -Iinclude/ -Isrc/ -Wall -Wno-unused-result -Wno-unknown-pragmas -Wfatal-errors -static -Ofast -fno-tree-vectorize -DNNPACK -DWT -c ./src/parser.c -o obj/parser.o\n",
      "aarch64-none-linux-gnu-gcc -Iinclude/ -Isrc/ -Wall -Wno-unused-result -Wno-unknown-pragmas -Wfatal-errors -static -Ofast -fno-tree-vectorize -DNNPACK -DWT -c ./src/option_list.c -o obj/option_list.o\n",
      "aarch64-none-linux-gnu-gcc -Iinclude/ -Isrc/ -Wall -Wno-unused-result -Wno-unknown-pragmas -Wfatal-errors -static -Ofast -fno-tree-vectorize -DNNPACK -DWT -c ./src/detection_layer.c -o obj/detection_layer.o\n",
      "aarch64-none-linux-gnu-gcc -Iinclude/ -Isrc/ -Wall -Wno-unused-result -Wno-unknown-pragmas -Wfatal-errors -static -Ofast -fno-tree-vectorize -DNNPACK -DWT -c ./src/route_layer.c -o obj/route_layer.o\n",
      "aarch64-none-linux-gnu-gcc -Iinclude/ -Isrc/ -Wall -Wno-unused-result -Wno-unknown-pragmas -Wfatal-errors -static -Ofast -fno-tree-vectorize -DNNPACK -DWT -c ./src/upsample_layer.c -o obj/upsample_layer.o\n",
      "aarch64-none-linux-gnu-gcc -Iinclude/ -Isrc/ -Wall -Wno-unused-result -Wno-unknown-pragmas -Wfatal-errors -static -Ofast -fno-tree-vectorize -DNNPACK -DWT -c ./src/box.c -o obj/box.o\n",
      "aarch64-none-linux-gnu-gcc -Iinclude/ -Isrc/ -Wall -Wno-unused-result -Wno-unknown-pragmas -Wfatal-errors -static -Ofast -fno-tree-vectorize -DNNPACK -DWT -c ./src/normalization_layer.c -o obj/normalization_layer.o\n",
      "aarch64-none-linux-gnu-gcc -Iinclude/ -Isrc/ -Wall -Wno-unused-result -Wno-unknown-pragmas -Wfatal-errors -static -Ofast -fno-tree-vectorize -DNNPACK -DWT -c ./src/avgpool_layer.c -o obj/avgpool_layer.o\n",
      "aarch64-none-linux-gnu-gcc -Iinclude/ -Isrc/ -Wall -Wno-unused-result -Wno-unknown-pragmas -Wfatal-errors -static -Ofast -fno-tree-vectorize -DNNPACK -DWT -c ./src/layer.c -o obj/layer.o\n",
      "aarch64-none-linux-gnu-gcc -Iinclude/ -Isrc/ -Wall -Wno-unused-result -Wno-unknown-pragmas -Wfatal-errors -static -Ofast -fno-tree-vectorize -DNNPACK -DWT -c ./src/local_layer.c -o obj/local_layer.o\n",
      "aarch64-none-linux-gnu-gcc -Iinclude/ -Isrc/ -Wall -Wno-unused-result -Wno-unknown-pragmas -Wfatal-errors -static -Ofast -fno-tree-vectorize -DNNPACK -DWT -c ./src/shortcut_layer.c -o obj/shortcut_layer.o\n",
      "aarch64-none-linux-gnu-gcc -Iinclude/ -Isrc/ -Wall -Wno-unused-result -Wno-unknown-pragmas -Wfatal-errors -static -Ofast -fno-tree-vectorize -DNNPACK -DWT -c ./src/logistic_layer.c -o obj/logistic_layer.o\n",
      "aarch64-none-linux-gnu-gcc -Iinclude/ -Isrc/ -Wall -Wno-unused-result -Wno-unknown-pragmas -Wfatal-errors -static -Ofast -fno-tree-vectorize -DNNPACK -DWT -c ./src/activation_layer.c -o obj/activation_layer.o\n",
      "aarch64-none-linux-gnu-gcc -Iinclude/ -Isrc/ -Wall -Wno-unused-result -Wno-unknown-pragmas -Wfatal-errors -static -Ofast -fno-tree-vectorize -DNNPACK -DWT -c ./src/rnn_layer.c -o obj/rnn_layer.o\n",
      "aarch64-none-linux-gnu-gcc -Iinclude/ -Isrc/ -Wall -Wno-unused-result -Wno-unknown-pragmas -Wfatal-errors -static -Ofast -fno-tree-vectorize -DNNPACK -DWT -c ./src/gru_layer.c -o obj/gru_layer.o\n",
      "aarch64-none-linux-gnu-gcc -Iinclude/ -Isrc/ -Wall -Wno-unused-result -Wno-unknown-pragmas -Wfatal-errors -static -Ofast -fno-tree-vectorize -DNNPACK -DWT -c ./src/crnn_layer.c -o obj/crnn_layer.o\n",
      "aarch64-none-linux-gnu-gcc -Iinclude/ -Isrc/ -Wall -Wno-unused-result -Wno-unknown-pragmas -Wfatal-errors -static -Ofast -fno-tree-vectorize -DNNPACK -DWT -c ./src/demo.c -o obj/demo.o\n",
      "aarch64-none-linux-gnu-gcc -Iinclude/ -Isrc/ -Wall -Wno-unused-result -Wno-unknown-pragmas -Wfatal-errors -static -Ofast -fno-tree-vectorize -DNNPACK -DWT -c ./src/batchnorm_layer.c -o obj/batchnorm_layer.o\n",
      "aarch64-none-linux-gnu-gcc -Iinclude/ -Isrc/ -Wall -Wno-unused-result -Wno-unknown-pragmas -Wfatal-errors -static -Ofast -fno-tree-vectorize -DNNPACK -DWT -c ./src/region_layer.c -o obj/region_layer.o\n",
      "aarch64-none-linux-gnu-gcc -Iinclude/ -Isrc/ -Wall -Wno-unused-result -Wno-unknown-pragmas -Wfatal-errors -static -Ofast -fno-tree-vectorize -DNNPACK -DWT -c ./src/reorg_layer.c -o obj/reorg_layer.o\n",
      "aarch64-none-linux-gnu-gcc -Iinclude/ -Isrc/ -Wall -Wno-unused-result -Wno-unknown-pragmas -Wfatal-errors -static -Ofast -fno-tree-vectorize -DNNPACK -DWT -c ./src/tree.c -o obj/tree.o\n",
      "aarch64-none-linux-gnu-gcc -Iinclude/ -Isrc/ -Wall -Wno-unused-result -Wno-unknown-pragmas -Wfatal-errors -static -Ofast -fno-tree-vectorize -DNNPACK -DWT -c ./src/lstm_layer.c -o obj/lstm_layer.o\n",
      "aarch64-none-linux-gnu-gcc -Iinclude/ -Isrc/ -Wall -Wno-unused-result -Wno-unknown-pragmas -Wfatal-errors -static -Ofast -fno-tree-vectorize -DNNPACK -DWT -c ./src/l2norm_layer.c -o obj/l2norm_layer.o\n",
      "aarch64-none-linux-gnu-gcc -Iinclude/ -Isrc/ -Wall -Wno-unused-result -Wno-unknown-pragmas -Wfatal-errors -static -Ofast -fno-tree-vectorize -DNNPACK -DWT -c ./src/yolo_layer.c -o obj/yolo_layer.o\n"
     ]
    },
    {
     "name": "stdout",
     "output_type": "stream",
     "text": [
      "aarch64-none-linux-gnu-gcc -Iinclude/ -Isrc/ -Wall -Wno-unused-result -Wno-unknown-pragmas -Wfatal-errors -static -Ofast -fno-tree-vectorize -DNNPACK -DWT -c ./src/iseg_layer.c -o obj/iseg_layer.o\n",
      "aarch64-none-linux-gnu-g++ -Iinclude/ -Isrc/ -Wall -Wno-unused-result -Wno-unknown-pragmas -Wfatal-errors -static -Ofast -fno-tree-vectorize -DNNPACK -DWT -c ./src/image_opencv.cpp -o obj/image_opencv.o\n",
      "ar rcs libdarknet.a obj/gemm.o obj/utils.o obj/cuda.o obj/deconvolutional_layer.o obj/convolutional_layer.o obj/list.o obj/image.o obj/activations.o obj/im2col.o obj/col2im.o obj/blas.o obj/crop_layer.o obj/dropout_layer.o obj/maxpool_layer.o obj/softmax_layer.o obj/data.o obj/matrix.o obj/network.o obj/connected_layer.o obj/cost_layer.o obj/parser.o obj/option_list.o obj/detection_layer.o obj/route_layer.o obj/upsample_layer.o obj/box.o obj/normalization_layer.o obj/avgpool_layer.o obj/layer.o obj/local_layer.o obj/shortcut_layer.o obj/logistic_layer.o obj/activation_layer.o obj/rnn_layer.o obj/gru_layer.o obj/crnn_layer.o obj/demo.o obj/batchnorm_layer.o obj/region_layer.o obj/reorg_layer.o obj/tree.o obj/lstm_layer.o obj/l2norm_layer.o obj/yolo_layer.o obj/iseg_layer.o obj/image_opencv.o\n",
      "aarch64-none-linux-gnu-gcc -Iinclude/ -Isrc/ -Wall -Wno-unused-result -Wno-unknown-pragmas -Wfatal-errors -static -Ofast -fno-tree-vectorize -DNNPACK -DWT -c ./examples/captcha.c -o obj/captcha.o\n",
      "aarch64-none-linux-gnu-gcc -Iinclude/ -Isrc/ -Wall -Wno-unused-result -Wno-unknown-pragmas -Wfatal-errors -static -Ofast -fno-tree-vectorize -DNNPACK -DWT -c ./examples/lsd.c -o obj/lsd.o\n",
      "aarch64-none-linux-gnu-gcc -Iinclude/ -Isrc/ -Wall -Wno-unused-result -Wno-unknown-pragmas -Wfatal-errors -static -Ofast -fno-tree-vectorize -DNNPACK -DWT -c ./examples/super.c -o obj/super.o\n",
      "aarch64-none-linux-gnu-gcc -Iinclude/ -Isrc/ -Wall -Wno-unused-result -Wno-unknown-pragmas -Wfatal-errors -static -Ofast -fno-tree-vectorize -DNNPACK -DWT -c ./examples/art.c -o obj/art.o\n",
      "aarch64-none-linux-gnu-gcc -Iinclude/ -Isrc/ -Wall -Wno-unused-result -Wno-unknown-pragmas -Wfatal-errors -static -Ofast -fno-tree-vectorize -DNNPACK -DWT -c ./examples/tag.c -o obj/tag.o\n",
      "aarch64-none-linux-gnu-gcc -Iinclude/ -Isrc/ -Wall -Wno-unused-result -Wno-unknown-pragmas -Wfatal-errors -static -Ofast -fno-tree-vectorize -DNNPACK -DWT -c ./examples/cifar.c -o obj/cifar.o\n",
      "aarch64-none-linux-gnu-gcc -Iinclude/ -Isrc/ -Wall -Wno-unused-result -Wno-unknown-pragmas -Wfatal-errors -static -Ofast -fno-tree-vectorize -DNNPACK -DWT -c ./examples/go.c -o obj/go.o\n",
      "aarch64-none-linux-gnu-gcc -Iinclude/ -Isrc/ -Wall -Wno-unused-result -Wno-unknown-pragmas -Wfatal-errors -static -Ofast -fno-tree-vectorize -DNNPACK -DWT -c ./examples/rnn.c -o obj/rnn.o\n",
      "aarch64-none-linux-gnu-gcc -Iinclude/ -Isrc/ -Wall -Wno-unused-result -Wno-unknown-pragmas -Wfatal-errors -static -Ofast -fno-tree-vectorize -DNNPACK -DWT -c ./examples/segmenter.c -o obj/segmenter.o\n",
      "aarch64-none-linux-gnu-gcc -Iinclude/ -Isrc/ -Wall -Wno-unused-result -Wno-unknown-pragmas -Wfatal-errors -static -Ofast -fno-tree-vectorize -DNNPACK -DWT -c ./examples/regressor.c -o obj/regressor.o\n",
      "aarch64-none-linux-gnu-gcc -Iinclude/ -Isrc/ -Wall -Wno-unused-result -Wno-unknown-pragmas -Wfatal-errors -static -Ofast -fno-tree-vectorize -DNNPACK -DWT -c ./examples/classifier.c -o obj/classifier.o\n",
      "aarch64-none-linux-gnu-gcc -Iinclude/ -Isrc/ -Wall -Wno-unused-result -Wno-unknown-pragmas -Wfatal-errors -static -Ofast -fno-tree-vectorize -DNNPACK -DWT -c ./examples/coco.c -o obj/coco.o\n",
      "aarch64-none-linux-gnu-gcc -Iinclude/ -Isrc/ -Wall -Wno-unused-result -Wno-unknown-pragmas -Wfatal-errors -static -Ofast -fno-tree-vectorize -DNNPACK -DWT -c ./examples/yolo.c -o obj/yolo.o\n",
      "aarch64-none-linux-gnu-gcc -Iinclude/ -Isrc/ -Wall -Wno-unused-result -Wno-unknown-pragmas -Wfatal-errors -static -Ofast -fno-tree-vectorize -DNNPACK -DWT -c ./examples/detector.c -o obj/detector.o\n",
      "aarch64-none-linux-gnu-gcc -Iinclude/ -Isrc/ -Wall -Wno-unused-result -Wno-unknown-pragmas -Wfatal-errors -static -Ofast -fno-tree-vectorize -DNNPACK -DWT -c ./examples/nightmare.c -o obj/nightmare.o\n",
      "aarch64-none-linux-gnu-gcc -Iinclude/ -Isrc/ -Wall -Wno-unused-result -Wno-unknown-pragmas -Wfatal-errors -static -Ofast -fno-tree-vectorize -DNNPACK -DWT -c ./examples/instance-segmenter.c -o obj/instance-segmenter.o\n",
      "aarch64-none-linux-gnu-gcc -Iinclude/ -Isrc/ -Wall -Wno-unused-result -Wno-unknown-pragmas -Wfatal-errors -static -Ofast -fno-tree-vectorize -DNNPACK -DWT -c ./examples/darknet.c -o obj/darknet.o\n",
      "aarch64-none-linux-gnu-gcc -Iinclude/ -Isrc/ -Wall -Wno-unused-result -Wno-unknown-pragmas -Wfatal-errors -static -Ofast -fno-tree-vectorize -DNNPACK -DWT -c ./examples/test.c -o obj/test.o\n",
      "aarch64-none-linux-gnu-gcc -Iinclude/ -Isrc/ -Wall -Wno-unused-result -Wno-unknown-pragmas -Wfatal-errors -static -Ofast -fno-tree-vectorize -DNNPACK -DWT obj/captcha.o obj/lsd.o obj/super.o obj/art.o obj/tag.o obj/cifar.o obj/go.o obj/rnn.o obj/segmenter.o obj/regressor.o obj/classifier.o obj/coco.o obj/yolo.o obj/detector.o obj/nightmare.o obj/instance-segmenter.o obj/darknet.o obj/test.o libdarknet.a -o darknet -lm -pthread -L/home/fft_vec/arm-deps/usr/local/lib -l:libnnpack.a -l:libpthreadpool.a -l:libcpuinfo.a -l:libclog.a libdarknet.a\n",
      "/home/fft_vec/gem5/build/ARM/gem5.opt --outdir=./bench/build-ARM-gem5-opt/bench_yolo-tiny/WT/64MB/ /home/fft_vec/gem5/configs/example/se.py --cpu-clock=2GHz --l1d_size=64kB --l1i_size=16kB --caches --output=stdout.txt  --errout=stderr.txt --l2_size=64MB --l2cache -c \"./darknet\" --options \"bench_yolo-tiny\"\n",
      "\n",
      "\n"
     ]
    },
    {
     "name": "stderr",
     "output_type": "stream",
     "text": [
      "warn: The `get_runtime_isa` function is deprecated. Please migrate away from using this function.\n",
      "warn: The `get_runtime_isa` function is deprecated. Please migrate away from using this function.\n",
      "warn: No dot file generated. Please install pydot to generate the dot file and pdf.\n",
      "build/ARM/mem/dram_interface.cc:690: warn: DRAM device capacity (8192 Mbytes) does not match the address range assigned (512 Mbytes)\n",
      "build/ARM/base/remote_gdb.cc:416: warn: Sockets disabled, not accepting gdb connections\n",
      "build/ARM/sim/simulate.cc:192: info: Entering event queue @ 0.  Starting simulation...\n",
      "build/ARM/sim/syscall_emul.cc:74: warn: ignoring syscall set_robust_list(...)\n",
      "build/ARM/sim/syscall_emul.cc:74: warn: ignoring syscall rt_sigaction(...)\n",
      "build/ARM/sim/syscall_emul.cc:74: warn: ignoring syscall rt_sigaction(...)\n",
      "build/ARM/sim/syscall_emul.cc:85: warn: ignoring syscall rt_sigprocmask(...)\n",
      "      (further warnings will be suppressed)\n",
      "build/ARM/arch/arm/insts/pseudo.cc:172: warn: \tinstruction 'bti' unimplemented\n",
      "build/ARM/sim/mem_state.cc:443: info: Increasing stack size by one page.\n",
      "build/ARM/sim/syscall_emul.cc:74: warn: ignoring syscall mprotect(...)\n",
      "build/ARM/sim/mem_state.cc:443: info: Increasing stack size by one page.\n"
     ]
    },
    {
     "name": "stdout",
     "output_type": "stream",
     "text": [
      "Global frequency set at 1000000000000 ticks per second\n",
      "gem5 Simulator System.  https://www.gem5.org\n",
      "gem5 is copyrighted software; use the --copyright option for details.\n",
      "\n",
      "gem5 version 22.1.0.0\n",
      "gem5 compiled Jan 26 2023 15:06:33\n",
      "gem5 started Feb 23 2023 00:30:25\n",
      "gem5 executing on aldy, pid 1365201\n",
      "command line: /home/fft_vec/gem5/build/ARM/gem5.opt --outdir=./bench/build-ARM-gem5-opt/bench_yolo-tiny/WT/64MB/ /home/fft_vec/gem5/configs/example/se.py --cpu-clock=2GHz --l1d_size=64kB --l1i_size=16kB --caches --output=stdout.txt --errout=stderr.txt --l2_size=64MB --l2cache -c ./darknet --options bench_yolo-tiny\n",
      "\n",
      "info: Standard input is not a terminal, disabling listeners.\n",
      "**** REAL SIMULATION ****\n"
     ]
    },
    {
     "name": "stderr",
     "output_type": "stream",
     "text": [
      "build/ARM/sim/mem_state.cc:443: info: Increasing stack size by one page.\n",
      "build/ARM/sim/mem_state.cc:443: info: Increasing stack size by one page.\n"
     ]
    },
    {
     "name": "stdout",
     "output_type": "stream",
     "text": [
      "Exiting @ tick 1873947392500 because exiting with last active thread context\n",
      "['./bench/build-ARM-gem5-opt/bench_yolo-tiny/WT/64MB/']\n",
      "reading data from file:  ./bench/build-ARM-gem5-opt/bench_yolo-tiny/WT/64MB/stats.txt \n",
      " \n",
      "[[('simTicks', 1873947392500)]]\n",
      "([[('simTicks', 1191142848500)]], ['./bench/build-ARM-gem5-opt/bench_yolo-tiny/NO_PREDICT_NPP/64MB/'])\n",
      "run whitout prediction--..:  [[('simTicks', 1191142848500)]]\n",
      "complete run--..:  [[('simTicks', 1873947392500)]]\n",
      "[682804544000]\n",
      "['64MB']\n"
     ]
    },
    {
     "data": {
      "image/png": "[encoded data removed]",
      "text/plain": [
       "<Figure size 640x480 with 1 Axes>"
      ]
     },
     "metadata": {},
     "output_type": "display_data"
    },
    {
     "data": {
      "text/plain": [
       "(['./bench/build-ARM-gem5-opt/bench_yolo-tiny/WT/64MB/'],\n",
       " [[('simTicks', 1873947392500)]])"
      ]
     },
     "execution_count": 32,
     "metadata": {},
     "output_type": "execute_result"
    }
   ],
   "source": [
    "wtR_s = runandPlot(Program.NNPACK_WT,yolo ,chaceOptions, chaceSizes, setup_s)\n",
    "wtR_s"
   ]
  },
  {
   "cell_type": "code",
   "execution_count": 33,
   "id": "d9b55c20",
   "metadata": {},
   "outputs": [
    {
     "name": "stdout",
     "output_type": "stream",
     "text": [
      "\n",
      " make clean; make NNPACK=1 FT8=1 CC=aarch64-none-linux-gnu-gcc CPP=aarch64-none-linux-gnu-g++ \n",
      "\n",
      "rm -rf ./obj/gemm.o ./obj/utils.o ./obj/cuda.o ./obj/deconvolutional_layer.o ./obj/convolutional_layer.o ./obj/list.o ./obj/image.o ./obj/activations.o ./obj/im2col.o ./obj/col2im.o ./obj/blas.o ./obj/crop_layer.o ./obj/dropout_layer.o ./obj/maxpool_layer.o ./obj/softmax_layer.o ./obj/data.o ./obj/matrix.o ./obj/network.o ./obj/connected_layer.o ./obj/cost_layer.o ./obj/parser.o ./obj/option_list.o ./obj/detection_layer.o ./obj/route_layer.o ./obj/upsample_layer.o ./obj/box.o ./obj/normalization_layer.o ./obj/avgpool_layer.o ./obj/layer.o ./obj/local_layer.o ./obj/shortcut_layer.o ./obj/logistic_layer.o ./obj/activation_layer.o ./obj/rnn_layer.o ./obj/gru_layer.o ./obj/crnn_layer.o ./obj/demo.o ./obj/batchnorm_layer.o ./obj/region_layer.o ./obj/reorg_layer.o ./obj/tree.o ./obj/lstm_layer.o ./obj/l2norm_layer.o ./obj/yolo_layer.o ./obj/iseg_layer.o ./obj/image_opencv.o libdarknet.so libdarknet.a darknet ./obj/captcha.o ./obj/lsd.o ./obj/super.o ./obj/art.o ./obj/tag.o ./obj/cifar.o ./obj/go.o ./obj/rnn.o ./obj/segmenter.o ./obj/regressor.o ./obj/classifier.o ./obj/coco.o ./obj/yolo.o ./obj/detector.o ./obj/nightmare.o ./obj/instance-segmenter.o ./obj/darknet.o ./obj/test.o ./obj//*\n",
      "NNPACK=1\n",
      "FT8=1\n",
      "CPP=aarch64-none-linux-gnu-g++\n",
      "CC=aarch64-none-linux-gnu-gcc\n",
      "aarch64-none-linux-gnu-gcc -Iinclude/ -Isrc/ -Wall -Wno-unused-result -Wno-unknown-pragmas -Wfatal-errors -static -Ofast -fno-tree-vectorize -DNNPACK -DFT8 -c ./src/gemm.c -o obj/gemm.o\n",
      "aarch64-none-linux-gnu-gcc -Iinclude/ -Isrc/ -Wall -Wno-unused-result -Wno-unknown-pragmas -Wfatal-errors -static -Ofast -fno-tree-vectorize -DNNPACK -DFT8 -c ./src/utils.c -o obj/utils.o\n"
     ]
    },
    {
     "name": "stderr",
     "output_type": "stream",
     "text": [
      "In function ‘copy_string’,\n",
      "    inlined from ‘basecfg’ at ./src/utils.c:187:9:\n",
      "./src/utils.c:426:5: warning: ‘strncpy’ specified bound depends on the length of the source argument [-Wstringop-overflow=]\n",
      "  426 |     strncpy(copy, s, strlen(s)+1);\n",
      "      |     ^~~~~~~~~~~~~~~~~~~~~~~~~~~~~\n",
      "./src/utils.c: In function ‘basecfg’:\n",
      "./src/utils.c:426:22: note: length computed here\n",
      "  426 |     strncpy(copy, s, strlen(s)+1);\n",
      "      |                      ^~~~~~~~~\n",
      "./src/utils.c: In function ‘copy_string’:\n",
      "./src/utils.c:426:5: warning: ‘strncpy’ specified bound depends on the length of the source argument [-Wstringop-overflow=]\n",
      "  426 |     strncpy(copy, s, strlen(s)+1);\n",
      "      |     ^~~~~~~~~~~~~~~~~~~~~~~~~~~~~\n",
      "./src/utils.c:426:22: note: length computed here\n",
      "  426 |     strncpy(copy, s, strlen(s)+1);\n",
      "      |                      ^~~~~~~~~\n",
      "In function ‘copy_string’,\n",
      "    inlined from ‘parse_csv_line’ at ./src/utils.c:439:28:\n",
      "./src/utils.c:426:5: warning: ‘strncpy’ specified bound depends on the length of the source argument [-Wstringop-overflow=]\n",
      "  426 |     strncpy(copy, s, strlen(s)+1);\n",
      "      |     ^~~~~~~~~~~~~~~~~~~~~~~~~~~~~\n",
      "./src/utils.c: In function ‘parse_csv_line’:\n",
      "./src/utils.c:426:22: note: length computed here\n",
      "  426 |     strncpy(copy, s, strlen(s)+1);\n",
      "      |                      ^~~~~~~~~\n",
      "In function ‘copy_string’,\n",
      "    inlined from ‘parse_csv_line’ at ./src/utils.c:443:20:\n",
      "./src/utils.c:426:5: warning: ‘strncpy’ specified bound depends on the length of the source argument [-Wstringop-overflow=]\n",
      "  426 |     strncpy(copy, s, strlen(s)+1);\n",
      "      |     ^~~~~~~~~~~~~~~~~~~~~~~~~~~~~\n",
      "./src/utils.c: In function ‘parse_csv_line’:\n",
      "./src/utils.c:426:22: note: length computed here\n",
      "  426 |     strncpy(copy, s, strlen(s)+1);\n",
      "      |                      ^~~~~~~~~\n"
     ]
    },
    {
     "name": "stdout",
     "output_type": "stream",
     "text": [
      "aarch64-none-linux-gnu-gcc -Iinclude/ -Isrc/ -Wall -Wno-unused-result -Wno-unknown-pragmas -Wfatal-errors -static -Ofast -fno-tree-vectorize -DNNPACK -DFT8 -c ./src/cuda.c -o obj/cuda.o\n",
      "aarch64-none-linux-gnu-gcc -Iinclude/ -Isrc/ -Wall -Wno-unused-result -Wno-unknown-pragmas -Wfatal-errors -static -Ofast -fno-tree-vectorize -DNNPACK -DFT8 -c ./src/deconvolutional_layer.c -o obj/deconvolutional_layer.o\n",
      "aarch64-none-linux-gnu-gcc -Iinclude/ -Isrc/ -Wall -Wno-unused-result -Wno-unknown-pragmas -Wfatal-errors -static -Ofast -fno-tree-vectorize -DNNPACK -DFT8 -c ./src/convolutional_layer.c -o obj/convolutional_layer.o\n",
      "aarch64-none-linux-gnu-gcc -Iinclude/ -Isrc/ -Wall -Wno-unused-result -Wno-unknown-pragmas -Wfatal-errors -static -Ofast -fno-tree-vectorize -DNNPACK -DFT8 -c ./src/list.c -o obj/list.o\n",
      "aarch64-none-linux-gnu-gcc -Iinclude/ -Isrc/ -Wall -Wno-unused-result -Wno-unknown-pragmas -Wfatal-errors -static -Ofast -fno-tree-vectorize -DNNPACK -DFT8 -c ./src/image.c -o obj/image.o\n",
      "aarch64-none-linux-gnu-gcc -Iinclude/ -Isrc/ -Wall -Wno-unused-result -Wno-unknown-pragmas -Wfatal-errors -static -Ofast -fno-tree-vectorize -DNNPACK -DFT8 -c ./src/activations.c -o obj/activations.o\n",
      "aarch64-none-linux-gnu-gcc -Iinclude/ -Isrc/ -Wall -Wno-unused-result -Wno-unknown-pragmas -Wfatal-errors -static -Ofast -fno-tree-vectorize -DNNPACK -DFT8 -c ./src/im2col.c -o obj/im2col.o\n",
      "aarch64-none-linux-gnu-gcc -Iinclude/ -Isrc/ -Wall -Wno-unused-result -Wno-unknown-pragmas -Wfatal-errors -static -Ofast -fno-tree-vectorize -DNNPACK -DFT8 -c ./src/col2im.c -o obj/col2im.o\n",
      "aarch64-none-linux-gnu-gcc -Iinclude/ -Isrc/ -Wall -Wno-unused-result -Wno-unknown-pragmas -Wfatal-errors -static -Ofast -fno-tree-vectorize -DNNPACK -DFT8 -c ./src/blas.c -o obj/blas.o\n",
      "aarch64-none-linux-gnu-gcc -Iinclude/ -Isrc/ -Wall -Wno-unused-result -Wno-unknown-pragmas -Wfatal-errors -static -Ofast -fno-tree-vectorize -DNNPACK -DFT8 -c ./src/crop_layer.c -o obj/crop_layer.o\n",
      "aarch64-none-linux-gnu-gcc -Iinclude/ -Isrc/ -Wall -Wno-unused-result -Wno-unknown-pragmas -Wfatal-errors -static -Ofast -fno-tree-vectorize -DNNPACK -DFT8 -c ./src/dropout_layer.c -o obj/dropout_layer.o\n",
      "aarch64-none-linux-gnu-gcc -Iinclude/ -Isrc/ -Wall -Wno-unused-result -Wno-unknown-pragmas -Wfatal-errors -static -Ofast -fno-tree-vectorize -DNNPACK -DFT8 -c ./src/maxpool_layer.c -o obj/maxpool_layer.o\n",
      "aarch64-none-linux-gnu-gcc -Iinclude/ -Isrc/ -Wall -Wno-unused-result -Wno-unknown-pragmas -Wfatal-errors -static -Ofast -fno-tree-vectorize -DNNPACK -DFT8 -c ./src/softmax_layer.c -o obj/softmax_layer.o\n",
      "aarch64-none-linux-gnu-gcc -Iinclude/ -Isrc/ -Wall -Wno-unused-result -Wno-unknown-pragmas -Wfatal-errors -static -Ofast -fno-tree-vectorize -DNNPACK -DFT8 -c ./src/data.c -o obj/data.o\n",
      "aarch64-none-linux-gnu-gcc -Iinclude/ -Isrc/ -Wall -Wno-unused-result -Wno-unknown-pragmas -Wfatal-errors -static -Ofast -fno-tree-vectorize -DNNPACK -DFT8 -c ./src/matrix.c -o obj/matrix.o\n",
      "aarch64-none-linux-gnu-gcc -Iinclude/ -Isrc/ -Wall -Wno-unused-result -Wno-unknown-pragmas -Wfatal-errors -static -Ofast -fno-tree-vectorize -DNNPACK -DFT8 -c ./src/network.c -o obj/network.o\n",
      "aarch64-none-linux-gnu-gcc -Iinclude/ -Isrc/ -Wall -Wno-unused-result -Wno-unknown-pragmas -Wfatal-errors -static -Ofast -fno-tree-vectorize -DNNPACK -DFT8 -c ./src/connected_layer.c -o obj/connected_layer.o\n",
      "aarch64-none-linux-gnu-gcc -Iinclude/ -Isrc/ -Wall -Wno-unused-result -Wno-unknown-pragmas -Wfatal-errors -static -Ofast -fno-tree-vectorize -DNNPACK -DFT8 -c ./src/cost_layer.c -o obj/cost_layer.o\n",
      "aarch64-none-linux-gnu-gcc -Iinclude/ -Isrc/ -Wall -Wno-unused-result -Wno-unknown-pragmas -Wfatal-errors -static -Ofast -fno-tree-vectorize -DNNPACK -DFT8 -c ./src/parser.c -o obj/parser.o\n",
      "aarch64-none-linux-gnu-gcc -Iinclude/ -Isrc/ -Wall -Wno-unused-result -Wno-unknown-pragmas -Wfatal-errors -static -Ofast -fno-tree-vectorize -DNNPACK -DFT8 -c ./src/option_list.c -o obj/option_list.o\n",
      "aarch64-none-linux-gnu-gcc -Iinclude/ -Isrc/ -Wall -Wno-unused-result -Wno-unknown-pragmas -Wfatal-errors -static -Ofast -fno-tree-vectorize -DNNPACK -DFT8 -c ./src/detection_layer.c -o obj/detection_layer.o\n",
      "aarch64-none-linux-gnu-gcc -Iinclude/ -Isrc/ -Wall -Wno-unused-result -Wno-unknown-pragmas -Wfatal-errors -static -Ofast -fno-tree-vectorize -DNNPACK -DFT8 -c ./src/route_layer.c -o obj/route_layer.o\n",
      "aarch64-none-linux-gnu-gcc -Iinclude/ -Isrc/ -Wall -Wno-unused-result -Wno-unknown-pragmas -Wfatal-errors -static -Ofast -fno-tree-vectorize -DNNPACK -DFT8 -c ./src/upsample_layer.c -o obj/upsample_layer.o\n",
      "aarch64-none-linux-gnu-gcc -Iinclude/ -Isrc/ -Wall -Wno-unused-result -Wno-unknown-pragmas -Wfatal-errors -static -Ofast -fno-tree-vectorize -DNNPACK -DFT8 -c ./src/box.c -o obj/box.o\n",
      "aarch64-none-linux-gnu-gcc -Iinclude/ -Isrc/ -Wall -Wno-unused-result -Wno-unknown-pragmas -Wfatal-errors -static -Ofast -fno-tree-vectorize -DNNPACK -DFT8 -c ./src/normalization_layer.c -o obj/normalization_layer.o\n",
      "aarch64-none-linux-gnu-gcc -Iinclude/ -Isrc/ -Wall -Wno-unused-result -Wno-unknown-pragmas -Wfatal-errors -static -Ofast -fno-tree-vectorize -DNNPACK -DFT8 -c ./src/avgpool_layer.c -o obj/avgpool_layer.o\n",
      "aarch64-none-linux-gnu-gcc -Iinclude/ -Isrc/ -Wall -Wno-unused-result -Wno-unknown-pragmas -Wfatal-errors -static -Ofast -fno-tree-vectorize -DNNPACK -DFT8 -c ./src/layer.c -o obj/layer.o\n",
      "aarch64-none-linux-gnu-gcc -Iinclude/ -Isrc/ -Wall -Wno-unused-result -Wno-unknown-pragmas -Wfatal-errors -static -Ofast -fno-tree-vectorize -DNNPACK -DFT8 -c ./src/local_layer.c -o obj/local_layer.o\n",
      "aarch64-none-linux-gnu-gcc -Iinclude/ -Isrc/ -Wall -Wno-unused-result -Wno-unknown-pragmas -Wfatal-errors -static -Ofast -fno-tree-vectorize -DNNPACK -DFT8 -c ./src/shortcut_layer.c -o obj/shortcut_layer.o\n",
      "aarch64-none-linux-gnu-gcc -Iinclude/ -Isrc/ -Wall -Wno-unused-result -Wno-unknown-pragmas -Wfatal-errors -static -Ofast -fno-tree-vectorize -DNNPACK -DFT8 -c ./src/logistic_layer.c -o obj/logistic_layer.o\n",
      "aarch64-none-linux-gnu-gcc -Iinclude/ -Isrc/ -Wall -Wno-unused-result -Wno-unknown-pragmas -Wfatal-errors -static -Ofast -fno-tree-vectorize -DNNPACK -DFT8 -c ./src/activation_layer.c -o obj/activation_layer.o\n",
      "aarch64-none-linux-gnu-gcc -Iinclude/ -Isrc/ -Wall -Wno-unused-result -Wno-unknown-pragmas -Wfatal-errors -static -Ofast -fno-tree-vectorize -DNNPACK -DFT8 -c ./src/rnn_layer.c -o obj/rnn_layer.o\n",
      "aarch64-none-linux-gnu-gcc -Iinclude/ -Isrc/ -Wall -Wno-unused-result -Wno-unknown-pragmas -Wfatal-errors -static -Ofast -fno-tree-vectorize -DNNPACK -DFT8 -c ./src/gru_layer.c -o obj/gru_layer.o\n",
      "aarch64-none-linux-gnu-gcc -Iinclude/ -Isrc/ -Wall -Wno-unused-result -Wno-unknown-pragmas -Wfatal-errors -static -Ofast -fno-tree-vectorize -DNNPACK -DFT8 -c ./src/crnn_layer.c -o obj/crnn_layer.o\n",
      "aarch64-none-linux-gnu-gcc -Iinclude/ -Isrc/ -Wall -Wno-unused-result -Wno-unknown-pragmas -Wfatal-errors -static -Ofast -fno-tree-vectorize -DNNPACK -DFT8 -c ./src/demo.c -o obj/demo.o\n",
      "aarch64-none-linux-gnu-gcc -Iinclude/ -Isrc/ -Wall -Wno-unused-result -Wno-unknown-pragmas -Wfatal-errors -static -Ofast -fno-tree-vectorize -DNNPACK -DFT8 -c ./src/batchnorm_layer.c -o obj/batchnorm_layer.o\n",
      "aarch64-none-linux-gnu-gcc -Iinclude/ -Isrc/ -Wall -Wno-unused-result -Wno-unknown-pragmas -Wfatal-errors -static -Ofast -fno-tree-vectorize -DNNPACK -DFT8 -c ./src/region_layer.c -o obj/region_layer.o\n",
      "aarch64-none-linux-gnu-gcc -Iinclude/ -Isrc/ -Wall -Wno-unused-result -Wno-unknown-pragmas -Wfatal-errors -static -Ofast -fno-tree-vectorize -DNNPACK -DFT8 -c ./src/reorg_layer.c -o obj/reorg_layer.o\n",
      "aarch64-none-linux-gnu-gcc -Iinclude/ -Isrc/ -Wall -Wno-unused-result -Wno-unknown-pragmas -Wfatal-errors -static -Ofast -fno-tree-vectorize -DNNPACK -DFT8 -c ./src/tree.c -o obj/tree.o\n",
      "aarch64-none-linux-gnu-gcc -Iinclude/ -Isrc/ -Wall -Wno-unused-result -Wno-unknown-pragmas -Wfatal-errors -static -Ofast -fno-tree-vectorize -DNNPACK -DFT8 -c ./src/lstm_layer.c -o obj/lstm_layer.o\n",
      "aarch64-none-linux-gnu-gcc -Iinclude/ -Isrc/ -Wall -Wno-unused-result -Wno-unknown-pragmas -Wfatal-errors -static -Ofast -fno-tree-vectorize -DNNPACK -DFT8 -c ./src/l2norm_layer.c -o obj/l2norm_layer.o\n",
      "aarch64-none-linux-gnu-gcc -Iinclude/ -Isrc/ -Wall -Wno-unused-result -Wno-unknown-pragmas -Wfatal-errors -static -Ofast -fno-tree-vectorize -DNNPACK -DFT8 -c ./src/yolo_layer.c -o obj/yolo_layer.o\n"
     ]
    },
    {
     "name": "stdout",
     "output_type": "stream",
     "text": [
      "aarch64-none-linux-gnu-gcc -Iinclude/ -Isrc/ -Wall -Wno-unused-result -Wno-unknown-pragmas -Wfatal-errors -static -Ofast -fno-tree-vectorize -DNNPACK -DFT8 -c ./src/iseg_layer.c -o obj/iseg_layer.o\n",
      "aarch64-none-linux-gnu-g++ -Iinclude/ -Isrc/ -Wall -Wno-unused-result -Wno-unknown-pragmas -Wfatal-errors -static -Ofast -fno-tree-vectorize -DNNPACK -DFT8 -c ./src/image_opencv.cpp -o obj/image_opencv.o\n",
      "ar rcs libdarknet.a obj/gemm.o obj/utils.o obj/cuda.o obj/deconvolutional_layer.o obj/convolutional_layer.o obj/list.o obj/image.o obj/activations.o obj/im2col.o obj/col2im.o obj/blas.o obj/crop_layer.o obj/dropout_layer.o obj/maxpool_layer.o obj/softmax_layer.o obj/data.o obj/matrix.o obj/network.o obj/connected_layer.o obj/cost_layer.o obj/parser.o obj/option_list.o obj/detection_layer.o obj/route_layer.o obj/upsample_layer.o obj/box.o obj/normalization_layer.o obj/avgpool_layer.o obj/layer.o obj/local_layer.o obj/shortcut_layer.o obj/logistic_layer.o obj/activation_layer.o obj/rnn_layer.o obj/gru_layer.o obj/crnn_layer.o obj/demo.o obj/batchnorm_layer.o obj/region_layer.o obj/reorg_layer.o obj/tree.o obj/lstm_layer.o obj/l2norm_layer.o obj/yolo_layer.o obj/iseg_layer.o obj/image_opencv.o\n",
      "aarch64-none-linux-gnu-gcc -Iinclude/ -Isrc/ -Wall -Wno-unused-result -Wno-unknown-pragmas -Wfatal-errors -static -Ofast -fno-tree-vectorize -DNNPACK -DFT8 -c ./examples/captcha.c -o obj/captcha.o\n",
      "aarch64-none-linux-gnu-gcc -Iinclude/ -Isrc/ -Wall -Wno-unused-result -Wno-unknown-pragmas -Wfatal-errors -static -Ofast -fno-tree-vectorize -DNNPACK -DFT8 -c ./examples/lsd.c -o obj/lsd.o\n",
      "aarch64-none-linux-gnu-gcc -Iinclude/ -Isrc/ -Wall -Wno-unused-result -Wno-unknown-pragmas -Wfatal-errors -static -Ofast -fno-tree-vectorize -DNNPACK -DFT8 -c ./examples/super.c -o obj/super.o\n",
      "aarch64-none-linux-gnu-gcc -Iinclude/ -Isrc/ -Wall -Wno-unused-result -Wno-unknown-pragmas -Wfatal-errors -static -Ofast -fno-tree-vectorize -DNNPACK -DFT8 -c ./examples/art.c -o obj/art.o\n",
      "aarch64-none-linux-gnu-gcc -Iinclude/ -Isrc/ -Wall -Wno-unused-result -Wno-unknown-pragmas -Wfatal-errors -static -Ofast -fno-tree-vectorize -DNNPACK -DFT8 -c ./examples/tag.c -o obj/tag.o\n",
      "aarch64-none-linux-gnu-gcc -Iinclude/ -Isrc/ -Wall -Wno-unused-result -Wno-unknown-pragmas -Wfatal-errors -static -Ofast -fno-tree-vectorize -DNNPACK -DFT8 -c ./examples/cifar.c -o obj/cifar.o\n",
      "aarch64-none-linux-gnu-gcc -Iinclude/ -Isrc/ -Wall -Wno-unused-result -Wno-unknown-pragmas -Wfatal-errors -static -Ofast -fno-tree-vectorize -DNNPACK -DFT8 -c ./examples/go.c -o obj/go.o\n",
      "aarch64-none-linux-gnu-gcc -Iinclude/ -Isrc/ -Wall -Wno-unused-result -Wno-unknown-pragmas -Wfatal-errors -static -Ofast -fno-tree-vectorize -DNNPACK -DFT8 -c ./examples/rnn.c -o obj/rnn.o\n",
      "aarch64-none-linux-gnu-gcc -Iinclude/ -Isrc/ -Wall -Wno-unused-result -Wno-unknown-pragmas -Wfatal-errors -static -Ofast -fno-tree-vectorize -DNNPACK -DFT8 -c ./examples/segmenter.c -o obj/segmenter.o\n",
      "aarch64-none-linux-gnu-gcc -Iinclude/ -Isrc/ -Wall -Wno-unused-result -Wno-unknown-pragmas -Wfatal-errors -static -Ofast -fno-tree-vectorize -DNNPACK -DFT8 -c ./examples/regressor.c -o obj/regressor.o\n",
      "aarch64-none-linux-gnu-gcc -Iinclude/ -Isrc/ -Wall -Wno-unused-result -Wno-unknown-pragmas -Wfatal-errors -static -Ofast -fno-tree-vectorize -DNNPACK -DFT8 -c ./examples/classifier.c -o obj/classifier.o\n",
      "aarch64-none-linux-gnu-gcc -Iinclude/ -Isrc/ -Wall -Wno-unused-result -Wno-unknown-pragmas -Wfatal-errors -static -Ofast -fno-tree-vectorize -DNNPACK -DFT8 -c ./examples/coco.c -o obj/coco.o\n",
      "aarch64-none-linux-gnu-gcc -Iinclude/ -Isrc/ -Wall -Wno-unused-result -Wno-unknown-pragmas -Wfatal-errors -static -Ofast -fno-tree-vectorize -DNNPACK -DFT8 -c ./examples/yolo.c -o obj/yolo.o\n",
      "aarch64-none-linux-gnu-gcc -Iinclude/ -Isrc/ -Wall -Wno-unused-result -Wno-unknown-pragmas -Wfatal-errors -static -Ofast -fno-tree-vectorize -DNNPACK -DFT8 -c ./examples/detector.c -o obj/detector.o\n",
      "aarch64-none-linux-gnu-gcc -Iinclude/ -Isrc/ -Wall -Wno-unused-result -Wno-unknown-pragmas -Wfatal-errors -static -Ofast -fno-tree-vectorize -DNNPACK -DFT8 -c ./examples/nightmare.c -o obj/nightmare.o\n",
      "aarch64-none-linux-gnu-gcc -Iinclude/ -Isrc/ -Wall -Wno-unused-result -Wno-unknown-pragmas -Wfatal-errors -static -Ofast -fno-tree-vectorize -DNNPACK -DFT8 -c ./examples/instance-segmenter.c -o obj/instance-segmenter.o\n",
      "aarch64-none-linux-gnu-gcc -Iinclude/ -Isrc/ -Wall -Wno-unused-result -Wno-unknown-pragmas -Wfatal-errors -static -Ofast -fno-tree-vectorize -DNNPACK -DFT8 -c ./examples/darknet.c -o obj/darknet.o\n",
      "aarch64-none-linux-gnu-gcc -Iinclude/ -Isrc/ -Wall -Wno-unused-result -Wno-unknown-pragmas -Wfatal-errors -static -Ofast -fno-tree-vectorize -DNNPACK -DFT8 -c ./examples/test.c -o obj/test.o\n",
      "aarch64-none-linux-gnu-gcc -Iinclude/ -Isrc/ -Wall -Wno-unused-result -Wno-unknown-pragmas -Wfatal-errors -static -Ofast -fno-tree-vectorize -DNNPACK -DFT8 obj/captcha.o obj/lsd.o obj/super.o obj/art.o obj/tag.o obj/cifar.o obj/go.o obj/rnn.o obj/segmenter.o obj/regressor.o obj/classifier.o obj/coco.o obj/yolo.o obj/detector.o obj/nightmare.o obj/instance-segmenter.o obj/darknet.o obj/test.o libdarknet.a -o darknet -lm -pthread -L/home/fft_vec/arm-deps/usr/local/lib -l:libnnpack.a -l:libpthreadpool.a -l:libcpuinfo.a -l:libclog.a libdarknet.a\n",
      "/home/fft_vec/gem5/build/ARM/gem5.opt --outdir=./bench/build-ARM-gem5-opt/bench_yolo-tiny/FT8/64MB/ /home/fft_vec/gem5/configs/example/se.py --cpu-clock=2GHz --l1d_size=64kB --l1i_size=16kB --caches --output=stdout.txt  --errout=stderr.txt --l2_size=64MB --l2cache -c \"./darknet\" --options \"bench_yolo-tiny\"\n",
      "\n",
      "\n"
     ]
    },
    {
     "name": "stderr",
     "output_type": "stream",
     "text": [
      "warn: The `get_runtime_isa` function is deprecated. Please migrate away from using this function.\n",
      "warn: The `get_runtime_isa` function is deprecated. Please migrate away from using this function.\n",
      "warn: No dot file generated. Please install pydot to generate the dot file and pdf.\n",
      "build/ARM/mem/dram_interface.cc:690: warn: DRAM device capacity (8192 Mbytes) does not match the address range assigned (512 Mbytes)\n",
      "build/ARM/base/remote_gdb.cc:416: warn: Sockets disabled, not accepting gdb connections\n",
      "build/ARM/sim/simulate.cc:192: info: Entering event queue @ 0.  Starting simulation...\n",
      "build/ARM/sim/syscall_emul.cc:74: warn: ignoring syscall set_robust_list(...)\n",
      "build/ARM/sim/syscall_emul.cc:74: warn: ignoring syscall rt_sigaction(...)\n",
      "build/ARM/sim/syscall_emul.cc:74: warn: ignoring syscall rt_sigaction(...)\n",
      "build/ARM/sim/syscall_emul.cc:85: warn: ignoring syscall rt_sigprocmask(...)\n",
      "      (further warnings will be suppressed)\n",
      "build/ARM/arch/arm/insts/pseudo.cc:172: warn: \tinstruction 'bti' unimplemented\n",
      "build/ARM/sim/mem_state.cc:443: info: Increasing stack size by one page.\n",
      "build/ARM/sim/syscall_emul.cc:74: warn: ignoring syscall mprotect(...)\n",
      "build/ARM/sim/mem_state.cc:443: info: Increasing stack size by one page.\n"
     ]
    },
    {
     "name": "stdout",
     "output_type": "stream",
     "text": [
      "Global frequency set at 1000000000000 ticks per second\n",
      "gem5 Simulator System.  https://www.gem5.org\n",
      "gem5 is copyrighted software; use the --copyright option for details.\n",
      "\n",
      "gem5 version 22.1.0.0\n",
      "gem5 compiled Jan 26 2023 15:06:33\n",
      "gem5 started Feb 23 2023 00:55:45\n",
      "gem5 executing on aldy, pid 1453436\n",
      "command line: /home/fft_vec/gem5/build/ARM/gem5.opt --outdir=./bench/build-ARM-gem5-opt/bench_yolo-tiny/FT8/64MB/ /home/fft_vec/gem5/configs/example/se.py --cpu-clock=2GHz --l1d_size=64kB --l1i_size=16kB --caches --output=stdout.txt --errout=stderr.txt --l2_size=64MB --l2cache -c ./darknet --options bench_yolo-tiny\n",
      "\n",
      "info: Standard input is not a terminal, disabling listeners.\n",
      "**** REAL SIMULATION ****\n"
     ]
    },
    {
     "name": "stderr",
     "output_type": "stream",
     "text": [
      "build/ARM/sim/mem_state.cc:443: info: Increasing stack size by one page.\n",
      "build/ARM/sim/mem_state.cc:443: info: Increasing stack size by one page.\n"
     ]
    },
    {
     "name": "stdout",
     "output_type": "stream",
     "text": [
      "Exiting @ tick 2453573921000 because exiting with last active thread context\n",
      "['./bench/build-ARM-gem5-opt/bench_yolo-tiny/FT8/64MB/']\n",
      "reading data from file:  ./bench/build-ARM-gem5-opt/bench_yolo-tiny/FT8/64MB/stats.txt \n",
      " \n",
      "[[('simTicks', 2453573921000)]]\n",
      "([[('simTicks', 1191142848500)]], ['./bench/build-ARM-gem5-opt/bench_yolo-tiny/NO_PREDICT_NPP/64MB/'])\n",
      "run whitout prediction--..:  [[('simTicks', 1191142848500)]]\n",
      "complete run--..:  [[('simTicks', 2453573921000)]]\n",
      "[1262431072500]\n",
      "['64MB']\n"
     ]
    },
    {
     "data": {
      "image/png": "[encoded data removed]",
      "text/plain": [
       "<Figure size 640x480 with 1 Axes>"
      ]
     },
     "metadata": {},
     "output_type": "display_data"
    },
    {
     "data": {
      "text/plain": [
       "(['./bench/build-ARM-gem5-opt/bench_yolo-tiny/FT8/64MB/'],\n",
       " [[('simTicks', 2453573921000)]])"
      ]
     },
     "execution_count": 33,
     "metadata": {},
     "output_type": "execute_result"
    }
   ],
   "source": [
    "ft8R_s = runandPlot(Program.NNPACK_FT8,yolo ,chaceOptions, chaceSizes, setup_s)\n",
    "ft8R_s"
   ]
  },
  {
   "cell_type": "code",
   "execution_count": 35,
   "id": "cdf4aae8",
   "metadata": {},
   "outputs": [
    {
     "name": "stdout",
     "output_type": "stream",
     "text": [
      "\n",
      " make clean; make NNPACK=1 FT16=1 CC=aarch64-none-linux-gnu-gcc CPP=aarch64-none-linux-gnu-g++ \n",
      "\n",
      "rm -rf ./obj/gemm.o ./obj/utils.o ./obj/cuda.o ./obj/deconvolutional_layer.o ./obj/convolutional_layer.o ./obj/list.o ./obj/image.o ./obj/activations.o ./obj/im2col.o ./obj/col2im.o ./obj/blas.o ./obj/crop_layer.o ./obj/dropout_layer.o ./obj/maxpool_layer.o ./obj/softmax_layer.o ./obj/data.o ./obj/matrix.o ./obj/network.o ./obj/connected_layer.o ./obj/cost_layer.o ./obj/parser.o ./obj/option_list.o ./obj/detection_layer.o ./obj/route_layer.o ./obj/upsample_layer.o ./obj/box.o ./obj/normalization_layer.o ./obj/avgpool_layer.o ./obj/layer.o ./obj/local_layer.o ./obj/shortcut_layer.o ./obj/logistic_layer.o ./obj/activation_layer.o ./obj/rnn_layer.o ./obj/gru_layer.o ./obj/crnn_layer.o ./obj/demo.o ./obj/batchnorm_layer.o ./obj/region_layer.o ./obj/reorg_layer.o ./obj/tree.o ./obj/lstm_layer.o ./obj/l2norm_layer.o ./obj/yolo_layer.o ./obj/iseg_layer.o ./obj/image_opencv.o libdarknet.so libdarknet.a darknet ./obj/captcha.o ./obj/lsd.o ./obj/super.o ./obj/art.o ./obj/tag.o ./obj/cifar.o ./obj/go.o ./obj/rnn.o ./obj/segmenter.o ./obj/regressor.o ./obj/classifier.o ./obj/coco.o ./obj/yolo.o ./obj/detector.o ./obj/nightmare.o ./obj/instance-segmenter.o ./obj/darknet.o ./obj/test.o ./obj//*\n",
      "NNPACK=1\n",
      "FT16=1\n",
      "CPP=aarch64-none-linux-gnu-g++\n",
      "CC=aarch64-none-linux-gnu-gcc\n",
      "aarch64-none-linux-gnu-gcc -Iinclude/ -Isrc/ -Wall -Wno-unused-result -Wno-unknown-pragmas -Wfatal-errors -static -Ofast -fno-tree-vectorize -DNNPACK -DFT16 -c ./src/gemm.c -o obj/gemm.o\n",
      "aarch64-none-linux-gnu-gcc -Iinclude/ -Isrc/ -Wall -Wno-unused-result -Wno-unknown-pragmas -Wfatal-errors -static -Ofast -fno-tree-vectorize -DNNPACK -DFT16 -c ./src/utils.c -o obj/utils.o\n"
     ]
    },
    {
     "name": "stderr",
     "output_type": "stream",
     "text": [
      "In function ‘copy_string’,\n",
      "    inlined from ‘basecfg’ at ./src/utils.c:187:9:\n",
      "./src/utils.c:426:5: warning: ‘strncpy’ specified bound depends on the length of the source argument [-Wstringop-overflow=]\n",
      "  426 |     strncpy(copy, s, strlen(s)+1);\n",
      "      |     ^~~~~~~~~~~~~~~~~~~~~~~~~~~~~\n",
      "./src/utils.c: In function ‘basecfg’:\n",
      "./src/utils.c:426:22: note: length computed here\n",
      "  426 |     strncpy(copy, s, strlen(s)+1);\n",
      "      |                      ^~~~~~~~~\n",
      "./src/utils.c: In function ‘copy_string’:\n",
      "./src/utils.c:426:5: warning: ‘strncpy’ specified bound depends on the length of the source argument [-Wstringop-overflow=]\n",
      "  426 |     strncpy(copy, s, strlen(s)+1);\n",
      "      |     ^~~~~~~~~~~~~~~~~~~~~~~~~~~~~\n",
      "./src/utils.c:426:22: note: length computed here\n",
      "  426 |     strncpy(copy, s, strlen(s)+1);\n",
      "      |                      ^~~~~~~~~\n",
      "In function ‘copy_string’,\n",
      "    inlined from ‘parse_csv_line’ at ./src/utils.c:439:28:\n",
      "./src/utils.c:426:5: warning: ‘strncpy’ specified bound depends on the length of the source argument [-Wstringop-overflow=]\n",
      "  426 |     strncpy(copy, s, strlen(s)+1);\n",
      "      |     ^~~~~~~~~~~~~~~~~~~~~~~~~~~~~\n",
      "./src/utils.c: In function ‘parse_csv_line’:\n",
      "./src/utils.c:426:22: note: length computed here\n",
      "  426 |     strncpy(copy, s, strlen(s)+1);\n",
      "      |                      ^~~~~~~~~\n",
      "In function ‘copy_string’,\n",
      "    inlined from ‘parse_csv_line’ at ./src/utils.c:443:20:\n",
      "./src/utils.c:426:5: warning: ‘strncpy’ specified bound depends on the length of the source argument [-Wstringop-overflow=]\n",
      "  426 |     strncpy(copy, s, strlen(s)+1);\n",
      "      |     ^~~~~~~~~~~~~~~~~~~~~~~~~~~~~\n",
      "./src/utils.c: In function ‘parse_csv_line’:\n",
      "./src/utils.c:426:22: note: length computed here\n",
      "  426 |     strncpy(copy, s, strlen(s)+1);\n",
      "      |                      ^~~~~~~~~\n"
     ]
    },
    {
     "name": "stdout",
     "output_type": "stream",
     "text": [
      "aarch64-none-linux-gnu-gcc -Iinclude/ -Isrc/ -Wall -Wno-unused-result -Wno-unknown-pragmas -Wfatal-errors -static -Ofast -fno-tree-vectorize -DNNPACK -DFT16 -c ./src/cuda.c -o obj/cuda.o\n",
      "aarch64-none-linux-gnu-gcc -Iinclude/ -Isrc/ -Wall -Wno-unused-result -Wno-unknown-pragmas -Wfatal-errors -static -Ofast -fno-tree-vectorize -DNNPACK -DFT16 -c ./src/deconvolutional_layer.c -o obj/deconvolutional_layer.o\n",
      "aarch64-none-linux-gnu-gcc -Iinclude/ -Isrc/ -Wall -Wno-unused-result -Wno-unknown-pragmas -Wfatal-errors -static -Ofast -fno-tree-vectorize -DNNPACK -DFT16 -c ./src/convolutional_layer.c -o obj/convolutional_layer.o\n",
      "aarch64-none-linux-gnu-gcc -Iinclude/ -Isrc/ -Wall -Wno-unused-result -Wno-unknown-pragmas -Wfatal-errors -static -Ofast -fno-tree-vectorize -DNNPACK -DFT16 -c ./src/list.c -o obj/list.o\n",
      "aarch64-none-linux-gnu-gcc -Iinclude/ -Isrc/ -Wall -Wno-unused-result -Wno-unknown-pragmas -Wfatal-errors -static -Ofast -fno-tree-vectorize -DNNPACK -DFT16 -c ./src/image.c -o obj/image.o\n",
      "aarch64-none-linux-gnu-gcc -Iinclude/ -Isrc/ -Wall -Wno-unused-result -Wno-unknown-pragmas -Wfatal-errors -static -Ofast -fno-tree-vectorize -DNNPACK -DFT16 -c ./src/activations.c -o obj/activations.o\n",
      "aarch64-none-linux-gnu-gcc -Iinclude/ -Isrc/ -Wall -Wno-unused-result -Wno-unknown-pragmas -Wfatal-errors -static -Ofast -fno-tree-vectorize -DNNPACK -DFT16 -c ./src/im2col.c -o obj/im2col.o\n",
      "aarch64-none-linux-gnu-gcc -Iinclude/ -Isrc/ -Wall -Wno-unused-result -Wno-unknown-pragmas -Wfatal-errors -static -Ofast -fno-tree-vectorize -DNNPACK -DFT16 -c ./src/col2im.c -o obj/col2im.o\n",
      "aarch64-none-linux-gnu-gcc -Iinclude/ -Isrc/ -Wall -Wno-unused-result -Wno-unknown-pragmas -Wfatal-errors -static -Ofast -fno-tree-vectorize -DNNPACK -DFT16 -c ./src/blas.c -o obj/blas.o\n",
      "aarch64-none-linux-gnu-gcc -Iinclude/ -Isrc/ -Wall -Wno-unused-result -Wno-unknown-pragmas -Wfatal-errors -static -Ofast -fno-tree-vectorize -DNNPACK -DFT16 -c ./src/crop_layer.c -o obj/crop_layer.o\n",
      "aarch64-none-linux-gnu-gcc -Iinclude/ -Isrc/ -Wall -Wno-unused-result -Wno-unknown-pragmas -Wfatal-errors -static -Ofast -fno-tree-vectorize -DNNPACK -DFT16 -c ./src/dropout_layer.c -o obj/dropout_layer.o\n",
      "aarch64-none-linux-gnu-gcc -Iinclude/ -Isrc/ -Wall -Wno-unused-result -Wno-unknown-pragmas -Wfatal-errors -static -Ofast -fno-tree-vectorize -DNNPACK -DFT16 -c ./src/maxpool_layer.c -o obj/maxpool_layer.o\n",
      "aarch64-none-linux-gnu-gcc -Iinclude/ -Isrc/ -Wall -Wno-unused-result -Wno-unknown-pragmas -Wfatal-errors -static -Ofast -fno-tree-vectorize -DNNPACK -DFT16 -c ./src/softmax_layer.c -o obj/softmax_layer.o\n",
      "aarch64-none-linux-gnu-gcc -Iinclude/ -Isrc/ -Wall -Wno-unused-result -Wno-unknown-pragmas -Wfatal-errors -static -Ofast -fno-tree-vectorize -DNNPACK -DFT16 -c ./src/data.c -o obj/data.o\n",
      "aarch64-none-linux-gnu-gcc -Iinclude/ -Isrc/ -Wall -Wno-unused-result -Wno-unknown-pragmas -Wfatal-errors -static -Ofast -fno-tree-vectorize -DNNPACK -DFT16 -c ./src/matrix.c -o obj/matrix.o\n",
      "aarch64-none-linux-gnu-gcc -Iinclude/ -Isrc/ -Wall -Wno-unused-result -Wno-unknown-pragmas -Wfatal-errors -static -Ofast -fno-tree-vectorize -DNNPACK -DFT16 -c ./src/network.c -o obj/network.o\n",
      "aarch64-none-linux-gnu-gcc -Iinclude/ -Isrc/ -Wall -Wno-unused-result -Wno-unknown-pragmas -Wfatal-errors -static -Ofast -fno-tree-vectorize -DNNPACK -DFT16 -c ./src/connected_layer.c -o obj/connected_layer.o\n",
      "aarch64-none-linux-gnu-gcc -Iinclude/ -Isrc/ -Wall -Wno-unused-result -Wno-unknown-pragmas -Wfatal-errors -static -Ofast -fno-tree-vectorize -DNNPACK -DFT16 -c ./src/cost_layer.c -o obj/cost_layer.o\n",
      "aarch64-none-linux-gnu-gcc -Iinclude/ -Isrc/ -Wall -Wno-unused-result -Wno-unknown-pragmas -Wfatal-errors -static -Ofast -fno-tree-vectorize -DNNPACK -DFT16 -c ./src/parser.c -o obj/parser.o\n",
      "aarch64-none-linux-gnu-gcc -Iinclude/ -Isrc/ -Wall -Wno-unused-result -Wno-unknown-pragmas -Wfatal-errors -static -Ofast -fno-tree-vectorize -DNNPACK -DFT16 -c ./src/option_list.c -o obj/option_list.o\n",
      "aarch64-none-linux-gnu-gcc -Iinclude/ -Isrc/ -Wall -Wno-unused-result -Wno-unknown-pragmas -Wfatal-errors -static -Ofast -fno-tree-vectorize -DNNPACK -DFT16 -c ./src/detection_layer.c -o obj/detection_layer.o\n",
      "aarch64-none-linux-gnu-gcc -Iinclude/ -Isrc/ -Wall -Wno-unused-result -Wno-unknown-pragmas -Wfatal-errors -static -Ofast -fno-tree-vectorize -DNNPACK -DFT16 -c ./src/route_layer.c -o obj/route_layer.o\n",
      "aarch64-none-linux-gnu-gcc -Iinclude/ -Isrc/ -Wall -Wno-unused-result -Wno-unknown-pragmas -Wfatal-errors -static -Ofast -fno-tree-vectorize -DNNPACK -DFT16 -c ./src/upsample_layer.c -o obj/upsample_layer.o\n",
      "aarch64-none-linux-gnu-gcc -Iinclude/ -Isrc/ -Wall -Wno-unused-result -Wno-unknown-pragmas -Wfatal-errors -static -Ofast -fno-tree-vectorize -DNNPACK -DFT16 -c ./src/box.c -o obj/box.o\n",
      "aarch64-none-linux-gnu-gcc -Iinclude/ -Isrc/ -Wall -Wno-unused-result -Wno-unknown-pragmas -Wfatal-errors -static -Ofast -fno-tree-vectorize -DNNPACK -DFT16 -c ./src/normalization_layer.c -o obj/normalization_layer.o\n",
      "aarch64-none-linux-gnu-gcc -Iinclude/ -Isrc/ -Wall -Wno-unused-result -Wno-unknown-pragmas -Wfatal-errors -static -Ofast -fno-tree-vectorize -DNNPACK -DFT16 -c ./src/avgpool_layer.c -o obj/avgpool_layer.o\n",
      "aarch64-none-linux-gnu-gcc -Iinclude/ -Isrc/ -Wall -Wno-unused-result -Wno-unknown-pragmas -Wfatal-errors -static -Ofast -fno-tree-vectorize -DNNPACK -DFT16 -c ./src/layer.c -o obj/layer.o\n",
      "aarch64-none-linux-gnu-gcc -Iinclude/ -Isrc/ -Wall -Wno-unused-result -Wno-unknown-pragmas -Wfatal-errors -static -Ofast -fno-tree-vectorize -DNNPACK -DFT16 -c ./src/local_layer.c -o obj/local_layer.o\n",
      "aarch64-none-linux-gnu-gcc -Iinclude/ -Isrc/ -Wall -Wno-unused-result -Wno-unknown-pragmas -Wfatal-errors -static -Ofast -fno-tree-vectorize -DNNPACK -DFT16 -c ./src/shortcut_layer.c -o obj/shortcut_layer.o\n",
      "aarch64-none-linux-gnu-gcc -Iinclude/ -Isrc/ -Wall -Wno-unused-result -Wno-unknown-pragmas -Wfatal-errors -static -Ofast -fno-tree-vectorize -DNNPACK -DFT16 -c ./src/logistic_layer.c -o obj/logistic_layer.o\n",
      "aarch64-none-linux-gnu-gcc -Iinclude/ -Isrc/ -Wall -Wno-unused-result -Wno-unknown-pragmas -Wfatal-errors -static -Ofast -fno-tree-vectorize -DNNPACK -DFT16 -c ./src/activation_layer.c -o obj/activation_layer.o\n",
      "aarch64-none-linux-gnu-gcc -Iinclude/ -Isrc/ -Wall -Wno-unused-result -Wno-unknown-pragmas -Wfatal-errors -static -Ofast -fno-tree-vectorize -DNNPACK -DFT16 -c ./src/rnn_layer.c -o obj/rnn_layer.o\n",
      "aarch64-none-linux-gnu-gcc -Iinclude/ -Isrc/ -Wall -Wno-unused-result -Wno-unknown-pragmas -Wfatal-errors -static -Ofast -fno-tree-vectorize -DNNPACK -DFT16 -c ./src/gru_layer.c -o obj/gru_layer.o\n",
      "aarch64-none-linux-gnu-gcc -Iinclude/ -Isrc/ -Wall -Wno-unused-result -Wno-unknown-pragmas -Wfatal-errors -static -Ofast -fno-tree-vectorize -DNNPACK -DFT16 -c ./src/crnn_layer.c -o obj/crnn_layer.o\n",
      "aarch64-none-linux-gnu-gcc -Iinclude/ -Isrc/ -Wall -Wno-unused-result -Wno-unknown-pragmas -Wfatal-errors -static -Ofast -fno-tree-vectorize -DNNPACK -DFT16 -c ./src/demo.c -o obj/demo.o\n",
      "aarch64-none-linux-gnu-gcc -Iinclude/ -Isrc/ -Wall -Wno-unused-result -Wno-unknown-pragmas -Wfatal-errors -static -Ofast -fno-tree-vectorize -DNNPACK -DFT16 -c ./src/batchnorm_layer.c -o obj/batchnorm_layer.o\n",
      "aarch64-none-linux-gnu-gcc -Iinclude/ -Isrc/ -Wall -Wno-unused-result -Wno-unknown-pragmas -Wfatal-errors -static -Ofast -fno-tree-vectorize -DNNPACK -DFT16 -c ./src/region_layer.c -o obj/region_layer.o\n",
      "aarch64-none-linux-gnu-gcc -Iinclude/ -Isrc/ -Wall -Wno-unused-result -Wno-unknown-pragmas -Wfatal-errors -static -Ofast -fno-tree-vectorize -DNNPACK -DFT16 -c ./src/reorg_layer.c -o obj/reorg_layer.o\n",
      "aarch64-none-linux-gnu-gcc -Iinclude/ -Isrc/ -Wall -Wno-unused-result -Wno-unknown-pragmas -Wfatal-errors -static -Ofast -fno-tree-vectorize -DNNPACK -DFT16 -c ./src/tree.c -o obj/tree.o\n",
      "aarch64-none-linux-gnu-gcc -Iinclude/ -Isrc/ -Wall -Wno-unused-result -Wno-unknown-pragmas -Wfatal-errors -static -Ofast -fno-tree-vectorize -DNNPACK -DFT16 -c ./src/lstm_layer.c -o obj/lstm_layer.o\n",
      "aarch64-none-linux-gnu-gcc -Iinclude/ -Isrc/ -Wall -Wno-unused-result -Wno-unknown-pragmas -Wfatal-errors -static -Ofast -fno-tree-vectorize -DNNPACK -DFT16 -c ./src/l2norm_layer.c -o obj/l2norm_layer.o\n",
      "aarch64-none-linux-gnu-gcc -Iinclude/ -Isrc/ -Wall -Wno-unused-result -Wno-unknown-pragmas -Wfatal-errors -static -Ofast -fno-tree-vectorize -DNNPACK -DFT16 -c ./src/yolo_layer.c -o obj/yolo_layer.o\n"
     ]
    },
    {
     "name": "stdout",
     "output_type": "stream",
     "text": [
      "aarch64-none-linux-gnu-gcc -Iinclude/ -Isrc/ -Wall -Wno-unused-result -Wno-unknown-pragmas -Wfatal-errors -static -Ofast -fno-tree-vectorize -DNNPACK -DFT16 -c ./src/iseg_layer.c -o obj/iseg_layer.o\n",
      "aarch64-none-linux-gnu-g++ -Iinclude/ -Isrc/ -Wall -Wno-unused-result -Wno-unknown-pragmas -Wfatal-errors -static -Ofast -fno-tree-vectorize -DNNPACK -DFT16 -c ./src/image_opencv.cpp -o obj/image_opencv.o\n",
      "ar rcs libdarknet.a obj/gemm.o obj/utils.o obj/cuda.o obj/deconvolutional_layer.o obj/convolutional_layer.o obj/list.o obj/image.o obj/activations.o obj/im2col.o obj/col2im.o obj/blas.o obj/crop_layer.o obj/dropout_layer.o obj/maxpool_layer.o obj/softmax_layer.o obj/data.o obj/matrix.o obj/network.o obj/connected_layer.o obj/cost_layer.o obj/parser.o obj/option_list.o obj/detection_layer.o obj/route_layer.o obj/upsample_layer.o obj/box.o obj/normalization_layer.o obj/avgpool_layer.o obj/layer.o obj/local_layer.o obj/shortcut_layer.o obj/logistic_layer.o obj/activation_layer.o obj/rnn_layer.o obj/gru_layer.o obj/crnn_layer.o obj/demo.o obj/batchnorm_layer.o obj/region_layer.o obj/reorg_layer.o obj/tree.o obj/lstm_layer.o obj/l2norm_layer.o obj/yolo_layer.o obj/iseg_layer.o obj/image_opencv.o\n",
      "aarch64-none-linux-gnu-gcc -Iinclude/ -Isrc/ -Wall -Wno-unused-result -Wno-unknown-pragmas -Wfatal-errors -static -Ofast -fno-tree-vectorize -DNNPACK -DFT16 -c ./examples/captcha.c -o obj/captcha.o\n",
      "aarch64-none-linux-gnu-gcc -Iinclude/ -Isrc/ -Wall -Wno-unused-result -Wno-unknown-pragmas -Wfatal-errors -static -Ofast -fno-tree-vectorize -DNNPACK -DFT16 -c ./examples/lsd.c -o obj/lsd.o\n",
      "aarch64-none-linux-gnu-gcc -Iinclude/ -Isrc/ -Wall -Wno-unused-result -Wno-unknown-pragmas -Wfatal-errors -static -Ofast -fno-tree-vectorize -DNNPACK -DFT16 -c ./examples/super.c -o obj/super.o\n",
      "aarch64-none-linux-gnu-gcc -Iinclude/ -Isrc/ -Wall -Wno-unused-result -Wno-unknown-pragmas -Wfatal-errors -static -Ofast -fno-tree-vectorize -DNNPACK -DFT16 -c ./examples/art.c -o obj/art.o\n",
      "aarch64-none-linux-gnu-gcc -Iinclude/ -Isrc/ -Wall -Wno-unused-result -Wno-unknown-pragmas -Wfatal-errors -static -Ofast -fno-tree-vectorize -DNNPACK -DFT16 -c ./examples/tag.c -o obj/tag.o\n",
      "aarch64-none-linux-gnu-gcc -Iinclude/ -Isrc/ -Wall -Wno-unused-result -Wno-unknown-pragmas -Wfatal-errors -static -Ofast -fno-tree-vectorize -DNNPACK -DFT16 -c ./examples/cifar.c -o obj/cifar.o\n",
      "aarch64-none-linux-gnu-gcc -Iinclude/ -Isrc/ -Wall -Wno-unused-result -Wno-unknown-pragmas -Wfatal-errors -static -Ofast -fno-tree-vectorize -DNNPACK -DFT16 -c ./examples/go.c -o obj/go.o\n",
      "aarch64-none-linux-gnu-gcc -Iinclude/ -Isrc/ -Wall -Wno-unused-result -Wno-unknown-pragmas -Wfatal-errors -static -Ofast -fno-tree-vectorize -DNNPACK -DFT16 -c ./examples/rnn.c -o obj/rnn.o\n",
      "aarch64-none-linux-gnu-gcc -Iinclude/ -Isrc/ -Wall -Wno-unused-result -Wno-unknown-pragmas -Wfatal-errors -static -Ofast -fno-tree-vectorize -DNNPACK -DFT16 -c ./examples/segmenter.c -o obj/segmenter.o\n",
      "aarch64-none-linux-gnu-gcc -Iinclude/ -Isrc/ -Wall -Wno-unused-result -Wno-unknown-pragmas -Wfatal-errors -static -Ofast -fno-tree-vectorize -DNNPACK -DFT16 -c ./examples/regressor.c -o obj/regressor.o\n",
      "aarch64-none-linux-gnu-gcc -Iinclude/ -Isrc/ -Wall -Wno-unused-result -Wno-unknown-pragmas -Wfatal-errors -static -Ofast -fno-tree-vectorize -DNNPACK -DFT16 -c ./examples/classifier.c -o obj/classifier.o\n",
      "aarch64-none-linux-gnu-gcc -Iinclude/ -Isrc/ -Wall -Wno-unused-result -Wno-unknown-pragmas -Wfatal-errors -static -Ofast -fno-tree-vectorize -DNNPACK -DFT16 -c ./examples/coco.c -o obj/coco.o\n",
      "aarch64-none-linux-gnu-gcc -Iinclude/ -Isrc/ -Wall -Wno-unused-result -Wno-unknown-pragmas -Wfatal-errors -static -Ofast -fno-tree-vectorize -DNNPACK -DFT16 -c ./examples/yolo.c -o obj/yolo.o\n",
      "aarch64-none-linux-gnu-gcc -Iinclude/ -Isrc/ -Wall -Wno-unused-result -Wno-unknown-pragmas -Wfatal-errors -static -Ofast -fno-tree-vectorize -DNNPACK -DFT16 -c ./examples/detector.c -o obj/detector.o\n",
      "aarch64-none-linux-gnu-gcc -Iinclude/ -Isrc/ -Wall -Wno-unused-result -Wno-unknown-pragmas -Wfatal-errors -static -Ofast -fno-tree-vectorize -DNNPACK -DFT16 -c ./examples/nightmare.c -o obj/nightmare.o\n",
      "aarch64-none-linux-gnu-gcc -Iinclude/ -Isrc/ -Wall -Wno-unused-result -Wno-unknown-pragmas -Wfatal-errors -static -Ofast -fno-tree-vectorize -DNNPACK -DFT16 -c ./examples/instance-segmenter.c -o obj/instance-segmenter.o\n",
      "aarch64-none-linux-gnu-gcc -Iinclude/ -Isrc/ -Wall -Wno-unused-result -Wno-unknown-pragmas -Wfatal-errors -static -Ofast -fno-tree-vectorize -DNNPACK -DFT16 -c ./examples/darknet.c -o obj/darknet.o\n",
      "aarch64-none-linux-gnu-gcc -Iinclude/ -Isrc/ -Wall -Wno-unused-result -Wno-unknown-pragmas -Wfatal-errors -static -Ofast -fno-tree-vectorize -DNNPACK -DFT16 -c ./examples/test.c -o obj/test.o\n",
      "aarch64-none-linux-gnu-gcc -Iinclude/ -Isrc/ -Wall -Wno-unused-result -Wno-unknown-pragmas -Wfatal-errors -static -Ofast -fno-tree-vectorize -DNNPACK -DFT16 obj/captcha.o obj/lsd.o obj/super.o obj/art.o obj/tag.o obj/cifar.o obj/go.o obj/rnn.o obj/segmenter.o obj/regressor.o obj/classifier.o obj/coco.o obj/yolo.o obj/detector.o obj/nightmare.o obj/instance-segmenter.o obj/darknet.o obj/test.o libdarknet.a -o darknet -lm -pthread -L/home/fft_vec/arm-deps/usr/local/lib -l:libnnpack.a -l:libpthreadpool.a -l:libcpuinfo.a -l:libclog.a libdarknet.a\n",
      "/home/fft_vec/gem5/build/ARM/gem5.opt --outdir=./bench/build-ARM-gem5-opt/bench_yolo-tiny/FT16/64MB/ /home/fft_vec/gem5/configs/example/se.py --cpu-clock=2GHz --l1d_size=64kB --l1i_size=16kB --caches --output=stdout.txt  --errout=stderr.txt --l2_size=64MB --l2cache -c \"./darknet\" --options \"bench_yolo-tiny\"\n",
      "\n",
      "\n"
     ]
    },
    {
     "name": "stderr",
     "output_type": "stream",
     "text": [
      "warn: The `get_runtime_isa` function is deprecated. Please migrate away from using this function.\n",
      "warn: The `get_runtime_isa` function is deprecated. Please migrate away from using this function.\n",
      "warn: No dot file generated. Please install pydot to generate the dot file and pdf.\n",
      "build/ARM/mem/dram_interface.cc:690: warn: DRAM device capacity (8192 Mbytes) does not match the address range assigned (512 Mbytes)\n",
      "build/ARM/base/remote_gdb.cc:416: warn: Sockets disabled, not accepting gdb connections\n",
      "build/ARM/sim/simulate.cc:192: info: Entering event queue @ 0.  Starting simulation...\n",
      "build/ARM/sim/syscall_emul.cc:74: warn: ignoring syscall set_robust_list(...)\n",
      "build/ARM/sim/syscall_emul.cc:74: warn: ignoring syscall rt_sigaction(...)\n",
      "build/ARM/sim/syscall_emul.cc:74: warn: ignoring syscall rt_sigaction(...)\n",
      "build/ARM/sim/syscall_emul.cc:85: warn: ignoring syscall rt_sigprocmask(...)\n",
      "      (further warnings will be suppressed)\n",
      "build/ARM/arch/arm/insts/pseudo.cc:172: warn: \tinstruction 'bti' unimplemented\n",
      "build/ARM/sim/mem_state.cc:443: info: Increasing stack size by one page.\n",
      "build/ARM/sim/syscall_emul.cc:74: warn: ignoring syscall mprotect(...)\n",
      "build/ARM/sim/mem_state.cc:443: info: Increasing stack size by one page.\n"
     ]
    },
    {
     "name": "stdout",
     "output_type": "stream",
     "text": [
      "Global frequency set at 1000000000000 ticks per second\n",
      "gem5 Simulator System.  https://www.gem5.org\n",
      "gem5 is copyrighted software; use the --copyright option for details.\n",
      "\n",
      "gem5 version 22.1.0.0\n",
      "gem5 compiled Jan 26 2023 15:06:33\n",
      "gem5 started Feb 23 2023 02:42:51\n",
      "gem5 executing on aldy, pid 1826258\n",
      "command line: /home/fft_vec/gem5/build/ARM/gem5.opt --outdir=./bench/build-ARM-gem5-opt/bench_yolo-tiny/FT16/64MB/ /home/fft_vec/gem5/configs/example/se.py --cpu-clock=2GHz --l1d_size=64kB --l1i_size=16kB --caches --output=stdout.txt --errout=stderr.txt --l2_size=64MB --l2cache -c ./darknet --options bench_yolo-tiny\n",
      "\n",
      "info: Standard input is not a terminal, disabling listeners.\n",
      "**** REAL SIMULATION ****\n"
     ]
    },
    {
     "name": "stderr",
     "output_type": "stream",
     "text": [
      "build/ARM/sim/mem_state.cc:443: info: Increasing stack size by one page.\n",
      "build/ARM/sim/mem_state.cc:443: info: Increasing stack size by one page.\n"
     ]
    },
    {
     "name": "stdout",
     "output_type": "stream",
     "text": [
      "['./bench/build-ARM-gem5-opt/bench_yolo-tiny/FT16/64MB/']\n",
      "reading data from file:  ./bench/build-ARM-gem5-opt/bench_yolo-tiny/FT16/64MB/stats.txt \n",
      " \n",
      "[[]]\n",
      "([[('simTicks', 1191142848500)]], ['./bench/build-ARM-gem5-opt/bench_yolo-tiny/NO_PREDICT_NPP/64MB/'])\n",
      "run whitout prediction--..:  [[('simTicks', 1191142848500)]]\n",
      "complete run--..:  [[]]\n"
     ]
    },
    {
     "name": "stderr",
     "output_type": "stream",
     "text": [
      "build/ARM/sim/mem_pool.cc:120: fatal: fatal condition freePages() <= 0 occurred: Out of memory, please increase size of physical memory.\n",
      "Memory Usage: 1032240 KBytes\n"
     ]
    },
    {
     "ename": "IndexError",
     "evalue": "list index out of range",
     "output_type": "error",
     "traceback": [
      "\u001b[0;31m---------------------------------------------------------------------------\u001b[0m",
      "\u001b[0;31mIndexError\u001b[0m                                Traceback (most recent call last)",
      "Cell \u001b[0;32mIn[35], line 1\u001b[0m\n\u001b[0;32m----> 1\u001b[0m ft16R_s \u001b[38;5;241m=\u001b[39m \u001b[43mrunandPlot\u001b[49m\u001b[43m(\u001b[49m\u001b[43mProgram\u001b[49m\u001b[38;5;241;43m.\u001b[39;49m\u001b[43mNNPACK_FT16\u001b[49m\u001b[43m,\u001b[49m\u001b[43myolo\u001b[49m\u001b[43m \u001b[49m\u001b[43m,\u001b[49m\u001b[43mchaceOptions\u001b[49m\u001b[43m,\u001b[49m\u001b[43m \u001b[49m\u001b[43mchaceSizes\u001b[49m\u001b[43m,\u001b[49m\u001b[43m \u001b[49m\u001b[43msetup_s\u001b[49m\u001b[43m)\u001b[49m\n\u001b[1;32m      2\u001b[0m ft16R_s\n",
      "Cell \u001b[0;32mIn[21], line 10\u001b[0m, in \u001b[0;36mrunandPlot\u001b[0;34m(program, benchmark_to_run, options, tags, setup_costs)\u001b[0m\n\u001b[1;32m      7\u001b[0m \u001b[38;5;28mprint\u001b[39m(data)\n\u001b[1;32m      8\u001b[0m \u001b[38;5;28mprint\u001b[39m(setup_costs)\n\u001b[0;32m---> 10\u001b[0m \u001b[43mplotChaceVsCycle\u001b[49m\u001b[43m(\u001b[49m\u001b[43mtags\u001b[49m\u001b[43m[\u001b[49m\u001b[43m:\u001b[49m\u001b[43m:\u001b[49m\u001b[38;5;241;43m-\u001b[39;49m\u001b[38;5;241;43m1\u001b[39;49m\u001b[43m]\u001b[49m\u001b[43m,\u001b[49m\u001b[43mdata\u001b[49m\u001b[43m[\u001b[49m\u001b[43m:\u001b[49m\u001b[43m:\u001b[49m\u001b[38;5;241;43m-\u001b[39;49m\u001b[38;5;241;43m1\u001b[39;49m\u001b[43m]\u001b[49m\u001b[43m,\u001b[49m\u001b[43m \u001b[49m\u001b[43msetup_costs\u001b[49m\u001b[43m[\u001b[49m\u001b[38;5;241;43m0\u001b[39;49m\u001b[43m]\u001b[49m\u001b[43m[\u001b[49m\u001b[43m:\u001b[49m\u001b[43m:\u001b[49m\u001b[38;5;241;43m-\u001b[39;49m\u001b[38;5;241;43m1\u001b[39;49m\u001b[43m]\u001b[49m\u001b[43m)\u001b[49m\n\u001b[1;32m     11\u001b[0m \u001b[38;5;28;01mreturn\u001b[39;00m(out,data)\n",
      "Cell \u001b[0;32mIn[20], line 6\u001b[0m, in \u001b[0;36mplotChaceVsCycle\u001b[0;34m(chaces, data, setupcosts)\u001b[0m\n\u001b[1;32m      4\u001b[0m \u001b[38;5;28mprint\u001b[39m(\u001b[38;5;124m\"\u001b[39m\u001b[38;5;124mcomplete run--..: \u001b[39m\u001b[38;5;124m\"\u001b[39m, data)\n\u001b[1;32m      5\u001b[0m \u001b[38;5;28;01mfor\u001b[39;00m i \u001b[38;5;129;01min\u001b[39;00m \u001b[38;5;28mrange\u001b[39m(\u001b[38;5;28mlen\u001b[39m(data)):\n\u001b[0;32m----> 6\u001b[0m     cycles\u001b[38;5;241m.\u001b[39mappend(\u001b[43mdata\u001b[49m\u001b[43m[\u001b[49m\u001b[43mi\u001b[49m\u001b[43m]\u001b[49m\u001b[43m[\u001b[49m\u001b[38;5;241;43m0\u001b[39;49m\u001b[43m]\u001b[49m[\u001b[38;5;241m1\u001b[39m] \u001b[38;5;241m-\u001b[39m setupcosts[i][\u001b[38;5;241m0\u001b[39m][\u001b[38;5;241m1\u001b[39m])\n\u001b[1;32m      8\u001b[0m fig \u001b[38;5;241m=\u001b[39m plt\u001b[38;5;241m.\u001b[39mfigure()\n\u001b[1;32m      9\u001b[0m ax \u001b[38;5;241m=\u001b[39m fig\u001b[38;5;241m.\u001b[39madd_axes([\u001b[38;5;241m0\u001b[39m,\u001b[38;5;241m0\u001b[39m,\u001b[38;5;241m1\u001b[39m,\u001b[38;5;241m1\u001b[39m])\n",
      "\u001b[0;31mIndexError\u001b[0m: list index out of range"
     ]
    }
   ],
   "source": [
    "ft16R_s = runandPlot(Program.NNPACK_FT16,yolo ,chaceOptions, chaceSizes, setup_s)\n",
    "ft16R_s"
   ]
  },
  {
   "cell_type": "code",
   "execution_count": 42,
   "id": "42f79653",
   "metadata": {},
   "outputs": [],
   "source": [
    "def plot_stuff():\n",
    "    k = 1191142848500\n",
    "    Result = [2614409150500-k,1873947392500-k,2453573921000-k]\n",
    "    alg = ['gemm','wt','fft8']\n",
    "    \n",
    "    fig = plt.figure()\n",
    "    ax = fig.add_axes([0,0,1,1])\n",
    "    print(Result)\n",
    "    print(alg)\n",
    "    ax.bar(alg,Result)\n",
    "    plt.show()\n",
    "    \n",
    "def plot_rel_stuff():\n",
    "    k = 1191142848500\n",
    "    Result = [(2614409150500-k)/(2453573921000-k),(1873947392500-k)/(2453573921000-k),(2453573921000-k)/(2453573921000-k)]\n",
    "    alg = ['gemm','wt','fft8']\n",
    "    \n",
    "    fig = plt.figure()\n",
    "    ax = fig.add_axes([0,0,1,1])\n",
    "    print(Result)\n",
    "    print(alg)\n",
    "    ax.bar(alg,Result)\n",
    "    plt.show()"
   ]
  },
  {
   "cell_type": "markdown",
   "id": "b9aaf644",
   "metadata": {},
   "source": [
    "# GEM5 yolo-tiny cycles comparison"
   ]
  },
  {
   "cell_type": "code",
   "execution_count": 43,
   "id": "20d5f406",
   "metadata": {},
   "outputs": [
    {
     "name": "stdout",
     "output_type": "stream",
     "text": [
      "[1423266302000, 682804544000, 1262431072500]\n",
      "['gemm', 'wt', 'fft8']\n"
     ]
    },
    {
     "data": {
      "image/png": "[encoded data removed]",
      "text/plain": [
       "<Figure size 640x480 with 1 Axes>"
      ]
     },
     "metadata": {},
     "output_type": "display_data"
    }
   ],
   "source": [
    "plot_stuff()"
   ]
  },
  {
   "cell_type": "markdown",
   "id": "4251ee86",
   "metadata": {},
   "source": [
    "# GEM5 yolo-tiny cycles comparison relative to FT8"
   ]
  },
  {
   "cell_type": "code",
   "execution_count": 44,
   "id": "5e99017f",
   "metadata": {},
   "outputs": [
    {
     "name": "stdout",
     "output_type": "stream",
     "text": [
      "[1.1274011967889044, 0.5408648114529041, 1.0]\n",
      "['gemm', 'wt', 'fft8']\n"
     ]
    },
    {
     "data": {
      "image/png": "[encoded data removed]",
      "text/plain": [
       "<Figure size 640x480 with 1 Axes>"
      ]
     },
     "metadata": {},
     "output_type": "display_data"
    }
   ],
   "source": [
    "plot_rel_stuff()"
   ]
  }
 ],
 "metadata": {
  "kernelspec": {
   "display_name": "Python 3 (ipykernel)",
   "language": "python",
   "name": "python3"
  },
  "language_info": {
   "codemirror_mode": {
    "name": "ipython",
    "version": 3
   },
   "file_extension": ".py",
   "mimetype": "text/x-python",
   "name": "python",
   "nbconvert_exporter": "python",
   "pygments_lexer": "ipython3",
   "version": "3.10.6"
  }
 },
 "nbformat": 4,
 "nbformat_minor": 5
}
